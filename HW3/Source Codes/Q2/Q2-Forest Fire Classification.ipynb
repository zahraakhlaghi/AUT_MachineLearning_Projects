{
 "cells": [
  {
   "cell_type": "code",
   "execution_count": 73,
   "id": "6f1ab93a",
   "metadata": {},
   "outputs": [],
   "source": [
    "import glob\n",
    "import cv2\n",
    "import numpy as np"
   ]
  },
  {
   "cell_type": "markdown",
   "id": "e8f49916",
   "metadata": {},
   "source": [
    "# a)"
   ]
  },
  {
   "cell_type": "code",
   "execution_count": 74,
   "id": "0891ec96",
   "metadata": {},
   "outputs": [],
   "source": [
    "fire_images = glob.glob(\"./fire_dataset/fire_images/*\")\n",
    "no_fire_images = glob.glob(\"./fire_dataset/non_fire_images/*\")"
   ]
  },
  {
   "cell_type": "code",
   "execution_count": 75,
   "id": "e398c6c3",
   "metadata": {},
   "outputs": [],
   "source": [
    "target_size = (64, 64)"
   ]
  },
  {
   "cell_type": "code",
   "execution_count": 76,
   "id": "91dce650",
   "metadata": {},
   "outputs": [],
   "source": [
    "def preprocess_img(filepath):\n",
    "    \n",
    "    img = cv2.imread(filepath)\n",
    "    \n",
    "    img = cv2.resize(img,target_size)\n",
    "\n",
    "    img_array = np.array(img)\n",
    "    \n",
    "    img_array = img_array / 255.0\n",
    "    \n",
    "    return img_array"
   ]
  },
  {
   "cell_type": "code",
   "execution_count": 77,
   "id": "4f80c54a",
   "metadata": {},
   "outputs": [],
   "source": [
    "images = []\n",
    "labels = []"
   ]
  },
  {
   "cell_type": "code",
   "execution_count": 78,
   "id": "149f6e0b",
   "metadata": {},
   "outputs": [],
   "source": [
    "for path in fire_images:\n",
    "    \n",
    "    img_array = preprocess_img(path)\n",
    "    label = 1\n",
    "    \n",
    "    images.append(img_array)\n",
    "    labels.append(label)"
   ]
  },
  {
   "cell_type": "code",
   "execution_count": 79,
   "id": "64612e60",
   "metadata": {},
   "outputs": [],
   "source": [
    "for path in no_fire_images:\n",
    "    \n",
    "    img_array = preprocess_img(path)\n",
    "    label = 0\n",
    "    \n",
    "    images.append(img_array)\n",
    "    labels.append(label)"
   ]
  },
  {
   "cell_type": "code",
   "execution_count": 80,
   "id": "7699a128",
   "metadata": {},
   "outputs": [],
   "source": [
    "images = np.array(images)\n",
    "labels = np.array(labels)"
   ]
  },
  {
   "cell_type": "markdown",
   "id": "db8801d6",
   "metadata": {},
   "source": [
    "# b)"
   ]
  },
  {
   "cell_type": "code",
   "execution_count": 81,
   "id": "772c5b9e",
   "metadata": {},
   "outputs": [],
   "source": [
    "from sklearn.model_selection import train_test_split\n",
    "\n",
    "\n",
    "train_images, test_images, train_labels, test_labels = train_test_split(images, labels, test_size=0.2, random_state=42)"
   ]
  },
  {
   "cell_type": "markdown",
   "id": "f99aac77",
   "metadata": {},
   "source": [
    "# c)"
   ]
  },
  {
   "cell_type": "code",
   "execution_count": 82,
   "id": "90c04900",
   "metadata": {},
   "outputs": [
    {
     "name": "stderr",
     "output_type": "stream",
     "text": [
      "/usr/local/lib/python3.10/dist-packages/sklearn/linear_model/_logistic.py:458: ConvergenceWarning: lbfgs failed to converge (status=1):\n",
      "STOP: TOTAL NO. of ITERATIONS REACHED LIMIT.\n",
      "\n",
      "Increase the number of iterations (max_iter) or scale the data as shown in:\n",
      "    https://scikit-learn.org/stable/modules/preprocessing.html\n",
      "Please also refer to the documentation for alternative solver options:\n",
      "    https://scikit-learn.org/stable/modules/linear_model.html#logistic-regression\n",
      "  n_iter_i = _check_optimize_result(\n"
     ]
    }
   ],
   "source": [
    "from sklearn.linear_model import LogisticRegression\n",
    "\n",
    "logreg = LogisticRegression()\n",
    "\n",
    "X_train_reshape = train_images.reshape(train_images.shape[0], -1)\n",
    "X_test_reshape = test_images.reshape(test_images.shape[0], -1)\n",
    "\n",
    "logreg.fit(X_train_reshape, train_labels)\n",
    "y_pred = logreg.predict(X_test_reshape)"
   ]
  },
  {
   "cell_type": "markdown",
   "id": "153bc289",
   "metadata": {},
   "source": [
    "# d)"
   ]
  },
  {
   "cell_type": "code",
   "execution_count": 83,
   "id": "ad65de1f",
   "metadata": {},
   "outputs": [
    {
     "name": "stdout",
     "output_type": "stream",
     "text": [
      "Accuracy: 0.92\n",
      "Precision: 0.9113924050632911\n",
      "Recall: 0.9863013698630136\n",
      "F1 score: 0.9473684210526315\n",
      "confusion_matrix:\n",
      " [[ 40  14]\n",
      " [  2 144]]\n"
     ]
    }
   ],
   "source": [
    "from sklearn.metrics import accuracy_score, precision_score, recall_score, f1_score,confusion_matrix\n",
    "\n",
    "accuracy = accuracy_score(test_labels, y_pred)\n",
    "precision = precision_score(test_labels, y_pred)\n",
    "recall = recall_score(test_labels, y_pred)\n",
    "f1_score = f1_score(test_labels, y_pred)\n",
    "conf_mat = confusion_matrix(test_labels, y_pred)\n",
    "\n",
    "\n",
    "# Print the metrics\n",
    "print(f\"Accuracy: {accuracy}\")\n",
    "print(f\"Precision: {precision}\")\n",
    "print(f\"Recall: {recall}\")\n",
    "print(f\"F1 score: {f1_score}\")\n",
    "print(f\"confusion_matrix:\\n {conf_mat}\")"
   ]
  },
  {
   "cell_type": "markdown",
   "id": "ecb9ce20",
   "metadata": {},
   "source": [
    "# e)"
   ]
  },
  {
   "cell_type": "code",
   "execution_count": 84,
   "id": "ff7036be",
   "metadata": {},
   "outputs": [],
   "source": [
    "test_probs = logreg.predict_proba(X_test_reshape)[:, 1]\n",
    "\n",
    "best_accuracy = 0\n",
    "best_threshold = 0\n",
    "for threshold in np.linspace(0, 1, 101):\n",
    "    predicted_labels = (test_probs >= threshold).astype(int)\n",
    "    accuracy = accuracy_score(test_labels, predicted_labels)\n",
    "    if accuracy > best_accuracy:\n",
    "        best_accuracy = accuracy\n",
    "        best_threshold = threshold\n",
    "\n",
    "predicted_labels = (test_probs >= best_threshold).astype(int)"
   ]
  },
  {
   "cell_type": "code",
   "execution_count": 85,
   "id": "83aeb197",
   "metadata": {},
   "outputs": [
    {
     "name": "stdout",
     "output_type": "stream",
     "text": [
      "Best threshold: 0.92\n",
      "Accuracy: 0.95\n",
      "Precision: 0.9594594594594594\n",
      "Recall: 0.9726027397260274\n",
      "confusion_matrix:\n",
      " [[ 48   6]\n",
      " [  4 142]]\n"
     ]
    }
   ],
   "source": [
    "test_accuracy = accuracy_score(test_labels, predicted_labels)\n",
    "test_precision = precision_score(test_labels, predicted_labels)\n",
    "test_recall = recall_score(test_labels, predicted_labels)\n",
    "test_conf_mat = confusion_matrix(test_labels, predicted_labels)\n",
    "\n",
    "# Print the metrics\n",
    "print(\"Best threshold:\", best_threshold)\n",
    "print(f\"Accuracy: {test_accuracy}\")\n",
    "print(f\"Precision: {test_precision}\")\n",
    "print(f\"Recall: {test_recall}\")\n",
    "print(f\"confusion_matrix:\\n {test_conf_mat}\")"
   ]
  },
  {
   "cell_type": "markdown",
   "id": "e2655d5f",
   "metadata": {},
   "source": [
    "# f)"
   ]
  },
  {
   "cell_type": "code",
   "execution_count": 86,
   "id": "3dd15b5f",
   "metadata": {},
   "outputs": [],
   "source": [
    "import pickle\n",
    "\n",
    "with open('best_logreg_model.pkl', 'wb') as f:\n",
    "    pickle.dump(logreg, f)"
   ]
  },
  {
   "cell_type": "code",
   "execution_count": 87,
   "id": "b5fa5b52",
   "metadata": {},
   "outputs": [],
   "source": [
    "image_paths = [\"./fire_dataset/fire_images/*\",\n",
    "                   \"./fire_dataset/non_fire_images/*\"]"
   ]
  },
  {
   "cell_type": "code",
   "execution_count": 88,
   "id": "ed50dd72",
   "metadata": {},
   "outputs": [],
   "source": [
    "def predict_img(path,model, threshold):\n",
    "    img = preprocess_img(path)\n",
    "    prob = model.predict_proba(img.reshape(1, -1))[:, 1][0]\n",
    "    label = (prob >= threshold).astype(int)\n",
    "    return label, prob"
   ]
  },
  {
   "cell_type": "code",
   "execution_count": 89,
   "id": "1e9a11a1",
   "metadata": {},
   "outputs": [],
   "source": [
    "with open(\"best_logreg_model.pkl\", \"rb\") as f:\n",
    "    best_model = pickle.load(f)"
   ]
  },
  {
   "cell_type": "code",
   "execution_count": 90,
   "id": "be3ea17b",
   "metadata": {},
   "outputs": [],
   "source": [
    "import matplotlib.pyplot as plt\n",
    "\n",
    "def show_img(path , label, prob):\n",
    "    img = cv2.imread(path)\n",
    "    img = cv2.resize(img,(360,360))\n",
    "\n",
    "    if label == 1:\n",
    "        text = f\"Fire: {prob:.2f}\"\n",
    "        color = (0, 0, 255)  # Red\n",
    "    else:\n",
    "        text = f\"No Fire: {(1-prob):.2f}\"\n",
    "        color = (0, 255, 0)  # Green\n",
    "\n",
    "    cv2.putText(img, text, (10, 30), cv2.FONT_HERSHEY_SIMPLEX, 1, color, 2)\n",
    "    return img  "
   ]
  },
  {
   "cell_type": "code",
   "execution_count": 91,
   "id": "6be86549",
   "metadata": {},
   "outputs": [],
   "source": [
    "import os\n",
    "\n",
    "res_path = './result/'"
   ]
  },
  {
   "cell_type": "code",
   "execution_count": 92,
   "id": "4803e2d1",
   "metadata": {},
   "outputs": [],
   "source": [
    "indices = np.random.choice(len(fire_images), size=5)\n",
    "\n",
    "for index in indices:\n",
    "    label, prob = predict_img(fire_images[index], best_model, best_threshold)\n",
    "    img = show_img(fire_images[index],label, prob)\n",
    "    cv2.imwrite(os.path.join(res_path , f\"fire_{index}.jpg\"), img)\n",
    "    cv2.waitKey(0)"
   ]
  },
  {
   "cell_type": "code",
   "execution_count": 93,
   "id": "28f1d65e",
   "metadata": {},
   "outputs": [],
   "source": [
    "indices = np.random.choice(len(no_fire_images), size=5)\n",
    "\n",
    "for index in indices:\n",
    "    label, prob = predict_img(no_fire_images[index], best_model, best_threshold)\n",
    "    img = show_img(no_fire_images[index],label, prob)\n",
    "    cv2.imwrite(os.path.join(res_path , f\"no_fire_{index}.jpg\"), img)\n",
    "    cv2.waitKey(0)"
   ]
  }
 ],
 "metadata": {
  "kernelspec": {
   "display_name": "Python 3 (ipykernel)",
   "language": "python",
   "name": "python3"
  },
  "language_info": {
   "codemirror_mode": {
    "name": "ipython",
    "version": 3
   },
   "file_extension": ".py",
   "mimetype": "text/x-python",
   "name": "python",
   "nbconvert_exporter": "python",
   "pygments_lexer": "ipython3",
   "version": "3.10.6"
  }
 },
 "nbformat": 4,
 "nbformat_minor": 5
}
