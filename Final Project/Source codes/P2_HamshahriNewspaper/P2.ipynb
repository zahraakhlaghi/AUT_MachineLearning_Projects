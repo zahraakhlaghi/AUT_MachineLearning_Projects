{
 "cells": [
  {
   "cell_type": "code",
   "execution_count": null,
   "id": "1bb1d007",
   "metadata": {
    "id": "1bb1d007"
   },
   "outputs": [],
   "source": [
    "import pandas as pd"
   ]
  },
  {
   "cell_type": "markdown",
   "id": "792741eb",
   "metadata": {
    "id": "792741eb"
   },
   "source": [
    "## Step 2 - Data Loading"
   ]
  },
  {
   "cell_type": "code",
   "execution_count": null,
   "id": "78ab51c5",
   "metadata": {
    "id": "78ab51c5"
   },
   "outputs": [],
   "source": [
    "with open('Hamshahri-Corpus.txt', 'r') as file:\n",
    "    lines = file.readlines()"
   ]
  },
  {
   "cell_type": "code",
   "execution_count": null,
   "id": "03681244",
   "metadata": {
    "id": "03681244"
   },
   "outputs": [],
   "source": [
    "# Initialize empty lists for storing data\n",
    "data = []\n",
    "current_record = {}"
   ]
  },
  {
   "cell_type": "code",
   "execution_count": null,
   "id": "c4459b13",
   "metadata": {
    "id": "c4459b13"
   },
   "outputs": [],
   "source": [
    "# Process each line\n",
    "for line in lines:\n",
    "    line = line.strip()  # Remove leading/trailing whitespace\n",
    "\n",
    "    # Check for a new record\n",
    "    if line.startswith('.DID'):\n",
    "        if current_record:\n",
    "            data.append(current_record)  # Append the completed record\n",
    "            current_record = {}  # Start a new record\n",
    "\n",
    "        # Extract the value after \".DID\"\n",
    "        current_record['DID'] = line.split('\\t')[1]\n",
    "\n",
    "    # Extract the date value\n",
    "    elif line.startswith('.Date'):\n",
    "        current_record['Date'] = line.split('\\t')[1]\n",
    "\n",
    "    # Extract the category value\n",
    "    elif line.startswith('.Cat'):\n",
    "        current_record['Cat'] = line.split('\\t')[1]\n",
    "\n",
    "    # Append the line to the text data\n",
    "    else:\n",
    "        if 'Text' not in current_record:\n",
    "            current_record['Text'] = line\n",
    "        else:\n",
    "            current_record['Text'] += ' ' + line"
   ]
  },
  {
   "cell_type": "code",
   "execution_count": null,
   "id": "3ec5f61e",
   "metadata": {
    "id": "3ec5f61e"
   },
   "outputs": [],
   "source": [
    "if current_record:\n",
    "    data.append(current_record)\n",
    "\n",
    "# Create a DataFrame\n",
    "df = pd.DataFrame(data)"
   ]
  },
  {
   "cell_type": "code",
   "execution_count": null,
   "id": "0f4c388a",
   "metadata": {
    "id": "0f4c388a",
    "outputId": "795c2e42-ac76-4924-b3c7-3945467aa103"
   },
   "outputs": [
    {
     "data": {
      "text/html": [
       "<div>\n",
       "<style scoped>\n",
       "    .dataframe tbody tr th:only-of-type {\n",
       "        vertical-align: middle;\n",
       "    }\n",
       "\n",
       "    .dataframe tbody tr th {\n",
       "        vertical-align: top;\n",
       "    }\n",
       "\n",
       "    .dataframe thead th {\n",
       "        text-align: right;\n",
       "    }\n",
       "</style>\n",
       "<table border=\"1\" class=\"dataframe\">\n",
       "  <thead>\n",
       "    <tr style=\"text-align: right;\">\n",
       "      <th></th>\n",
       "      <th>DID</th>\n",
       "      <th>Date</th>\n",
       "      <th>Cat</th>\n",
       "      <th>Text</th>\n",
       "    </tr>\n",
       "  </thead>\n",
       "  <tbody>\n",
       "    <tr>\n",
       "      <th>0</th>\n",
       "      <td>1S1</td>\n",
       "      <td>75\\04\\02</td>\n",
       "      <td>adabh</td>\n",
       "      <td>جاودانگي در زندگي گروهي از طريق هنر نگاهي به ن...</td>\n",
       "    </tr>\n",
       "    <tr>\n",
       "      <th>1</th>\n",
       "      <td>2S1</td>\n",
       "      <td>75\\04\\02</td>\n",
       "      <td>adabh</td>\n",
       "      <td>رويدادهاي هنري جهان نمايشگاه هنر در خدمت ديكتا...</td>\n",
       "    </tr>\n",
       "    <tr>\n",
       "      <th>2</th>\n",
       "      <td>3S1</td>\n",
       "      <td>75\\04\\02</td>\n",
       "      <td>adabh</td>\n",
       "      <td>برديوار نگارخانه ها گالري گلستان: نمايشگاه طرح...</td>\n",
       "    </tr>\n",
       "    <tr>\n",
       "      <th>3</th>\n",
       "      <td>4S1</td>\n",
       "      <td>75\\04\\02</td>\n",
       "      <td>ejtem</td>\n",
       "      <td>بازي را جدي بگيريم مطالعه اي مقدماتي پيرامون ن...</td>\n",
       "    </tr>\n",
       "    <tr>\n",
       "      <th>4</th>\n",
       "      <td>5S1</td>\n",
       "      <td>75\\04\\02</td>\n",
       "      <td>elmfa</td>\n",
       "      <td>تخته سياه و غباري كه سترده نمي شود... اشاره; ب...</td>\n",
       "    </tr>\n",
       "    <tr>\n",
       "      <th>...</th>\n",
       "      <td>...</td>\n",
       "      <td>...</td>\n",
       "      <td>...</td>\n",
       "      <td>...</td>\n",
       "    </tr>\n",
       "    <tr>\n",
       "      <th>165220</th>\n",
       "      <td>60055S2</td>\n",
       "      <td>81\\11\\20</td>\n",
       "      <td>vrzsh</td>\n",
       "      <td>نماينده فدراسيون جهاني واليبال از ايران هر نظر...</td>\n",
       "    </tr>\n",
       "    <tr>\n",
       "      <th>165221</th>\n",
       "      <td>60055S3</td>\n",
       "      <td>81\\11\\20</td>\n",
       "      <td>vrzsh</td>\n",
       "      <td>شكست نامداران تكواندودر پيكارهاي برتر ليگ گروه...</td>\n",
       "    </tr>\n",
       "    <tr>\n",
       "      <th>165222</th>\n",
       "      <td>60055S4</td>\n",
       "      <td>81\\11\\20</td>\n",
       "      <td>vrzsh</td>\n",
       "      <td>ورزشگاه بزرگ دانشگاه آزاد در تهران ساخته مي شو...</td>\n",
       "    </tr>\n",
       "    <tr>\n",
       "      <th>165223</th>\n",
       "      <td>60055S5</td>\n",
       "      <td>81\\11\\20</td>\n",
       "      <td>vrzsh</td>\n",
       "      <td>رئيس فدراسيون پزشكي انتخاب شد گروه ورزشي: مجمع...</td>\n",
       "    </tr>\n",
       "    <tr>\n",
       "      <th>165224</th>\n",
       "      <td>60055S6</td>\n",
       "      <td>81\\11\\20</td>\n",
       "      <td>vrzsh</td>\n",
       "      <td>نتايج هفته يازدهم وزنه برداري باشگاهها گروه ور...</td>\n",
       "    </tr>\n",
       "  </tbody>\n",
       "</table>\n",
       "<p>165225 rows × 4 columns</p>\n",
       "</div>"
      ],
      "text/plain": [
       "            DID      Date    Cat  \\\n",
       "0           1S1  75\\04\\02  adabh   \n",
       "1           2S1  75\\04\\02  adabh   \n",
       "2           3S1  75\\04\\02  adabh   \n",
       "3           4S1  75\\04\\02  ejtem   \n",
       "4           5S1  75\\04\\02  elmfa   \n",
       "...         ...       ...    ...   \n",
       "165220  60055S2  81\\11\\20  vrzsh   \n",
       "165221  60055S3  81\\11\\20  vrzsh   \n",
       "165222  60055S4  81\\11\\20  vrzsh   \n",
       "165223  60055S5  81\\11\\20  vrzsh   \n",
       "165224  60055S6  81\\11\\20  vrzsh   \n",
       "\n",
       "                                                     Text  \n",
       "0       جاودانگي در زندگي گروهي از طريق هنر نگاهي به ن...  \n",
       "1       رويدادهاي هنري جهان نمايشگاه هنر در خدمت ديكتا...  \n",
       "2       برديوار نگارخانه ها گالري گلستان: نمايشگاه طرح...  \n",
       "3       بازي را جدي بگيريم مطالعه اي مقدماتي پيرامون ن...  \n",
       "4       تخته سياه و غباري كه سترده نمي شود... اشاره; ب...  \n",
       "...                                                   ...  \n",
       "165220  نماينده فدراسيون جهاني واليبال از ايران هر نظر...  \n",
       "165221  شكست نامداران تكواندودر پيكارهاي برتر ليگ گروه...  \n",
       "165222  ورزشگاه بزرگ دانشگاه آزاد در تهران ساخته مي شو...  \n",
       "165223  رئيس فدراسيون پزشكي انتخاب شد گروه ورزشي: مجمع...  \n",
       "165224  نتايج هفته يازدهم وزنه برداري باشگاهها گروه ور...  \n",
       "\n",
       "[165225 rows x 4 columns]"
      ]
     },
     "execution_count": 47,
     "metadata": {},
     "output_type": "execute_result"
    }
   ],
   "source": [
    "df"
   ]
  },
  {
   "cell_type": "code",
   "execution_count": null,
   "id": "1a5ab7eb",
   "metadata": {
    "id": "1a5ab7eb"
   },
   "outputs": [],
   "source": [
    "df.to_csv(\"dataset.csv\", date_format='%Y%m%d')"
   ]
  },
  {
   "cell_type": "markdown",
   "id": "604eb9e7",
   "metadata": {
    "id": "604eb9e7"
   },
   "source": [
    "## Step 3 - Data Visualization"
   ]
  },
  {
   "cell_type": "code",
   "execution_count": null,
   "id": "eccd754a",
   "metadata": {
    "id": "eccd754a"
   },
   "outputs": [],
   "source": [
    "import matplotlib.pyplot as plt\n",
    "import seaborn as sns"
   ]
  },
  {
   "cell_type": "code",
   "execution_count": null,
   "id": "335dfea1",
   "metadata": {
    "id": "335dfea1",
    "outputId": "b92a44af-dfb4-4da4-f3c1-beb40d3f94af"
   },
   "outputs": [
    {
     "data": {
      "text/plain": [
       "siasi      17308\n",
       "eqtes      16408\n",
       "kharj      14470\n",
       "akhar      13763\n",
       "vrzsh      12767\n",
       "           ...  \n",
       "igozar         3\n",
       "theatre        3\n",
       "Cinew          3\n",
       "Polig          2\n",
       "Thought        2\n",
       "Name: Cat, Length: 105, dtype: int64"
      ]
     },
     "execution_count": 62,
     "metadata": {},
     "output_type": "execute_result"
    }
   ],
   "source": [
    "df['Cat'].value_counts()"
   ]
  },
  {
   "cell_type": "code",
   "execution_count": null,
   "id": "e1b45a14",
   "metadata": {
    "id": "e1b45a14",
    "outputId": "e4fe4e94-c658-4b4c-9472-eb604b6dc4e3"
   },
   "outputs": [
    {
     "data": {
      "text/plain": [
       "Text(0.5, 1.0, 'Category\\n')"
      ]
     },
     "execution_count": 63,
     "metadata": {},
     "output_type": "execute_result"
    },
    {
     "data": {
      "image/png": "[encoded data removed]",
      "text/plain": [
       "<Figure size 400x600 with 1 Axes>"
      ]
     },
     "metadata": {},
     "output_type": "display_data"
    }
   ],
   "source": [
    "plt.figure(figsize=(4,6))\n",
    "colors = sns.color_palette('Set2')[0:3]\n",
    "\n",
    "values = df['Cat'].value_counts().head(5)\n",
    "labels = values.index\n",
    "#round(values/values.sum()*100, 2)\n",
    "\n",
    "plt.pie(values, labels=labels, autopct='%1.2f%%',\n",
    "             startangle=60, textprops={'fontsize': 11, 'fontweight':\"bold\"},\n",
    "             colors = colors)\n",
    "plt.title(\"Category\\n\", fontsize=16, fontweight=\"bold\")"
   ]
  },
  {
   "cell_type": "code",
   "execution_count": null,
   "id": "ec06e641",
   "metadata": {
    "id": "ec06e641",
    "outputId": "38628ce9-6aed-4232-d288-a96bdeed9441"
   },
   "outputs": [
    {
     "data": {
      "text/plain": [
       "<Axes: xlabel='count', ylabel='Cat'>"
      ]
     },
     "execution_count": 64,
     "metadata": {},
     "output_type": "execute_result"
    },
    {
     "data": {
      "image/png": "[encoded data removed]",
      "text/plain": [
       "<Figure size 640x480 with 1 Axes>"
      ]
     },
     "metadata": {},
     "output_type": "display_data"
    }
   ],
   "source": [
    "sns.countplot(y=df['Cat'],order=df['Cat'].value_counts().head(20).index)"
   ]
  },
  {
   "cell_type": "code",
   "execution_count": null,
   "id": "8f1f1c93",
   "metadata": {
    "id": "8f1f1c93",
    "outputId": "e0dcdc4d-880a-4001-9a2c-839c00a7af96"
   },
   "outputs": [
    {
     "data": {
      "image/png": "[encoded data removed]",
      "text/plain": [
       "<Figure size 640x480 with 1 Axes>"
      ]
     },
     "metadata": {},
     "output_type": "display_data"
    }
   ],
   "source": [
    "# Convert 'Date' column to datetime format\n",
    "df['Date'] = pd.to_datetime(df['Date'], format='%y\\\\%m\\\\%d', errors='coerce')\n",
    "\n",
    "# Extract the year from the 'Date' column\n",
    "df['Year'] = df['Date'].dt.year\n",
    "\n",
    "# Group by 'Year' and count occurrences of each year\n",
    "year_counts = df.groupby('Year').size()\n",
    "plt.plot(year_counts.index, year_counts.values, marker='o')\n",
    "plt.xlabel('Date')\n",
    "plt.ylabel('Count')\n",
    "plt.title('Plot based on Date')\n",
    "plt.xticks(rotation=45)\n",
    "plt.show()"
   ]
  },
  {
   "cell_type": "markdown",
   "id": "8f65d732",
   "metadata": {
    "id": "8f65d732"
   },
   "source": [
    "## Step 4 – Preprocessing"
   ]
  },
  {
   "cell_type": "code",
   "execution_count": null,
   "id": "4e3756ca",
   "metadata": {
    "colab": {
     "base_uri": "https://localhost:8080/",
     "height": 441
    },
    "id": "4e3756ca",
    "outputId": "fdaa5f7e-1470-48dc-813e-211ba753c4ad"
   },
   "outputs": [
    {
     "name": "stdout",
     "output_type": "stream",
     "text": [
      "Drive already mounted at /content/drive; to attempt to forcibly remount, call drive.mount(\"/content/drive\", force_remount=True).\n"
     ]
    },
    {
     "data": {
      "text/html": [
       "\n",
       "\n",
       "  <div id=\"df-329bab6c-46bd-4a8c-9e05-a476780a5ccd\">\n",
       "    <div class=\"colab-df-container\">\n",
       "      <div>\n",
       "<style scoped>\n",
       "    .dataframe tbody tr th:only-of-type {\n",
       "        vertical-align: middle;\n",
       "    }\n",
       "\n",
       "    .dataframe tbody tr th {\n",
       "        vertical-align: top;\n",
       "    }\n",
       "\n",
       "    .dataframe thead th {\n",
       "        text-align: right;\n",
       "    }\n",
       "</style>\n",
       "<table border=\"1\" class=\"dataframe\">\n",
       "  <thead>\n",
       "    <tr style=\"text-align: right;\">\n",
       "      <th></th>\n",
       "      <th>DID</th>\n",
       "      <th>Date</th>\n",
       "      <th>Cat</th>\n",
       "      <th>Text</th>\n",
       "    </tr>\n",
       "  </thead>\n",
       "  <tbody>\n",
       "    <tr>\n",
       "      <th>0</th>\n",
       "      <td>1S1</td>\n",
       "      <td>75\\04\\02</td>\n",
       "      <td>adabh</td>\n",
       "      <td>جاودانگي در زندگي گروهي از طريق هنر نگاهي به ن...</td>\n",
       "    </tr>\n",
       "    <tr>\n",
       "      <th>1</th>\n",
       "      <td>2S1</td>\n",
       "      <td>75\\04\\02</td>\n",
       "      <td>adabh</td>\n",
       "      <td>رويدادهاي هنري جهان نمايشگاه هنر در خدمت ديكتا...</td>\n",
       "    </tr>\n",
       "    <tr>\n",
       "      <th>2</th>\n",
       "      <td>3S1</td>\n",
       "      <td>75\\04\\02</td>\n",
       "      <td>adabh</td>\n",
       "      <td>برديوار نگارخانه ها گالري گلستان: نمايشگاه طرح...</td>\n",
       "    </tr>\n",
       "    <tr>\n",
       "      <th>3</th>\n",
       "      <td>4S1</td>\n",
       "      <td>75\\04\\02</td>\n",
       "      <td>ejtem</td>\n",
       "      <td>بازي را جدي بگيريم مطالعه اي مقدماتي پيرامون ن...</td>\n",
       "    </tr>\n",
       "    <tr>\n",
       "      <th>4</th>\n",
       "      <td>5S1</td>\n",
       "      <td>75\\04\\02</td>\n",
       "      <td>elmfa</td>\n",
       "      <td>تخته سياه و غباري كه سترده نمي شود... اشاره; ب...</td>\n",
       "    </tr>\n",
       "    <tr>\n",
       "      <th>...</th>\n",
       "      <td>...</td>\n",
       "      <td>...</td>\n",
       "      <td>...</td>\n",
       "      <td>...</td>\n",
       "    </tr>\n",
       "    <tr>\n",
       "      <th>161873</th>\n",
       "      <td>59437S8</td>\n",
       "      <td>81\\10\\14</td>\n",
       "      <td>eqtes</td>\n",
       "      <td>يادداشت احزاب سياسي و بودجه 82 محمدصادق جنان ص...</td>\n",
       "    </tr>\n",
       "    <tr>\n",
       "      <th>161874</th>\n",
       "      <td>59437S9</td>\n",
       "      <td>81\\10\\14</td>\n",
       "      <td>eqtes</td>\n",
       "      <td>خبرها و نكته ها شهامت يك مدير خبر: ... تا چند ...</td>\n",
       "    </tr>\n",
       "    <tr>\n",
       "      <th>161875</th>\n",
       "      <td>59437S10</td>\n",
       "      <td>81\\10\\14</td>\n",
       "      <td>eqtes</td>\n",
       "      <td>يادآوري دقت معاون اقتصادي سازمان مديريت و برنا...</td>\n",
       "    </tr>\n",
       "    <tr>\n",
       "      <th>161876</th>\n",
       "      <td>59438S1</td>\n",
       "      <td>81\\10\\14</td>\n",
       "      <td>eqtsj</td>\n",
       "      <td>تكرار بحران بيش از 15 ميليون مرد زن و كودك در ...</td>\n",
       "    </tr>\n",
       "    <tr>\n",
       "      <th>161877</th>\n",
       "      <td>59438S2</td>\n",
       "      <td>81\\10\\14</td>\n",
       "      <td>eqtsj</td>\n",
       "      <td>نروژ، موهبت نفتي و دور انديشي طي حدود پنجاه سا...</td>\n",
       "    </tr>\n",
       "  </tbody>\n",
       "</table>\n",
       "<p>161878 rows × 4 columns</p>\n",
       "</div>\n",
       "      <button class=\"colab-df-convert\" onclick=\"convertToInteractive('df-329bab6c-46bd-4a8c-9e05-a476780a5ccd')\"\n",
       "              title=\"Convert this dataframe to an interactive table.\"\n",
       "              style=\"display:none;\">\n",
       "\n",
       "  <svg xmlns=\"http://www.w3.org/2000/svg\" height=\"24px\"viewBox=\"0 0 24 24\"\n",
       "       width=\"24px\">\n",
       "    <path d=\"M0 0h24v24H0V0z\" fill=\"none\"/>\n",
       "    <path d=\"M18.56 5.44l.94 2.06.94-2.06 2.06-.94-2.06-.94-.94-2.06-.94 2.06-2.06.94zm-11 1L8.5 8.5l.94-2.06 2.06-.94-2.06-.94L8.5 2.5l-.94 2.06-2.06.94zm10 10l.94 2.06.94-2.06 2.06-.94-2.06-.94-.94-2.06-.94 2.06-2.06.94z\"/><path d=\"M17.41 7.96l-1.37-1.37c-.4-.4-.92-.59-1.43-.59-.52 0-1.04.2-1.43.59L10.3 9.45l-7.72 7.72c-.78.78-.78 2.05 0 2.83L4 21.41c.39.39.9.59 1.41.59.51 0 1.02-.2 1.41-.59l7.78-7.78 2.81-2.81c.8-.78.8-2.07 0-2.86zM5.41 20L4 18.59l7.72-7.72 1.47 1.35L5.41 20z\"/>\n",
       "  </svg>\n",
       "      </button>\n",
       "\n",
       "\n",
       "\n",
       "    <div id=\"df-abb60294-a29a-4f0e-a69d-3c0a2778a7be\">\n",
       "      <button class=\"colab-df-quickchart\" onclick=\"quickchart('df-abb60294-a29a-4f0e-a69d-3c0a2778a7be')\"\n",
       "              title=\"Suggest charts.\"\n",
       "              style=\"display:none;\">\n",
       "\n",
       "<svg xmlns=\"http://www.w3.org/2000/svg\" height=\"24px\"viewBox=\"0 0 24 24\"\n",
       "     width=\"24px\">\n",
       "    <g>\n",
       "        <path d=\"M19 3H5c-1.1 0-2 .9-2 2v14c0 1.1.9 2 2 2h14c1.1 0 2-.9 2-2V5c0-1.1-.9-2-2-2zM9 17H7v-7h2v7zm4 0h-2V7h2v10zm4 0h-2v-4h2v4z\"/>\n",
       "    </g>\n",
       "</svg>\n",
       "      </button>\n",
       "    </div>\n",
       "\n",
       "<style>\n",
       "  .colab-df-quickchart {\n",
       "    background-color: #E8F0FE;\n",
       "    border: none;\n",
       "    border-radius: 50%;\n",
       "    cursor: pointer;\n",
       "    display: none;\n",
       "    fill: #1967D2;\n",
       "    height: 32px;\n",
       "    padding: 0 0 0 0;\n",
       "    width: 32px;\n",
       "  }\n",
       "\n",
       "  .colab-df-quickchart:hover {\n",
       "    background-color: #E2EBFA;\n",
       "    box-shadow: 0px 1px 2px rgba(60, 64, 67, 0.3), 0px 1px 3px 1px rgba(60, 64, 67, 0.15);\n",
       "    fill: #174EA6;\n",
       "  }\n",
       "\n",
       "  [theme=dark] .colab-df-quickchart {\n",
       "    background-color: #3B4455;\n",
       "    fill: #D2E3FC;\n",
       "  }\n",
       "\n",
       "  [theme=dark] .colab-df-quickchart:hover {\n",
       "    background-color: #434B5C;\n",
       "    box-shadow: 0px 1px 3px 1px rgba(0, 0, 0, 0.15);\n",
       "    filter: drop-shadow(0px 1px 2px rgba(0, 0, 0, 0.3));\n",
       "    fill: #FFFFFF;\n",
       "  }\n",
       "</style>\n",
       "\n",
       "    <script>\n",
       "      async function quickchart(key) {\n",
       "        const containerElement = document.querySelector('#' + key);\n",
       "        const charts = await google.colab.kernel.invokeFunction(\n",
       "            'suggestCharts', [key], {});\n",
       "      }\n",
       "    </script>\n",
       "\n",
       "      <script>\n",
       "\n",
       "function displayQuickchartButton(domScope) {\n",
       "  let quickchartButtonEl =\n",
       "    domScope.querySelector('#df-abb60294-a29a-4f0e-a69d-3c0a2778a7be button.colab-df-quickchart');\n",
       "  quickchartButtonEl.style.display =\n",
       "    google.colab.kernel.accessAllowed ? 'block' : 'none';\n",
       "}\n",
       "\n",
       "        displayQuickchartButton(document);\n",
       "      </script>\n",
       "      <style>\n",
       "    .colab-df-container {\n",
       "      display:flex;\n",
       "      flex-wrap:wrap;\n",
       "      gap: 12px;\n",
       "    }\n",
       "\n",
       "    .colab-df-convert {\n",
       "      background-color: #E8F0FE;\n",
       "      border: none;\n",
       "      border-radius: 50%;\n",
       "      cursor: pointer;\n",
       "      display: none;\n",
       "      fill: #1967D2;\n",
       "      height: 32px;\n",
       "      padding: 0 0 0 0;\n",
       "      width: 32px;\n",
       "    }\n",
       "\n",
       "    .colab-df-convert:hover {\n",
       "      background-color: #E2EBFA;\n",
       "      box-shadow: 0px 1px 2px rgba(60, 64, 67, 0.3), 0px 1px 3px 1px rgba(60, 64, 67, 0.15);\n",
       "      fill: #174EA6;\n",
       "    }\n",
       "\n",
       "    [theme=dark] .colab-df-convert {\n",
       "      background-color: #3B4455;\n",
       "      fill: #D2E3FC;\n",
       "    }\n",
       "\n",
       "    [theme=dark] .colab-df-convert:hover {\n",
       "      background-color: #434B5C;\n",
       "      box-shadow: 0px 1px 3px 1px rgba(0, 0, 0, 0.15);\n",
       "      filter: drop-shadow(0px 1px 2px rgba(0, 0, 0, 0.3));\n",
       "      fill: #FFFFFF;\n",
       "    }\n",
       "  </style>\n",
       "\n",
       "      <script>\n",
       "        const buttonEl =\n",
       "          document.querySelector('#df-329bab6c-46bd-4a8c-9e05-a476780a5ccd button.colab-df-convert');\n",
       "        buttonEl.style.display =\n",
       "          google.colab.kernel.accessAllowed ? 'block' : 'none';\n",
       "\n",
       "        async function convertToInteractive(key) {\n",
       "          const element = document.querySelector('#df-329bab6c-46bd-4a8c-9e05-a476780a5ccd');\n",
       "          const dataTable =\n",
       "            await google.colab.kernel.invokeFunction('convertToInteractive',\n",
       "                                                     [key], {});\n",
       "          if (!dataTable) return;\n",
       "\n",
       "          const docLinkHtml = 'Like what you see? Visit the ' +\n",
       "            '<a target=\"_blank\" href=https://colab.research.google.com/notebooks/data_table.ipynb>data table notebook</a>'\n",
       "            + ' to learn more about interactive tables.';\n",
       "          element.innerHTML = '';\n",
       "          dataTable['output_type'] = 'display_data';\n",
       "          await google.colab.output.renderOutput(dataTable, element);\n",
       "          const docLink = document.createElement('div');\n",
       "          docLink.innerHTML = docLinkHtml;\n",
       "          element.appendChild(docLink);\n",
       "        }\n",
       "      </script>\n",
       "    </div>\n",
       "  </div>\n"
      ],
      "text/plain": [
       "             DID      Date    Cat  \\\n",
       "0            1S1  75\\04\\02  adabh   \n",
       "1            2S1  75\\04\\02  adabh   \n",
       "2            3S1  75\\04\\02  adabh   \n",
       "3            4S1  75\\04\\02  ejtem   \n",
       "4            5S1  75\\04\\02  elmfa   \n",
       "...          ...       ...    ...   \n",
       "161873   59437S8  81\\10\\14  eqtes   \n",
       "161874   59437S9  81\\10\\14  eqtes   \n",
       "161875  59437S10  81\\10\\14  eqtes   \n",
       "161876   59438S1  81\\10\\14  eqtsj   \n",
       "161877   59438S2  81\\10\\14  eqtsj   \n",
       "\n",
       "                                                     Text  \n",
       "0       جاودانگي در زندگي گروهي از طريق هنر نگاهي به ن...  \n",
       "1       رويدادهاي هنري جهان نمايشگاه هنر در خدمت ديكتا...  \n",
       "2       برديوار نگارخانه ها گالري گلستان: نمايشگاه طرح...  \n",
       "3       بازي را جدي بگيريم مطالعه اي مقدماتي پيرامون ن...  \n",
       "4       تخته سياه و غباري كه سترده نمي شود... اشاره; ب...  \n",
       "...                                                   ...  \n",
       "161873  يادداشت احزاب سياسي و بودجه 82 محمدصادق جنان ص...  \n",
       "161874  خبرها و نكته ها شهامت يك مدير خبر: ... تا چند ...  \n",
       "161875  يادآوري دقت معاون اقتصادي سازمان مديريت و برنا...  \n",
       "161876  تكرار بحران بيش از 15 ميليون مرد زن و كودك در ...  \n",
       "161877  نروژ، موهبت نفتي و دور انديشي طي حدود پنجاه سا...  \n",
       "\n",
       "[161878 rows x 4 columns]"
      ]
     },
     "execution_count": 1,
     "metadata": {},
     "output_type": "execute_result"
    }
   ],
   "source": [
    "import pandas as pd\n",
    "from google.colab import drive\n",
    "\n",
    "drive.mount('/content/drive')\n",
    "\n",
    "path = \"/content/drive/My Drive/dataset.csv\"\n",
    "\n",
    "df = pd.read_csv(path)\n",
    "df = df.drop(columns=['Unnamed: 0'])\n",
    "df"
   ]
  },
  {
   "cell_type": "code",
   "execution_count": null,
   "id": "7972c7d3",
   "metadata": {
    "colab": {
     "base_uri": "https://localhost:8080/"
    },
    "id": "7972c7d3",
    "outputId": "edef7d1e-3a7c-47f3-da5f-cb5323ff0efc"
   },
   "outputs": [
    {
     "data": {
      "text/plain": [
       "DID     0\n",
       "Date    0\n",
       "Cat     0\n",
       "Text    0\n",
       "dtype: int64"
      ]
     },
     "execution_count": 2,
     "metadata": {},
     "output_type": "execute_result"
    }
   ],
   "source": [
    "df.isnull().sum()"
   ]
  },
  {
   "cell_type": "code",
   "execution_count": null,
   "id": "0c0c4e6e",
   "metadata": {
    "id": "0c0c4e6e"
   },
   "outputs": [],
   "source": [
    "import re\n",
    "def remove_tags(string):\n",
    "    result = re.sub('','',string)          #remove HTML tags\n",
    "    result = re.sub('https://.*','',result)   #remove URLs\n",
    "    return result"
   ]
  },
  {
   "cell_type": "code",
   "execution_count": null,
   "id": "6d75aa96",
   "metadata": {
    "colab": {
     "base_uri": "https://localhost:8080/",
     "height": 206
    },
    "id": "6d75aa96",
    "outputId": "ef97cf5b-6bad-4170-d125-02ae763caf38"
   },
   "outputs": [
    {
     "data": {
      "text/html": [
       "\n",
       "\n",
       "  <div id=\"df-51a13301-2332-4fe2-bd65-59edfaa199c6\">\n",
       "    <div class=\"colab-df-container\">\n",
       "      <div>\n",
       "<style scoped>\n",
       "    .dataframe tbody tr th:only-of-type {\n",
       "        vertical-align: middle;\n",
       "    }\n",
       "\n",
       "    .dataframe tbody tr th {\n",
       "        vertical-align: top;\n",
       "    }\n",
       "\n",
       "    .dataframe thead th {\n",
       "        text-align: right;\n",
       "    }\n",
       "</style>\n",
       "<table border=\"1\" class=\"dataframe\">\n",
       "  <thead>\n",
       "    <tr style=\"text-align: right;\">\n",
       "      <th></th>\n",
       "      <th>DID</th>\n",
       "      <th>Date</th>\n",
       "      <th>Cat</th>\n",
       "      <th>Text</th>\n",
       "    </tr>\n",
       "  </thead>\n",
       "  <tbody>\n",
       "    <tr>\n",
       "      <th>0</th>\n",
       "      <td>1S1</td>\n",
       "      <td>75\\04\\02</td>\n",
       "      <td>adabh</td>\n",
       "      <td>جاودانگي در زندگي گروهي از طريق هنر نگاهي به ن...</td>\n",
       "    </tr>\n",
       "    <tr>\n",
       "      <th>1</th>\n",
       "      <td>2S1</td>\n",
       "      <td>75\\04\\02</td>\n",
       "      <td>adabh</td>\n",
       "      <td>رويدادهاي هنري جهان نمايشگاه هنر در خدمت ديكتا...</td>\n",
       "    </tr>\n",
       "    <tr>\n",
       "      <th>2</th>\n",
       "      <td>3S1</td>\n",
       "      <td>75\\04\\02</td>\n",
       "      <td>adabh</td>\n",
       "      <td>برديوار نگارخانه ها گالري گلستان: نمايشگاه طرح...</td>\n",
       "    </tr>\n",
       "    <tr>\n",
       "      <th>3</th>\n",
       "      <td>4S1</td>\n",
       "      <td>75\\04\\02</td>\n",
       "      <td>ejtem</td>\n",
       "      <td>بازي را جدي بگيريم مطالعه اي مقدماتي پيرامون ن...</td>\n",
       "    </tr>\n",
       "    <tr>\n",
       "      <th>4</th>\n",
       "      <td>5S1</td>\n",
       "      <td>75\\04\\02</td>\n",
       "      <td>elmfa</td>\n",
       "      <td>تخته سياه و غباري كه سترده نمي شود... اشاره; ب...</td>\n",
       "    </tr>\n",
       "  </tbody>\n",
       "</table>\n",
       "</div>\n",
       "      <button class=\"colab-df-convert\" onclick=\"convertToInteractive('df-51a13301-2332-4fe2-bd65-59edfaa199c6')\"\n",
       "              title=\"Convert this dataframe to an interactive table.\"\n",
       "              style=\"display:none;\">\n",
       "\n",
       "  <svg xmlns=\"http://www.w3.org/2000/svg\" height=\"24px\"viewBox=\"0 0 24 24\"\n",
       "       width=\"24px\">\n",
       "    <path d=\"M0 0h24v24H0V0z\" fill=\"none\"/>\n",
       "    <path d=\"M18.56 5.44l.94 2.06.94-2.06 2.06-.94-2.06-.94-.94-2.06-.94 2.06-2.06.94zm-11 1L8.5 8.5l.94-2.06 2.06-.94-2.06-.94L8.5 2.5l-.94 2.06-2.06.94zm10 10l.94 2.06.94-2.06 2.06-.94-2.06-.94-.94-2.06-.94 2.06-2.06.94z\"/><path d=\"M17.41 7.96l-1.37-1.37c-.4-.4-.92-.59-1.43-.59-.52 0-1.04.2-1.43.59L10.3 9.45l-7.72 7.72c-.78.78-.78 2.05 0 2.83L4 21.41c.39.39.9.59 1.41.59.51 0 1.02-.2 1.41-.59l7.78-7.78 2.81-2.81c.8-.78.8-2.07 0-2.86zM5.41 20L4 18.59l7.72-7.72 1.47 1.35L5.41 20z\"/>\n",
       "  </svg>\n",
       "      </button>\n",
       "\n",
       "\n",
       "\n",
       "    <div id=\"df-cea610f4-b87e-4c9a-bdcc-67041d836756\">\n",
       "      <button class=\"colab-df-quickchart\" onclick=\"quickchart('df-cea610f4-b87e-4c9a-bdcc-67041d836756')\"\n",
       "              title=\"Suggest charts.\"\n",
       "              style=\"display:none;\">\n",
       "\n",
       "<svg xmlns=\"http://www.w3.org/2000/svg\" height=\"24px\"viewBox=\"0 0 24 24\"\n",
       "     width=\"24px\">\n",
       "    <g>\n",
       "        <path d=\"M19 3H5c-1.1 0-2 .9-2 2v14c0 1.1.9 2 2 2h14c1.1 0 2-.9 2-2V5c0-1.1-.9-2-2-2zM9 17H7v-7h2v7zm4 0h-2V7h2v10zm4 0h-2v-4h2v4z\"/>\n",
       "    </g>\n",
       "</svg>\n",
       "      </button>\n",
       "    </div>\n",
       "\n",
       "<style>\n",
       "  .colab-df-quickchart {\n",
       "    background-color: #E8F0FE;\n",
       "    border: none;\n",
       "    border-radius: 50%;\n",
       "    cursor: pointer;\n",
       "    display: none;\n",
       "    fill: #1967D2;\n",
       "    height: 32px;\n",
       "    padding: 0 0 0 0;\n",
       "    width: 32px;\n",
       "  }\n",
       "\n",
       "  .colab-df-quickchart:hover {\n",
       "    background-color: #E2EBFA;\n",
       "    box-shadow: 0px 1px 2px rgba(60, 64, 67, 0.3), 0px 1px 3px 1px rgba(60, 64, 67, 0.15);\n",
       "    fill: #174EA6;\n",
       "  }\n",
       "\n",
       "  [theme=dark] .colab-df-quickchart {\n",
       "    background-color: #3B4455;\n",
       "    fill: #D2E3FC;\n",
       "  }\n",
       "\n",
       "  [theme=dark] .colab-df-quickchart:hover {\n",
       "    background-color: #434B5C;\n",
       "    box-shadow: 0px 1px 3px 1px rgba(0, 0, 0, 0.15);\n",
       "    filter: drop-shadow(0px 1px 2px rgba(0, 0, 0, 0.3));\n",
       "    fill: #FFFFFF;\n",
       "  }\n",
       "</style>\n",
       "\n",
       "    <script>\n",
       "      async function quickchart(key) {\n",
       "        const containerElement = document.querySelector('#' + key);\n",
       "        const charts = await google.colab.kernel.invokeFunction(\n",
       "            'suggestCharts', [key], {});\n",
       "      }\n",
       "    </script>\n",
       "\n",
       "      <script>\n",
       "\n",
       "function displayQuickchartButton(domScope) {\n",
       "  let quickchartButtonEl =\n",
       "    domScope.querySelector('#df-cea610f4-b87e-4c9a-bdcc-67041d836756 button.colab-df-quickchart');\n",
       "  quickchartButtonEl.style.display =\n",
       "    google.colab.kernel.accessAllowed ? 'block' : 'none';\n",
       "}\n",
       "\n",
       "        displayQuickchartButton(document);\n",
       "      </script>\n",
       "      <style>\n",
       "    .colab-df-container {\n",
       "      display:flex;\n",
       "      flex-wrap:wrap;\n",
       "      gap: 12px;\n",
       "    }\n",
       "\n",
       "    .colab-df-convert {\n",
       "      background-color: #E8F0FE;\n",
       "      border: none;\n",
       "      border-radius: 50%;\n",
       "      cursor: pointer;\n",
       "      display: none;\n",
       "      fill: #1967D2;\n",
       "      height: 32px;\n",
       "      padding: 0 0 0 0;\n",
       "      width: 32px;\n",
       "    }\n",
       "\n",
       "    .colab-df-convert:hover {\n",
       "      background-color: #E2EBFA;\n",
       "      box-shadow: 0px 1px 2px rgba(60, 64, 67, 0.3), 0px 1px 3px 1px rgba(60, 64, 67, 0.15);\n",
       "      fill: #174EA6;\n",
       "    }\n",
       "\n",
       "    [theme=dark] .colab-df-convert {\n",
       "      background-color: #3B4455;\n",
       "      fill: #D2E3FC;\n",
       "    }\n",
       "\n",
       "    [theme=dark] .colab-df-convert:hover {\n",
       "      background-color: #434B5C;\n",
       "      box-shadow: 0px 1px 3px 1px rgba(0, 0, 0, 0.15);\n",
       "      filter: drop-shadow(0px 1px 2px rgba(0, 0, 0, 0.3));\n",
       "      fill: #FFFFFF;\n",
       "    }\n",
       "  </style>\n",
       "\n",
       "      <script>\n",
       "        const buttonEl =\n",
       "          document.querySelector('#df-51a13301-2332-4fe2-bd65-59edfaa199c6 button.colab-df-convert');\n",
       "        buttonEl.style.display =\n",
       "          google.colab.kernel.accessAllowed ? 'block' : 'none';\n",
       "\n",
       "        async function convertToInteractive(key) {\n",
       "          const element = document.querySelector('#df-51a13301-2332-4fe2-bd65-59edfaa199c6');\n",
       "          const dataTable =\n",
       "            await google.colab.kernel.invokeFunction('convertToInteractive',\n",
       "                                                     [key], {});\n",
       "          if (!dataTable) return;\n",
       "\n",
       "          const docLinkHtml = 'Like what you see? Visit the ' +\n",
       "            '<a target=\"_blank\" href=https://colab.research.google.com/notebooks/data_table.ipynb>data table notebook</a>'\n",
       "            + ' to learn more about interactive tables.';\n",
       "          element.innerHTML = '';\n",
       "          dataTable['output_type'] = 'display_data';\n",
       "          await google.colab.output.renderOutput(dataTable, element);\n",
       "          const docLink = document.createElement('div');\n",
       "          docLink.innerHTML = docLinkHtml;\n",
       "          element.appendChild(docLink);\n",
       "        }\n",
       "      </script>\n",
       "    </div>\n",
       "  </div>\n"
      ],
      "text/plain": [
       "   DID      Date    Cat                                               Text\n",
       "0  1S1  75\\04\\02  adabh  جاودانگي در زندگي گروهي از طريق هنر نگاهي به ن...\n",
       "1  2S1  75\\04\\02  adabh  رويدادهاي هنري جهان نمايشگاه هنر در خدمت ديكتا...\n",
       "2  3S1  75\\04\\02  adabh  برديوار نگارخانه ها گالري گلستان: نمايشگاه طرح...\n",
       "3  4S1  75\\04\\02  ejtem  بازي را جدي بگيريم مطالعه اي مقدماتي پيرامون ن...\n",
       "4  5S1  75\\04\\02  elmfa  تخته سياه و غباري كه سترده نمي شود... اشاره; ب..."
      ]
     },
     "execution_count": 4,
     "metadata": {},
     "output_type": "execute_result"
    }
   ],
   "source": [
    "df['Text']=df['Text'].apply(lambda t : remove_tags(t))\n",
    "df.head()"
   ]
  },
  {
   "cell_type": "markdown",
   "id": "123db939",
   "metadata": {
    "id": "123db939"
   },
   "source": [
    "stop words"
   ]
  },
  {
   "cell_type": "code",
   "execution_count": null,
   "id": "1a8abff2",
   "metadata": {
    "id": "1a8abff2"
   },
   "outputs": [],
   "source": [
    "stop_words = []\n",
    "with open('/content/drive/My Drive/PersianStopWords', \"rb\") as file:\n",
    "  for line in file:\n",
    "    stop_words.append(line.decode(\"UTF-8\").replace('\\n', ''))"
   ]
  },
  {
   "cell_type": "code",
   "execution_count": null,
   "id": "5b90f5eb",
   "metadata": {
    "id": "5b90f5eb"
   },
   "outputs": [],
   "source": [
    "for index , row in df.iterrows():\n",
    "    sentence_list=[]\n",
    "    text = row['Text']\n",
    "\n",
    "    for word in text.split(' '):\n",
    "        if word not in stop_words:\n",
    "            sentence_list.append(word)\n",
    "\n",
    "    df.loc[index]={\n",
    "        'Text':' '.join(sentence_list),\n",
    "        'DID':row['DID'],\n",
    "        'Cat':row['Cat'],\n",
    "        'Date':row['Date']\n",
    "    }"
   ]
  },
  {
   "cell_type": "code",
   "execution_count": null,
   "id": "JWNX2ciLErns",
   "metadata": {
    "id": "JWNX2ciLErns"
   },
   "outputs": [],
   "source": [
    "#pip install numpy==1.23.3"
   ]
  },
  {
   "cell_type": "code",
   "execution_count": null,
   "id": "_2nhCW_PD3gS",
   "metadata": {
    "colab": {
     "base_uri": "https://localhost:8080/",
     "height": 713
    },
    "id": "_2nhCW_PD3gS",
    "outputId": "561eb0c0-ab05-492f-d1d5-2bf8faf579fd"
   },
   "outputs": [
    {
     "name": "stdout",
     "output_type": "stream",
     "text": [
      "Collecting hazm\n",
      "  Downloading hazm-0.9.2-py3-none-any.whl (352 kB)\n",
      "\u001b[?25l     \u001b[90m━━━━━━━━━━━━━━━━━━━━━━━━━━━━━━━━━━━━━━━━\u001b[0m \u001b[32m0.0/352.8 kB\u001b[0m \u001b[31m?\u001b[0m eta \u001b[36m-:--:--\u001b[0m\r",
      "\u001b[2K     \u001b[90m━━━━━━━━━━━━━━━━━━━━━━━━━━━━━━━━━━━━━━\u001b[0m \u001b[32m352.8/352.8 kB\u001b[0m \u001b[31m23.8 MB/s\u001b[0m eta \u001b[36m0:00:00\u001b[0m\n",
      "\u001b[?25hCollecting fasttext-wheel<0.10.0,>=0.9.2 (from hazm)\n",
      "  Downloading fasttext_wheel-0.9.2-cp310-cp310-manylinux_2_17_x86_64.manylinux2014_x86_64.whl (4.4 MB)\n",
      "\u001b[2K     \u001b[90m━━━━━━━━━━━━━━━━━━━━━━━━━━━━━━━━━━━━━━━━\u001b[0m \u001b[32m4.4/4.4 MB\u001b[0m \u001b[31m65.2 MB/s\u001b[0m eta \u001b[36m0:00:00\u001b[0m\n",
      "\u001b[?25hRequirement already satisfied: gensim<5.0.0,>=4.3.1 in /usr/local/lib/python3.10/dist-packages (from hazm) (4.3.1)\n",
      "Requirement already satisfied: nltk<4.0.0,>=3.8.1 in /usr/local/lib/python3.10/dist-packages (from hazm) (3.8.1)\n",
      "Collecting numpy<2.0.0,>=1.24.3 (from hazm)\n",
      "  Downloading numpy-1.25.1-cp310-cp310-manylinux_2_17_x86_64.manylinux2014_x86_64.whl (17.6 MB)\n",
      "\u001b[2K     \u001b[90m━━━━━━━━━━━━━━━━━━━━━━━━━━━━━━━━━━━━━━━━\u001b[0m \u001b[32m17.6/17.6 MB\u001b[0m \u001b[31m82.3 MB/s\u001b[0m eta \u001b[36m0:00:00\u001b[0m\n",
      "\u001b[?25hCollecting python-crfsuite<0.10.0,>=0.9.9 (from hazm)\n",
      "  Downloading python_crfsuite-0.9.9-cp310-cp310-manylinux_2_17_x86_64.manylinux2014_x86_64.whl (993 kB)\n",
      "\u001b[2K     \u001b[90m━━━━━━━━━━━━━━━━━━━━━━━━━━━━━━━━━━━━━━\u001b[0m \u001b[32m993.5/993.5 kB\u001b[0m \u001b[31m72.9 MB/s\u001b[0m eta \u001b[36m0:00:00\u001b[0m\n",
      "\u001b[?25hRequirement already satisfied: scikit-learn<2.0.0,>=1.2.2 in /usr/local/lib/python3.10/dist-packages (from hazm) (1.2.2)\n",
      "Collecting pybind11>=2.2 (from fasttext-wheel<0.10.0,>=0.9.2->hazm)\n",
      "  Downloading pybind11-2.10.4-py3-none-any.whl (222 kB)\n",
      "\u001b[2K     \u001b[90m━━━━━━━━━━━━━━━━━━━━━━━━━━━━━━━━━━━━━━\u001b[0m \u001b[32m222.3/222.3 kB\u001b[0m \u001b[31m25.9 MB/s\u001b[0m eta \u001b[36m0:00:00\u001b[0m\n",
      "\u001b[?25hRequirement already satisfied: setuptools>=0.7.0 in /usr/local/lib/python3.10/dist-packages (from fasttext-wheel<0.10.0,>=0.9.2->hazm) (67.7.2)\n",
      "Requirement already satisfied: scipy>=1.7.0 in /usr/local/lib/python3.10/dist-packages (from gensim<5.0.0,>=4.3.1->hazm) (1.10.1)\n",
      "Requirement already satisfied: smart-open>=1.8.1 in /usr/local/lib/python3.10/dist-packages (from gensim<5.0.0,>=4.3.1->hazm) (6.3.0)\n",
      "Requirement already satisfied: click in /usr/local/lib/python3.10/dist-packages (from nltk<4.0.0,>=3.8.1->hazm) (8.1.3)\n",
      "Requirement already satisfied: joblib in /usr/local/lib/python3.10/dist-packages (from nltk<4.0.0,>=3.8.1->hazm) (1.2.0)\n",
      "Requirement already satisfied: regex>=2021.8.3 in /usr/local/lib/python3.10/dist-packages (from nltk<4.0.0,>=3.8.1->hazm) (2022.10.31)\n",
      "Requirement already satisfied: tqdm in /usr/local/lib/python3.10/dist-packages (from nltk<4.0.0,>=3.8.1->hazm) (4.65.0)\n",
      "Requirement already satisfied: threadpoolctl>=2.0.0 in /usr/local/lib/python3.10/dist-packages (from scikit-learn<2.0.0,>=1.2.2->hazm) (3.1.0)\n",
      "Installing collected packages: python-crfsuite, pybind11, numpy, fasttext-wheel, hazm\n",
      "  Attempting uninstall: numpy\n",
      "    Found existing installation: numpy 1.23.3\n",
      "    Uninstalling numpy-1.23.3:\n",
      "      Successfully uninstalled numpy-1.23.3\n",
      "\u001b[31mERROR: pip's dependency resolver does not currently take into account all the packages that are installed. This behaviour is the source of the following dependency conflicts.\n",
      "numba 0.56.4 requires numpy<1.24,>=1.18, but you have numpy 1.25.1 which is incompatible.\n",
      "tensorflow 2.12.0 requires numpy<1.24,>=1.22, but you have numpy 1.25.1 which is incompatible.\u001b[0m\u001b[31m\n",
      "\u001b[0mSuccessfully installed fasttext-wheel-0.9.2 hazm-0.9.2 numpy-1.25.1 pybind11-2.10.4 python-crfsuite-0.9.9\n"
     ]
    },
    {
     "data": {
      "application/vnd.colab-display-data+json": {
       "pip_warning": {
        "packages": [
         "numpy"
        ]
       }
      }
     },
     "metadata": {},
     "output_type": "display_data"
    }
   ],
   "source": [
    "#pip install hazm"
   ]
  },
  {
   "cell_type": "code",
   "execution_count": null,
   "id": "d525e107",
   "metadata": {
    "id": "d525e107"
   },
   "outputs": [],
   "source": [
    "import re\n",
    "import hazm\n",
    "\n",
    "\n",
    "normalizer = hazm.Normalizer() # Hazm normlizer\n",
    "lemmatize = hazm.Lemmatizer().lemmatize # Hazm lemmatizer\n",
    "stem = hazm.Stemmer().stem # Hazm Stemmer\n",
    "clean_lemmatize = lambda comment:[lemmatize(word) if '#' not in lemmatize(word) else word for word in comment]\n",
    "clean_stem = lambda comment:[stem(word) for word in comment]\n",
    "\n",
    "symbols_complete_reg = re.compile(r\"(\\d|\\\"|'ٍ|¬|[؛“،,”‘۔’’‘–]|[|\\.÷+\\]\\[\\)\\(\\:\\-\\?»\\=\\{}\\*«»_…\\؟!/ـ]|[۰'ٓ۫'ٔ]|[ٓٔ]|[ًٌٍْﹼ،َُِّ«ٰ»ٖء])\")\n",
    "\n",
    "def remeove_arabic(text):\n",
    "    # remove arabic alphabet\n",
    "    mapping = {\n",
    "        u\"ۀ\" : u\"ه\",\n",
    "        u\"ة\" : u\"ت\",\n",
    "        u\"ي\" : u\"ی\",\n",
    "        u\"ؤ\" : u\"و\",\n",
    "        u\"إ\" : u\"ا\",\n",
    "        u\"ٹ\" : u\"ت\",\n",
    "        u\"ڈ\" : u\"د\",\n",
    "        u\"ئ\" : u\"ی\",\n",
    "        u\"ﻨ\" : u\"ن\",\n",
    "        u\"ﺠ\" : u\"ج\",\n",
    "        u\"ﻣ\" : u\"م\",\n",
    "        u\"ﷲ\" : u\"\",\n",
    "        u\"ﻳ\" : u\"ی\",\n",
    "        u\"ٻ\" : u\"ب\",\n",
    "        u\"ٱ\" : u\"ا\",\n",
    "        u\"ڵ\" : u\"ل\",\n",
    "        u\"ﭘ\" : u\"پ\",\n",
    "        u\"ﻪ\" : u\"ه\",\n",
    "        u\"ﻳ\" : u\"ی\",\n",
    "        u\"ٻ\" : u\"ب\",\n",
    "        u\"ں\" : u\"ن\",\n",
    "        u\"ٶ\" : u\"و\",\n",
    "        u\"ٲ\" : u\"ا\",\n",
    "        u\"ہ\" : u\"ه\",\n",
    "        u\"ﻩ\" : u\"ه\",\n",
    "        u\"ﻩ\" : u\"ه\",\n",
    "        u\"ك\" : u\"ک\",\n",
    "        u\"ﺆ\" : u\"و\",\n",
    "        u\"أ\" : u\"ا\",\n",
    "        u\"ﺪ\" : u\"د\"\n",
    "    }\n",
    "    arabic_keys =  re.compile(r\"(\" + \"|\".join(mapping.keys()) + r\")\")\n",
    "    return arabic_keys.sub(lambda x: mapping[x.group()], text)"
   ]
  },
  {
   "cell_type": "code",
   "execution_count": null,
   "id": "b08464b3",
   "metadata": {
    "id": "b08464b3"
   },
   "outputs": [],
   "source": [
    "def clean_comment(text, allspace=True, punc=True, sentence=True, only_persian=True):\n",
    "\n",
    "    #remove halph space, new line ('\\n') and '\\r'\n",
    "    text = text.replace('\\u200c', ' ').replace('\\n', '').replace('\\r', '')\n",
    "    # remove punctuations\n",
    "    text = re.sub(symbols_complete_reg, \"\", text)\n",
    "    # remove arabic letters\n",
    "    text = remeove_arabic(text)\n",
    "    # convert spaces to a one space and delete leading and trailing spaces\n",
    "    text = re.sub(\"(\\s)+\", \" \", text)\n",
    "    text = text.strip()\n",
    "    #lemmatize\n",
    "    \" \".join(clean_lemmatize(text.split(\" \")))\n",
    "    #stemming\n",
    "    \" \".join(clean_stem(text.split(\" \")))\n",
    "    # convert spaces to a one space and delete leading and trailing spaces\n",
    "    text = re.sub(\"(\\s)+\", \" \", text)\n",
    "    text = text.strip()\n",
    "    return text"
   ]
  },
  {
   "cell_type": "code",
   "execution_count": null,
   "id": "ae1a6297",
   "metadata": {
    "id": "ae1a6297"
   },
   "outputs": [],
   "source": [
    "df['Text'] = df['Text'].apply(lambda text:clean_comment(text))"
   ]
  },
  {
   "cell_type": "markdown",
   "id": "tSrQfzW2o0sP",
   "metadata": {
    "id": "tSrQfzW2o0sP"
   },
   "source": [
    "### Normalize\n",
    "The text have different lengths based on words! Detecting the most normal range could help us find the maximum length of the sequences for the preprocessing step"
   ]
  },
  {
   "cell_type": "code",
   "execution_count": null,
   "id": "5FP4iN6wnkOy",
   "metadata": {
    "colab": {
     "base_uri": "https://localhost:8080/"
    },
    "id": "5FP4iN6wnkOy",
    "outputId": "6bc2e50e-e495-405d-dbfd-62751f0e3df0"
   },
   "outputs": [
    {
     "name": "stdout",
     "output_type": "stream",
     "text": [
      "Min: 0 \tMax: 19273\n"
     ]
    }
   ],
   "source": [
    "import numpy as np\n",
    "\n",
    "df['text_len_by_words'] = df['Text'].apply(lambda t: len(hazm.word_tokenize(t)))\n",
    "min_max_len = df[\"text_len_by_words\"].min(), df[\"text_len_by_words\"].max()\n",
    "print(f'Min: {min_max_len[0]} \\tMax: {min_max_len[1]}')"
   ]
  },
  {
   "cell_type": "code",
   "execution_count": null,
   "id": "vJo01Q6LnyzW",
   "metadata": {
    "id": "vJo01Q6LnyzW"
   },
   "outputs": [],
   "source": [
    "def data_gl_than(data, less_than=100.0, greater_than=0.0, col='text_len_by_words'):\n",
    "    data_length = data[col].values\n",
    "    data_glt = sum([1 for length in data_length if greater_than < length <= less_than])\n",
    "    data_glt_rate = (data_glt / len(data_length)) * 100\n",
    "    print(f'Texts with word length of greater than {greater_than} and less than {less_than} includes {data_glt_rate:.2f}% of the whole!')"
   ]
  },
  {
   "cell_type": "code",
   "execution_count": null,
   "id": "7ebp8X-jn7G0",
   "metadata": {
    "colab": {
     "base_uri": "https://localhost:8080/"
    },
    "id": "7ebp8X-jn7G0",
    "outputId": "94b613a3-ad80-42f4-ebc5-a89f3ab465ed"
   },
   "outputs": [
    {
     "name": "stdout",
     "output_type": "stream",
     "text": [
      "Texts with word length of greater than 10 and less than 1000 includes 94.42% of the whole!\n"
     ]
    }
   ],
   "source": [
    "minlim, maxlim = 10, 1000\n",
    "data_gl_than(df, maxlim, minlim)"
   ]
  },
  {
   "cell_type": "code",
   "execution_count": null,
   "id": "KPwXPS_boBYD",
   "metadata": {
    "id": "KPwXPS_boBYD"
   },
   "outputs": [],
   "source": [
    "df['text_len_by_words'] = df['text_len_by_words'].apply(lambda len_t: len_t if minlim <= len_t else None)\n",
    "df = df.dropna(subset=['text_len_by_words'])\n",
    "df = df.reset_index(drop=True)"
   ]
  },
  {
   "cell_type": "code",
   "execution_count": null,
   "id": "8MiEvxG8oGpH",
   "metadata": {
    "colab": {
     "base_uri": "https://localhost:8080/"
    },
    "id": "8MiEvxG8oGpH",
    "outputId": "46fa9503-54d9-41ef-a1f6-cb2e08a5d72c"
   },
   "outputs": [
    {
     "data": {
      "text/plain": [
       "270"
      ]
     },
     "execution_count": 15,
     "metadata": {},
     "output_type": "execute_result"
    }
   ],
   "source": [
    "int(np.mean(df['text_len_by_words']))"
   ]
  },
  {
   "cell_type": "code",
   "execution_count": null,
   "id": "1aftcvjpbR2g",
   "metadata": {
    "colab": {
     "base_uri": "https://localhost:8080/"
    },
    "id": "1aftcvjpbR2g",
    "outputId": "d8b41173-5fa6-4aac-b45d-5834b9342119"
   },
   "outputs": [
    {
     "data": {
      "text/plain": [
       "siasi    17296\n",
       "eqtes    16351\n",
       "kharj    14463\n",
       "vrzsh    12760\n",
       "akhar    12503\n",
       "shari     9862\n",
       "elmif     8730\n",
       "shahr     8378\n",
       "ejtem     8151\n",
       "shrst     8142\n",
       "gungn     7518\n",
       "adabh     5134\n",
       "havad     3757\n",
       "elmfa     1784\n",
       "maqal     1438\n",
       "gozar     1418\n",
       "soxan     1308\n",
       "aeqts     1271\n",
       "polig     1225\n",
       "nnaft     1190\n",
       "Name: Cat, dtype: int64"
      ]
     },
     "execution_count": 16,
     "metadata": {},
     "output_type": "execute_result"
    }
   ],
   "source": [
    "df['Cat'].value_counts()[:20]"
   ]
  },
  {
   "cell_type": "markdown",
   "id": "9275a539",
   "metadata": {
    "id": "9275a539"
   },
   "source": [
    "balance data which their cats are under 5% instances"
   ]
  },
  {
   "cell_type": "code",
   "execution_count": null,
   "id": "54d7fa74",
   "metadata": {
    "id": "54d7fa74"
   },
   "outputs": [],
   "source": [
    "groupby_cat = df.groupby('Cat')['Cat'].count()\n",
    "\n",
    "group_cats = list(groupby_cat.index)\n",
    "group_values = list(groupby_cat.values)\n",
    "remove_cats = []\n",
    "for idx, cat in enumerate(group_cats):\n",
    "  if group_values[idx] < 8000:\n",
    "    remove_cats.append(cat)\n"
   ]
  },
  {
   "cell_type": "code",
   "execution_count": null,
   "id": "481c6d3f",
   "metadata": {
    "id": "481c6d3f"
   },
   "outputs": [],
   "source": [
    "df['Cat'] = df['Cat'].apply(lambda cat: None if cat in remove_cats else cat)\n",
    "df = df.dropna(subset=['Cat'])\n",
    "df = df.reset_index(drop=True)"
   ]
  },
  {
   "cell_type": "code",
   "execution_count": null,
   "id": "d2649b7a",
   "metadata": {
    "colab": {
     "base_uri": "https://localhost:8080/"
    },
    "id": "d2649b7a",
    "outputId": "cbd57dc1-89c9-4adc-c71a-86e43902ae6e"
   },
   "outputs": [
    {
     "name": "stdout",
     "output_type": "stream",
     "text": [
      "We have #10: ['akhar', 'ejtem', 'elmif', 'eqtes', 'kharj', 'shahr', 'shari', 'shrst', 'siasi', 'vrzsh']\n",
      "{0: 'akhar', 1: 'ejtem', 2: 'elmif', 3: 'eqtes', 4: 'kharj', 5: 'shahr', 6: 'shari', 7: 'shrst', 8: 'siasi', 9: 'vrzsh'}\n"
     ]
    }
   ],
   "source": [
    "labels = list(sorted(df['Cat'].unique()))\n",
    "print(f'We have #{len(labels)}: {labels}')\n",
    "id2labels = {idx:l for idx, l in enumerate(labels)}\n",
    "print(id2labels)"
   ]
  },
  {
   "cell_type": "code",
   "execution_count": null,
   "id": "7c143113",
   "metadata": {
    "colab": {
     "base_uri": "https://localhost:8080/",
     "height": 424
    },
    "id": "7c143113",
    "outputId": "2070c990-5702-49b9-fece-3deaecfded8c"
   },
   "outputs": [
    {
     "data": {
      "text/html": [
       "\n",
       "\n",
       "  <div id=\"df-2b9d515e-fc69-45f4-8746-1eb91c5c3621\">\n",
       "    <div class=\"colab-df-container\">\n",
       "      <div>\n",
       "<style scoped>\n",
       "    .dataframe tbody tr th:only-of-type {\n",
       "        vertical-align: middle;\n",
       "    }\n",
       "\n",
       "    .dataframe tbody tr th {\n",
       "        vertical-align: top;\n",
       "    }\n",
       "\n",
       "    .dataframe thead th {\n",
       "        text-align: right;\n",
       "    }\n",
       "</style>\n",
       "<table border=\"1\" class=\"dataframe\">\n",
       "  <thead>\n",
       "    <tr style=\"text-align: right;\">\n",
       "      <th></th>\n",
       "      <th>DID</th>\n",
       "      <th>Date</th>\n",
       "      <th>Cat</th>\n",
       "      <th>Text</th>\n",
       "      <th>text_len_by_words</th>\n",
       "    </tr>\n",
       "  </thead>\n",
       "  <tbody>\n",
       "    <tr>\n",
       "      <th>0</th>\n",
       "      <td>4S1</td>\n",
       "      <td>75\\04\\02</td>\n",
       "      <td>ejtem</td>\n",
       "      <td>بازی جدی بگیریم مطالعه ای مقدماتی پیرامون نقش ...</td>\n",
       "      <td>1153.0</td>\n",
       "    </tr>\n",
       "    <tr>\n",
       "      <th>1</th>\n",
       "      <td>11S1</td>\n",
       "      <td>75\\04\\02</td>\n",
       "      <td>eqtes</td>\n",
       "      <td>رشد اقتصادی کشورهای صنعتی سال آینده سازمان همک...</td>\n",
       "      <td>87.0</td>\n",
       "    </tr>\n",
       "    <tr>\n",
       "      <th>2</th>\n",
       "      <td>12S1</td>\n",
       "      <td>75\\04\\02</td>\n",
       "      <td>eqtes</td>\n",
       "      <td>تن مدیران ارشد کشور تهران آموزش دیدند سرویس اق...</td>\n",
       "      <td>150.0</td>\n",
       "    </tr>\n",
       "    <tr>\n",
       "      <th>3</th>\n",
       "      <td>13S1</td>\n",
       "      <td>75\\04\\02</td>\n",
       "      <td>eqtes</td>\n",
       "      <td>کمیته راهنمایی سرمایه گذاران ایرانی تشکیل می ت...</td>\n",
       "      <td>144.0</td>\n",
       "    </tr>\n",
       "    <tr>\n",
       "      <th>4</th>\n",
       "      <td>14S1</td>\n",
       "      <td>75\\04\\02</td>\n",
       "      <td>eqtes</td>\n",
       "      <td>هفته صرفه جویی مصرف آب آغاز سرویس اقتصادی هفته...</td>\n",
       "      <td>87.0</td>\n",
       "    </tr>\n",
       "    <tr>\n",
       "      <th>...</th>\n",
       "      <td>...</td>\n",
       "      <td>...</td>\n",
       "      <td>...</td>\n",
       "      <td>...</td>\n",
       "      <td>...</td>\n",
       "    </tr>\n",
       "    <tr>\n",
       "      <th>116631</th>\n",
       "      <td>59437S6</td>\n",
       "      <td>81\\10\\14</td>\n",
       "      <td>eqtes</td>\n",
       "      <td>منطقه آزاد کیش تالار فرعی معاملات ارزی کشور تب...</td>\n",
       "      <td>130.0</td>\n",
       "    </tr>\n",
       "    <tr>\n",
       "      <th>116632</th>\n",
       "      <td>59437S7</td>\n",
       "      <td>81\\10\\14</td>\n",
       "      <td>eqtes</td>\n",
       "      <td>روغن موتور سطح کیفیت جهانی ایران تولید گروه اق...</td>\n",
       "      <td>103.0</td>\n",
       "    </tr>\n",
       "    <tr>\n",
       "      <th>116633</th>\n",
       "      <td>59437S8</td>\n",
       "      <td>81\\10\\14</td>\n",
       "      <td>eqtes</td>\n",
       "      <td>یادداشت احزاب سیاسی بودجه محمدصادق جنان صفت بر...</td>\n",
       "      <td>135.0</td>\n",
       "    </tr>\n",
       "    <tr>\n",
       "      <th>116634</th>\n",
       "      <td>59437S9</td>\n",
       "      <td>81\\10\\14</td>\n",
       "      <td>eqtes</td>\n",
       "      <td>خبرها نکته شهامت یک مدیر خبر سال پیش وسیعی شرق...</td>\n",
       "      <td>109.0</td>\n",
       "    </tr>\n",
       "    <tr>\n",
       "      <th>116635</th>\n",
       "      <td>59437S10</td>\n",
       "      <td>81\\10\\14</td>\n",
       "      <td>eqtes</td>\n",
       "      <td>یادآوری دقت معاون اقتصادی سازمان مدیریت برنامه...</td>\n",
       "      <td>114.0</td>\n",
       "    </tr>\n",
       "  </tbody>\n",
       "</table>\n",
       "<p>116636 rows × 5 columns</p>\n",
       "</div>\n",
       "      <button class=\"colab-df-convert\" onclick=\"convertToInteractive('df-2b9d515e-fc69-45f4-8746-1eb91c5c3621')\"\n",
       "              title=\"Convert this dataframe to an interactive table.\"\n",
       "              style=\"display:none;\">\n",
       "\n",
       "  <svg xmlns=\"http://www.w3.org/2000/svg\" height=\"24px\"viewBox=\"0 0 24 24\"\n",
       "       width=\"24px\">\n",
       "    <path d=\"M0 0h24v24H0V0z\" fill=\"none\"/>\n",
       "    <path d=\"M18.56 5.44l.94 2.06.94-2.06 2.06-.94-2.06-.94-.94-2.06-.94 2.06-2.06.94zm-11 1L8.5 8.5l.94-2.06 2.06-.94-2.06-.94L8.5 2.5l-.94 2.06-2.06.94zm10 10l.94 2.06.94-2.06 2.06-.94-2.06-.94-.94-2.06-.94 2.06-2.06.94z\"/><path d=\"M17.41 7.96l-1.37-1.37c-.4-.4-.92-.59-1.43-.59-.52 0-1.04.2-1.43.59L10.3 9.45l-7.72 7.72c-.78.78-.78 2.05 0 2.83L4 21.41c.39.39.9.59 1.41.59.51 0 1.02-.2 1.41-.59l7.78-7.78 2.81-2.81c.8-.78.8-2.07 0-2.86zM5.41 20L4 18.59l7.72-7.72 1.47 1.35L5.41 20z\"/>\n",
       "  </svg>\n",
       "      </button>\n",
       "\n",
       "\n",
       "\n",
       "    <div id=\"df-3eb46367-afd2-4acb-a19a-9e84dcff4da8\">\n",
       "      <button class=\"colab-df-quickchart\" onclick=\"quickchart('df-3eb46367-afd2-4acb-a19a-9e84dcff4da8')\"\n",
       "              title=\"Suggest charts.\"\n",
       "              style=\"display:none;\">\n",
       "\n",
       "<svg xmlns=\"http://www.w3.org/2000/svg\" height=\"24px\"viewBox=\"0 0 24 24\"\n",
       "     width=\"24px\">\n",
       "    <g>\n",
       "        <path d=\"M19 3H5c-1.1 0-2 .9-2 2v14c0 1.1.9 2 2 2h14c1.1 0 2-.9 2-2V5c0-1.1-.9-2-2-2zM9 17H7v-7h2v7zm4 0h-2V7h2v10zm4 0h-2v-4h2v4z\"/>\n",
       "    </g>\n",
       "</svg>\n",
       "      </button>\n",
       "    </div>\n",
       "\n",
       "<style>\n",
       "  .colab-df-quickchart {\n",
       "    background-color: #E8F0FE;\n",
       "    border: none;\n",
       "    border-radius: 50%;\n",
       "    cursor: pointer;\n",
       "    display: none;\n",
       "    fill: #1967D2;\n",
       "    height: 32px;\n",
       "    padding: 0 0 0 0;\n",
       "    width: 32px;\n",
       "  }\n",
       "\n",
       "  .colab-df-quickchart:hover {\n",
       "    background-color: #E2EBFA;\n",
       "    box-shadow: 0px 1px 2px rgba(60, 64, 67, 0.3), 0px 1px 3px 1px rgba(60, 64, 67, 0.15);\n",
       "    fill: #174EA6;\n",
       "  }\n",
       "\n",
       "  [theme=dark] .colab-df-quickchart {\n",
       "    background-color: #3B4455;\n",
       "    fill: #D2E3FC;\n",
       "  }\n",
       "\n",
       "  [theme=dark] .colab-df-quickchart:hover {\n",
       "    background-color: #434B5C;\n",
       "    box-shadow: 0px 1px 3px 1px rgba(0, 0, 0, 0.15);\n",
       "    filter: drop-shadow(0px 1px 2px rgba(0, 0, 0, 0.3));\n",
       "    fill: #FFFFFF;\n",
       "  }\n",
       "</style>\n",
       "\n",
       "    <script>\n",
       "      async function quickchart(key) {\n",
       "        const containerElement = document.querySelector('#' + key);\n",
       "        const charts = await google.colab.kernel.invokeFunction(\n",
       "            'suggestCharts', [key], {});\n",
       "      }\n",
       "    </script>\n",
       "\n",
       "      <script>\n",
       "\n",
       "function displayQuickchartButton(domScope) {\n",
       "  let quickchartButtonEl =\n",
       "    domScope.querySelector('#df-3eb46367-afd2-4acb-a19a-9e84dcff4da8 button.colab-df-quickchart');\n",
       "  quickchartButtonEl.style.display =\n",
       "    google.colab.kernel.accessAllowed ? 'block' : 'none';\n",
       "}\n",
       "\n",
       "        displayQuickchartButton(document);\n",
       "      </script>\n",
       "      <style>\n",
       "    .colab-df-container {\n",
       "      display:flex;\n",
       "      flex-wrap:wrap;\n",
       "      gap: 12px;\n",
       "    }\n",
       "\n",
       "    .colab-df-convert {\n",
       "      background-color: #E8F0FE;\n",
       "      border: none;\n",
       "      border-radius: 50%;\n",
       "      cursor: pointer;\n",
       "      display: none;\n",
       "      fill: #1967D2;\n",
       "      height: 32px;\n",
       "      padding: 0 0 0 0;\n",
       "      width: 32px;\n",
       "    }\n",
       "\n",
       "    .colab-df-convert:hover {\n",
       "      background-color: #E2EBFA;\n",
       "      box-shadow: 0px 1px 2px rgba(60, 64, 67, 0.3), 0px 1px 3px 1px rgba(60, 64, 67, 0.15);\n",
       "      fill: #174EA6;\n",
       "    }\n",
       "\n",
       "    [theme=dark] .colab-df-convert {\n",
       "      background-color: #3B4455;\n",
       "      fill: #D2E3FC;\n",
       "    }\n",
       "\n",
       "    [theme=dark] .colab-df-convert:hover {\n",
       "      background-color: #434B5C;\n",
       "      box-shadow: 0px 1px 3px 1px rgba(0, 0, 0, 0.15);\n",
       "      filter: drop-shadow(0px 1px 2px rgba(0, 0, 0, 0.3));\n",
       "      fill: #FFFFFF;\n",
       "    }\n",
       "  </style>\n",
       "\n",
       "      <script>\n",
       "        const buttonEl =\n",
       "          document.querySelector('#df-2b9d515e-fc69-45f4-8746-1eb91c5c3621 button.colab-df-convert');\n",
       "        buttonEl.style.display =\n",
       "          google.colab.kernel.accessAllowed ? 'block' : 'none';\n",
       "\n",
       "        async function convertToInteractive(key) {\n",
       "          const element = document.querySelector('#df-2b9d515e-fc69-45f4-8746-1eb91c5c3621');\n",
       "          const dataTable =\n",
       "            await google.colab.kernel.invokeFunction('convertToInteractive',\n",
       "                                                     [key], {});\n",
       "          if (!dataTable) return;\n",
       "\n",
       "          const docLinkHtml = 'Like what you see? Visit the ' +\n",
       "            '<a target=\"_blank\" href=https://colab.research.google.com/notebooks/data_table.ipynb>data table notebook</a>'\n",
       "            + ' to learn more about interactive tables.';\n",
       "          element.innerHTML = '';\n",
       "          dataTable['output_type'] = 'display_data';\n",
       "          await google.colab.output.renderOutput(dataTable, element);\n",
       "          const docLink = document.createElement('div');\n",
       "          docLink.innerHTML = docLinkHtml;\n",
       "          element.appendChild(docLink);\n",
       "        }\n",
       "      </script>\n",
       "    </div>\n",
       "  </div>\n"
      ],
      "text/plain": [
       "             DID      Date    Cat  \\\n",
       "0            4S1  75\\04\\02  ejtem   \n",
       "1           11S1  75\\04\\02  eqtes   \n",
       "2           12S1  75\\04\\02  eqtes   \n",
       "3           13S1  75\\04\\02  eqtes   \n",
       "4           14S1  75\\04\\02  eqtes   \n",
       "...          ...       ...    ...   \n",
       "116631   59437S6  81\\10\\14  eqtes   \n",
       "116632   59437S7  81\\10\\14  eqtes   \n",
       "116633   59437S8  81\\10\\14  eqtes   \n",
       "116634   59437S9  81\\10\\14  eqtes   \n",
       "116635  59437S10  81\\10\\14  eqtes   \n",
       "\n",
       "                                                     Text  text_len_by_words  \n",
       "0       بازی جدی بگیریم مطالعه ای مقدماتی پیرامون نقش ...             1153.0  \n",
       "1       رشد اقتصادی کشورهای صنعتی سال آینده سازمان همک...               87.0  \n",
       "2       تن مدیران ارشد کشور تهران آموزش دیدند سرویس اق...              150.0  \n",
       "3       کمیته راهنمایی سرمایه گذاران ایرانی تشکیل می ت...              144.0  \n",
       "4       هفته صرفه جویی مصرف آب آغاز سرویس اقتصادی هفته...               87.0  \n",
       "...                                                   ...                ...  \n",
       "116631  منطقه آزاد کیش تالار فرعی معاملات ارزی کشور تب...              130.0  \n",
       "116632  روغن موتور سطح کیفیت جهانی ایران تولید گروه اق...              103.0  \n",
       "116633  یادداشت احزاب سیاسی بودجه محمدصادق جنان صفت بر...              135.0  \n",
       "116634  خبرها نکته شهامت یک مدیر خبر سال پیش وسیعی شرق...              109.0  \n",
       "116635  یادآوری دقت معاون اقتصادی سازمان مدیریت برنامه...              114.0  \n",
       "\n",
       "[116636 rows x 5 columns]"
      ]
     },
     "execution_count": 20,
     "metadata": {},
     "output_type": "execute_result"
    }
   ],
   "source": [
    "df"
   ]
  },
  {
   "cell_type": "code",
   "execution_count": null,
   "id": "b7be17a7",
   "metadata": {
    "id": "b7be17a7"
   },
   "outputs": [],
   "source": [
    "df.to_csv(\"/content/drive/My Drive/dataset_4.csv\", date_format='%Y%m%d')"
   ]
  },
  {
   "cell_type": "markdown",
   "id": "2de7842e",
   "metadata": {
    "id": "2de7842e"
   },
   "source": [
    "## Step 5 - Feature Engineering"
   ]
  },
  {
   "cell_type": "code",
   "execution_count": null,
   "id": "61005b42",
   "metadata": {
    "colab": {
     "base_uri": "https://localhost:8080/",
     "height": 441
    },
    "id": "61005b42",
    "outputId": "fc7b672c-1d51-4970-fd10-3ecf97602bc7"
   },
   "outputs": [
    {
     "name": "stdout",
     "output_type": "stream",
     "text": [
      "Drive already mounted at /content/drive; to attempt to forcibly remount, call drive.mount(\"/content/drive\", force_remount=True).\n"
     ]
    },
    {
     "data": {
      "text/html": [
       "\n",
       "\n",
       "  <div id=\"df-ce5b62e0-d005-42d8-b19d-f9d8abb567e3\">\n",
       "    <div class=\"colab-df-container\">\n",
       "      <div>\n",
       "<style scoped>\n",
       "    .dataframe tbody tr th:only-of-type {\n",
       "        vertical-align: middle;\n",
       "    }\n",
       "\n",
       "    .dataframe tbody tr th {\n",
       "        vertical-align: top;\n",
       "    }\n",
       "\n",
       "    .dataframe thead th {\n",
       "        text-align: right;\n",
       "    }\n",
       "</style>\n",
       "<table border=\"1\" class=\"dataframe\">\n",
       "  <thead>\n",
       "    <tr style=\"text-align: right;\">\n",
       "      <th></th>\n",
       "      <th>DID</th>\n",
       "      <th>Date</th>\n",
       "      <th>Cat</th>\n",
       "      <th>Text</th>\n",
       "    </tr>\n",
       "  </thead>\n",
       "  <tbody>\n",
       "    <tr>\n",
       "      <th>0</th>\n",
       "      <td>4S1</td>\n",
       "      <td>75\\04\\02</td>\n",
       "      <td>ejtem</td>\n",
       "      <td>بازی جدی بگیریم مطالعه ای مقدماتی پیرامون نقش ...</td>\n",
       "    </tr>\n",
       "    <tr>\n",
       "      <th>1</th>\n",
       "      <td>11S1</td>\n",
       "      <td>75\\04\\02</td>\n",
       "      <td>eqtes</td>\n",
       "      <td>رشد اقتصادی کشورهای صنعتی سال آینده سازمان همک...</td>\n",
       "    </tr>\n",
       "    <tr>\n",
       "      <th>2</th>\n",
       "      <td>12S1</td>\n",
       "      <td>75\\04\\02</td>\n",
       "      <td>eqtes</td>\n",
       "      <td>تن مدیران ارشد کشور تهران آموزش دیدند سرویس اق...</td>\n",
       "    </tr>\n",
       "    <tr>\n",
       "      <th>3</th>\n",
       "      <td>13S1</td>\n",
       "      <td>75\\04\\02</td>\n",
       "      <td>eqtes</td>\n",
       "      <td>کمیته راهنمایی سرمایه گذاران ایرانی تشکیل می ت...</td>\n",
       "    </tr>\n",
       "    <tr>\n",
       "      <th>4</th>\n",
       "      <td>14S1</td>\n",
       "      <td>75\\04\\02</td>\n",
       "      <td>eqtes</td>\n",
       "      <td>هفته صرفه جویی مصرف آب آغاز سرویس اقتصادی هفته...</td>\n",
       "    </tr>\n",
       "    <tr>\n",
       "      <th>...</th>\n",
       "      <td>...</td>\n",
       "      <td>...</td>\n",
       "      <td>...</td>\n",
       "      <td>...</td>\n",
       "    </tr>\n",
       "    <tr>\n",
       "      <th>116631</th>\n",
       "      <td>59437S6</td>\n",
       "      <td>81\\10\\14</td>\n",
       "      <td>eqtes</td>\n",
       "      <td>منطقه آزاد کیش تالار فرعی معاملات ارزی کشور تب...</td>\n",
       "    </tr>\n",
       "    <tr>\n",
       "      <th>116632</th>\n",
       "      <td>59437S7</td>\n",
       "      <td>81\\10\\14</td>\n",
       "      <td>eqtes</td>\n",
       "      <td>روغن موتور سطح کیفیت جهانی ایران تولید گروه اق...</td>\n",
       "    </tr>\n",
       "    <tr>\n",
       "      <th>116633</th>\n",
       "      <td>59437S8</td>\n",
       "      <td>81\\10\\14</td>\n",
       "      <td>eqtes</td>\n",
       "      <td>یادداشت احزاب سیاسی بودجه محمدصادق جنان صفت بر...</td>\n",
       "    </tr>\n",
       "    <tr>\n",
       "      <th>116634</th>\n",
       "      <td>59437S9</td>\n",
       "      <td>81\\10\\14</td>\n",
       "      <td>eqtes</td>\n",
       "      <td>خبرها نکته شهامت یک مدیر خبر سال پیش وسیعی شرق...</td>\n",
       "    </tr>\n",
       "    <tr>\n",
       "      <th>116635</th>\n",
       "      <td>59437S10</td>\n",
       "      <td>81\\10\\14</td>\n",
       "      <td>eqtes</td>\n",
       "      <td>یادآوری دقت معاون اقتصادی سازمان مدیریت برنامه...</td>\n",
       "    </tr>\n",
       "  </tbody>\n",
       "</table>\n",
       "<p>116636 rows × 4 columns</p>\n",
       "</div>\n",
       "      <button class=\"colab-df-convert\" onclick=\"convertToInteractive('df-ce5b62e0-d005-42d8-b19d-f9d8abb567e3')\"\n",
       "              title=\"Convert this dataframe to an interactive table.\"\n",
       "              style=\"display:none;\">\n",
       "\n",
       "  <svg xmlns=\"http://www.w3.org/2000/svg\" height=\"24px\"viewBox=\"0 0 24 24\"\n",
       "       width=\"24px\">\n",
       "    <path d=\"M0 0h24v24H0V0z\" fill=\"none\"/>\n",
       "    <path d=\"M18.56 5.44l.94 2.06.94-2.06 2.06-.94-2.06-.94-.94-2.06-.94 2.06-2.06.94zm-11 1L8.5 8.5l.94-2.06 2.06-.94-2.06-.94L8.5 2.5l-.94 2.06-2.06.94zm10 10l.94 2.06.94-2.06 2.06-.94-2.06-.94-.94-2.06-.94 2.06-2.06.94z\"/><path d=\"M17.41 7.96l-1.37-1.37c-.4-.4-.92-.59-1.43-.59-.52 0-1.04.2-1.43.59L10.3 9.45l-7.72 7.72c-.78.78-.78 2.05 0 2.83L4 21.41c.39.39.9.59 1.41.59.51 0 1.02-.2 1.41-.59l7.78-7.78 2.81-2.81c.8-.78.8-2.07 0-2.86zM5.41 20L4 18.59l7.72-7.72 1.47 1.35L5.41 20z\"/>\n",
       "  </svg>\n",
       "      </button>\n",
       "\n",
       "\n",
       "\n",
       "    <div id=\"df-d82f469f-049d-4455-842a-6f153fbfabb2\">\n",
       "      <button class=\"colab-df-quickchart\" onclick=\"quickchart('df-d82f469f-049d-4455-842a-6f153fbfabb2')\"\n",
       "              title=\"Suggest charts.\"\n",
       "              style=\"display:none;\">\n",
       "\n",
       "<svg xmlns=\"http://www.w3.org/2000/svg\" height=\"24px\"viewBox=\"0 0 24 24\"\n",
       "     width=\"24px\">\n",
       "    <g>\n",
       "        <path d=\"M19 3H5c-1.1 0-2 .9-2 2v14c0 1.1.9 2 2 2h14c1.1 0 2-.9 2-2V5c0-1.1-.9-2-2-2zM9 17H7v-7h2v7zm4 0h-2V7h2v10zm4 0h-2v-4h2v4z\"/>\n",
       "    </g>\n",
       "</svg>\n",
       "      </button>\n",
       "    </div>\n",
       "\n",
       "<style>\n",
       "  .colab-df-quickchart {\n",
       "    background-color: #E8F0FE;\n",
       "    border: none;\n",
       "    border-radius: 50%;\n",
       "    cursor: pointer;\n",
       "    display: none;\n",
       "    fill: #1967D2;\n",
       "    height: 32px;\n",
       "    padding: 0 0 0 0;\n",
       "    width: 32px;\n",
       "  }\n",
       "\n",
       "  .colab-df-quickchart:hover {\n",
       "    background-color: #E2EBFA;\n",
       "    box-shadow: 0px 1px 2px rgba(60, 64, 67, 0.3), 0px 1px 3px 1px rgba(60, 64, 67, 0.15);\n",
       "    fill: #174EA6;\n",
       "  }\n",
       "\n",
       "  [theme=dark] .colab-df-quickchart {\n",
       "    background-color: #3B4455;\n",
       "    fill: #D2E3FC;\n",
       "  }\n",
       "\n",
       "  [theme=dark] .colab-df-quickchart:hover {\n",
       "    background-color: #434B5C;\n",
       "    box-shadow: 0px 1px 3px 1px rgba(0, 0, 0, 0.15);\n",
       "    filter: drop-shadow(0px 1px 2px rgba(0, 0, 0, 0.3));\n",
       "    fill: #FFFFFF;\n",
       "  }\n",
       "</style>\n",
       "\n",
       "    <script>\n",
       "      async function quickchart(key) {\n",
       "        const containerElement = document.querySelector('#' + key);\n",
       "        const charts = await google.colab.kernel.invokeFunction(\n",
       "            'suggestCharts', [key], {});\n",
       "      }\n",
       "    </script>\n",
       "\n",
       "      <script>\n",
       "\n",
       "function displayQuickchartButton(domScope) {\n",
       "  let quickchartButtonEl =\n",
       "    domScope.querySelector('#df-d82f469f-049d-4455-842a-6f153fbfabb2 button.colab-df-quickchart');\n",
       "  quickchartButtonEl.style.display =\n",
       "    google.colab.kernel.accessAllowed ? 'block' : 'none';\n",
       "}\n",
       "\n",
       "        displayQuickchartButton(document);\n",
       "      </script>\n",
       "      <style>\n",
       "    .colab-df-container {\n",
       "      display:flex;\n",
       "      flex-wrap:wrap;\n",
       "      gap: 12px;\n",
       "    }\n",
       "\n",
       "    .colab-df-convert {\n",
       "      background-color: #E8F0FE;\n",
       "      border: none;\n",
       "      border-radius: 50%;\n",
       "      cursor: pointer;\n",
       "      display: none;\n",
       "      fill: #1967D2;\n",
       "      height: 32px;\n",
       "      padding: 0 0 0 0;\n",
       "      width: 32px;\n",
       "    }\n",
       "\n",
       "    .colab-df-convert:hover {\n",
       "      background-color: #E2EBFA;\n",
       "      box-shadow: 0px 1px 2px rgba(60, 64, 67, 0.3), 0px 1px 3px 1px rgba(60, 64, 67, 0.15);\n",
       "      fill: #174EA6;\n",
       "    }\n",
       "\n",
       "    [theme=dark] .colab-df-convert {\n",
       "      background-color: #3B4455;\n",
       "      fill: #D2E3FC;\n",
       "    }\n",
       "\n",
       "    [theme=dark] .colab-df-convert:hover {\n",
       "      background-color: #434B5C;\n",
       "      box-shadow: 0px 1px 3px 1px rgba(0, 0, 0, 0.15);\n",
       "      filter: drop-shadow(0px 1px 2px rgba(0, 0, 0, 0.3));\n",
       "      fill: #FFFFFF;\n",
       "    }\n",
       "  </style>\n",
       "\n",
       "      <script>\n",
       "        const buttonEl =\n",
       "          document.querySelector('#df-ce5b62e0-d005-42d8-b19d-f9d8abb567e3 button.colab-df-convert');\n",
       "        buttonEl.style.display =\n",
       "          google.colab.kernel.accessAllowed ? 'block' : 'none';\n",
       "\n",
       "        async function convertToInteractive(key) {\n",
       "          const element = document.querySelector('#df-ce5b62e0-d005-42d8-b19d-f9d8abb567e3');\n",
       "          const dataTable =\n",
       "            await google.colab.kernel.invokeFunction('convertToInteractive',\n",
       "                                                     [key], {});\n",
       "          if (!dataTable) return;\n",
       "\n",
       "          const docLinkHtml = 'Like what you see? Visit the ' +\n",
       "            '<a target=\"_blank\" href=https://colab.research.google.com/notebooks/data_table.ipynb>data table notebook</a>'\n",
       "            + ' to learn more about interactive tables.';\n",
       "          element.innerHTML = '';\n",
       "          dataTable['output_type'] = 'display_data';\n",
       "          await google.colab.output.renderOutput(dataTable, element);\n",
       "          const docLink = document.createElement('div');\n",
       "          docLink.innerHTML = docLinkHtml;\n",
       "          element.appendChild(docLink);\n",
       "        }\n",
       "      </script>\n",
       "    </div>\n",
       "  </div>\n"
      ],
      "text/plain": [
       "             DID      Date    Cat  \\\n",
       "0            4S1  75\\04\\02  ejtem   \n",
       "1           11S1  75\\04\\02  eqtes   \n",
       "2           12S1  75\\04\\02  eqtes   \n",
       "3           13S1  75\\04\\02  eqtes   \n",
       "4           14S1  75\\04\\02  eqtes   \n",
       "...          ...       ...    ...   \n",
       "116631   59437S6  81\\10\\14  eqtes   \n",
       "116632   59437S7  81\\10\\14  eqtes   \n",
       "116633   59437S8  81\\10\\14  eqtes   \n",
       "116634   59437S9  81\\10\\14  eqtes   \n",
       "116635  59437S10  81\\10\\14  eqtes   \n",
       "\n",
       "                                                     Text  \n",
       "0       بازی جدی بگیریم مطالعه ای مقدماتی پیرامون نقش ...  \n",
       "1       رشد اقتصادی کشورهای صنعتی سال آینده سازمان همک...  \n",
       "2       تن مدیران ارشد کشور تهران آموزش دیدند سرویس اق...  \n",
       "3       کمیته راهنمایی سرمایه گذاران ایرانی تشکیل می ت...  \n",
       "4       هفته صرفه جویی مصرف آب آغاز سرویس اقتصادی هفته...  \n",
       "...                                                   ...  \n",
       "116631  منطقه آزاد کیش تالار فرعی معاملات ارزی کشور تب...  \n",
       "116632  روغن موتور سطح کیفیت جهانی ایران تولید گروه اق...  \n",
       "116633  یادداشت احزاب سیاسی بودجه محمدصادق جنان صفت بر...  \n",
       "116634  خبرها نکته شهامت یک مدیر خبر سال پیش وسیعی شرق...  \n",
       "116635  یادآوری دقت معاون اقتصادی سازمان مدیریت برنامه...  \n",
       "\n",
       "[116636 rows x 4 columns]"
      ]
     },
     "execution_count": 1,
     "metadata": {},
     "output_type": "execute_result"
    }
   ],
   "source": [
    "import pandas as pd\n",
    "from google.colab import drive\n",
    "\n",
    "drive.mount('/content/drive')\n",
    "\n",
    "df = pd.read_csv('/content/drive/My Drive/dataset_4.csv')\n",
    "df = df.drop(columns=['Unnamed: 0','text_len_by_words'])\n",
    "df"
   ]
  },
  {
   "cell_type": "code",
   "execution_count": null,
   "id": "ceed0ef5",
   "metadata": {
    "id": "ceed0ef5"
   },
   "outputs": [],
   "source": [
    "from sklearn.feature_extraction.text import TfidfVectorizer"
   ]
  },
  {
   "cell_type": "code",
   "execution_count": null,
   "id": "75358c4e",
   "metadata": {
    "colab": {
     "base_uri": "https://localhost:8080/"
    },
    "id": "75358c4e",
    "outputId": "53890bb0-77b5-409c-9864-7ffd6f0f6002"
   },
   "outputs": [
    {
     "data": {
      "text/plain": [
       "DID     0\n",
       "Date    0\n",
       "Cat     0\n",
       "Text    0\n",
       "dtype: int64"
      ]
     },
     "execution_count": 3,
     "metadata": {},
     "output_type": "execute_result"
    }
   ],
   "source": [
    "df.isnull().sum()"
   ]
  },
  {
   "cell_type": "code",
   "execution_count": null,
   "id": "5ea94a4d",
   "metadata": {
    "id": "5ea94a4d"
   },
   "outputs": [],
   "source": [
    "df.dropna(subset=['Text'], inplace=True)"
   ]
  },
  {
   "cell_type": "code",
   "execution_count": null,
   "id": "90906c4f",
   "metadata": {
    "id": "90906c4f"
   },
   "outputs": [],
   "source": [
    "# TF-IDF Matrix for top 5000 words\n",
    "vectorizer = TfidfVectorizer(ngram_range=(1,1), max_features=5000)\n",
    "\n",
    "# Fit and transform the 'Text' column using TF-IDF\n",
    "tfidf_matrix = vectorizer.fit_transform(df['Text'])"
   ]
  },
  {
   "cell_type": "code",
   "execution_count": null,
   "id": "e9f85072",
   "metadata": {
    "id": "e9f85072"
   },
   "outputs": [],
   "source": [
    "tfidf_array = tfidf_matrix.toarray()"
   ]
  },
  {
   "cell_type": "code",
   "execution_count": null,
   "id": "55f15751",
   "metadata": {
    "colab": {
     "base_uri": "https://localhost:8080/"
    },
    "id": "55f15751",
    "outputId": "9a01c10c-bfb8-4696-e05d-1a111e4416c5"
   },
   "outputs": [
    {
     "data": {
      "text/plain": [
       "(116636, 5000)"
      ]
     },
     "execution_count": 7,
     "metadata": {},
     "output_type": "execute_result"
    }
   ],
   "source": [
    "tfidf_array.shape"
   ]
  },
  {
   "cell_type": "code",
   "execution_count": null,
   "id": "0cda70e7",
   "metadata": {
    "colab": {
     "base_uri": "https://localhost:8080/",
     "height": 576
    },
    "id": "0cda70e7",
    "outputId": "bc66274c-049b-4a8c-9061-b744d278441f"
   },
   "outputs": [
    {
     "name": "stderr",
     "output_type": "stream",
     "text": [
      "<ipython-input-8-c857ed98da24>:12: SettingWithCopyWarning: \n",
      "A value is trying to be set on a copy of a slice from a DataFrame.\n",
      "Try using .loc[row_indexer,col_indexer] = value instead\n",
      "\n",
      "See the caveats in the documentation: https://pandas.pydata.org/pandas-docs/stable/user_guide/indexing.html#returning-a-view-versus-a-copy\n",
      "  nato_df['Date'] = pd.to_datetime(nato_df['Date'], format='%y\\\\%m\\\\%d', errors='coerce')\n"
     ]
    },
    {
     "data": {
      "image/png": "[encoded data removed]",
      "text/plain": [
       "<Figure size 640x480 with 1 Axes>"
      ]
     },
     "metadata": {},
     "output_type": "display_data"
    }
   ],
   "source": [
    "import pandas as pd\n",
    "import matplotlib.pyplot as plt\n",
    "\n",
    "df_main = pd.read_csv('/content/drive/My Drive/dataset.csv')\n",
    "df_main = df_main.drop(columns=['Unnamed: 0'])\n",
    "\n",
    "\n",
    "# Filter the DataFrame to include only rows containing the word 'ناتو' (NATO)\n",
    "nato_df = df_main[df_main['Text'].str.contains('ناتو')]\n",
    "\n",
    "# Convert the 'Date' column to datetime format if needed\n",
    "nato_df['Date'] = pd.to_datetime(nato_df['Date'], format='%y\\\\%m\\\\%d', errors='coerce')\n",
    "\n",
    "# Group the DataFrame by year and count occurrences of 'ناتو' in each year\n",
    "frequency_by_year = nato_df.groupby(nato_df['Date'].dt.year).size()\n",
    "\n",
    "# Plot the frequency of 'ناتو' over time\n",
    "plt.plot(frequency_by_year.index, frequency_by_year.values, marker='o')\n",
    "plt.xlabel('Year')\n",
    "plt.ylabel('Frequency')\n",
    "plt.title('Frequency of NATO Over Time')\n",
    "plt.show()"
   ]
  },
  {
   "cell_type": "markdown",
   "id": "f7213558",
   "metadata": {
    "id": "f7213558"
   },
   "source": [
    "## Step 6 - Dimensionality Reduction"
   ]
  },
  {
   "cell_type": "code",
   "execution_count": null,
   "id": "c44d8dc0",
   "metadata": {
    "id": "c44d8dc0"
   },
   "outputs": [],
   "source": [
    "import pandas as pd\n",
    "from sklearn.decomposition import PCA"
   ]
  },
  {
   "cell_type": "code",
   "execution_count": null,
   "id": "0c10c95f",
   "metadata": {
    "colab": {
     "base_uri": "https://localhost:8080/"
    },
    "id": "0c10c95f",
    "outputId": "032ecfc2-e91f-4a6f-8447-b37f39894a80"
   },
   "outputs": [
    {
     "data": {
      "text/plain": [
       "0.02542951748377438"
      ]
     },
     "execution_count": 10,
     "metadata": {},
     "output_type": "execute_result"
    }
   ],
   "source": [
    "pca_reducer_2 = PCA(n_components = 2)\n",
    "reduced_features = pca_reducer_2.fit_transform(tfidf_array)\n",
    "\n",
    "sum(pca_reducer_2.explained_variance_ratio_)"
   ]
  },
  {
   "cell_type": "code",
   "execution_count": null,
   "id": "fbd1bd41",
   "metadata": {
    "id": "fbd1bd41"
   },
   "outputs": [],
   "source": [
    "# Create a new DataFrame with the reduced features\n",
    "reduced_df = pd.DataFrame(reduced_features, columns=['Feature 1', 'Feature 2'])"
   ]
  },
  {
   "cell_type": "code",
   "execution_count": null,
   "id": "fc4909cc",
   "metadata": {
    "colab": {
     "base_uri": "https://localhost:8080/",
     "height": 472
    },
    "id": "fc4909cc",
    "outputId": "f75d413f-a895-412f-a782-6fc0ede80b15"
   },
   "outputs": [
    {
     "data": {
      "image/png": "[encoded data removed]",
      "text/plain": [
       "<Figure size 640x480 with 1 Axes>"
      ]
     },
     "metadata": {},
     "output_type": "display_data"
    }
   ],
   "source": [
    "plt.scatter(reduced_df['Feature 1'], reduced_df['Feature 2'])\n",
    "plt.xlabel('Feature 1')\n",
    "plt.ylabel('Feature 2')\n",
    "plt.title('Data Plot in Reduced Dimensions')\n",
    "plt.show()"
   ]
  },
  {
   "cell_type": "markdown",
   "id": "6b6cc768",
   "metadata": {
    "id": "6b6cc768"
   },
   "source": [
    "## Step 7 - Clustering"
   ]
  },
  {
   "cell_type": "code",
   "execution_count": null,
   "id": "136ee1ed",
   "metadata": {
    "colab": {
     "base_uri": "https://localhost:8080/"
    },
    "id": "136ee1ed",
    "outputId": "16a7a623-2e2a-4db9-ac23-98cfc3ba45d5"
   },
   "outputs": [
    {
     "name": "stderr",
     "output_type": "stream",
     "text": [
      "/usr/local/lib/python3.10/dist-packages/sklearn/cluster/_kmeans.py:870: FutureWarning: The default value of `n_init` will change from 10 to 'auto' in 1.4. Set the value of `n_init` explicitly to suppress the warning\n",
      "  warnings.warn(\n"
     ]
    }
   ],
   "source": [
    "from sklearn.cluster import KMeans\n",
    "\n",
    "num_clusters = 10\n",
    "kmeans = KMeans(n_clusters=num_clusters, random_state=42)\n",
    "\n",
    "# Fit the K-means model to the reduced data\n",
    "kmeans.fit(reduced_df)\n",
    "\n",
    "# Get the cluster labels assigned by K-means\n",
    "cluster_labels = kmeans.labels_"
   ]
  },
  {
   "cell_type": "code",
   "execution_count": null,
   "id": "16285f8a",
   "metadata": {
    "colab": {
     "base_uri": "https://localhost:8080/",
     "height": 472
    },
    "id": "16285f8a",
    "outputId": "9396e7d4-8e3f-48c4-b681-06de107194a8"
   },
   "outputs": [
    {
     "data": {
      "image/png": "[encoded data removed]",
      "text/plain": [
       "<Figure size 640x480 with 1 Axes>"
      ]
     },
     "metadata": {},
     "output_type": "display_data"
    }
   ],
   "source": [
    "plt.scatter(reduced_df['Feature 1'], reduced_df['Feature 2'], c=cluster_labels)\n",
    "plt.xlabel('Feature 1')\n",
    "plt.ylabel('Feature 2')\n",
    "plt.title('Clustering Results')\n",
    "plt.show()"
   ]
  },
  {
   "cell_type": "markdown",
   "id": "96c9092e",
   "metadata": {
    "id": "96c9092e"
   },
   "source": [
    "## Step 8 - Storage"
   ]
  },
  {
   "cell_type": "code",
   "execution_count": null,
   "id": "351f96a6",
   "metadata": {
    "colab": {
     "base_uri": "https://localhost:8080/"
    },
    "id": "351f96a6",
    "outputId": "e1df1611-b975-411b-8437-fc1b0304709a"
   },
   "outputs": [
    {
     "data": {
      "text/plain": [
       "0.05106137341931134"
      ]
     },
     "execution_count": 15,
     "metadata": {},
     "output_type": "execute_result"
    }
   ],
   "source": [
    "pca_reducer_5 = PCA(n_components = 5)\n",
    "reduced_features = pca_reducer_5.fit_transform(tfidf_array)\n",
    "\n",
    "sum(pca_reducer_5.explained_variance_ratio_)"
   ]
  },
  {
   "cell_type": "code",
   "execution_count": null,
   "id": "801e0a2b",
   "metadata": {
    "id": "801e0a2b"
   },
   "outputs": [],
   "source": [
    "reduced_df = pd.DataFrame(reduced_features, columns=['Feature 1', 'Feature 2','Feature 3','Feature 4','Feature 5'])"
   ]
  },
  {
   "cell_type": "code",
   "execution_count": null,
   "id": "cb3dfb95",
   "metadata": {
    "colab": {
     "base_uri": "https://localhost:8080/"
    },
    "id": "cb3dfb95",
    "outputId": "c140771e-7873-4e2e-fc62-16dc6ed26a51"
   },
   "outputs": [
    {
     "name": "stderr",
     "output_type": "stream",
     "text": [
      "/usr/local/lib/python3.10/dist-packages/sklearn/cluster/_kmeans.py:870: FutureWarning: The default value of `n_init` will change from 10 to 'auto' in 1.4. Set the value of `n_init` explicitly to suppress the warning\n",
      "  warnings.warn(\n"
     ]
    }
   ],
   "source": [
    "from sklearn.cluster import KMeans\n",
    "\n",
    "num_clusters = 10\n",
    "kmeans = KMeans(n_clusters=num_clusters, random_state=42)\n",
    "\n",
    "# Fit the K-means model to the reduced data\n",
    "kmeans.fit(reduced_df)\n",
    "\n",
    "# Get the cluster labels assigned by K-means\n",
    "cluster_labels = kmeans.labels_"
   ]
  },
  {
   "cell_type": "code",
   "execution_count": null,
   "id": "aaba9f17",
   "metadata": {
    "id": "aaba9f17"
   },
   "outputs": [],
   "source": [
    "result_df = pd.concat([df, pd.Series(cluster_labels, name='Cluster Labels')], axis=1)\n",
    "\n",
    "# Save the result DataFrame to a CSV file\n",
    "result_df.to_csv('/content/drive/My Drive/clustering_results.csv', index=False)"
   ]
  },
  {
   "cell_type": "code",
   "execution_count": null,
   "id": "2lR5Ry1gX6lY",
   "metadata": {
    "colab": {
     "base_uri": "https://localhost:8080/",
     "height": 269
    },
    "id": "2lR5Ry1gX6lY",
    "outputId": "f61ead26-ba29-4724-c211-594f7f46cdb3"
   },
   "outputs": [
    {
     "data": {
      "text/html": [
       "\n",
       "\n",
       "  <div id=\"df-44e48107-d5ae-4be2-8d9a-428a2db5cb6b\">\n",
       "    <div class=\"colab-df-container\">\n",
       "      <div>\n",
       "<style scoped>\n",
       "    .dataframe tbody tr th:only-of-type {\n",
       "        vertical-align: middle;\n",
       "    }\n",
       "\n",
       "    .dataframe tbody tr th {\n",
       "        vertical-align: top;\n",
       "    }\n",
       "\n",
       "    .dataframe thead th {\n",
       "        text-align: right;\n",
       "    }\n",
       "</style>\n",
       "<table border=\"1\" class=\"dataframe\">\n",
       "  <thead>\n",
       "    <tr style=\"text-align: right;\">\n",
       "      <th></th>\n",
       "      <th>DID</th>\n",
       "      <th>Date</th>\n",
       "      <th>Cat</th>\n",
       "      <th>Text</th>\n",
       "      <th>Cluster Labels</th>\n",
       "    </tr>\n",
       "  </thead>\n",
       "  <tbody>\n",
       "    <tr>\n",
       "      <th>50099</th>\n",
       "      <td>45129S7</td>\n",
       "      <td>78\\04\\14</td>\n",
       "      <td>elmif</td>\n",
       "      <td>شناسنامه اشیای تاریخی فرهنگی کشور صادر می گروه...</td>\n",
       "      <td>4</td>\n",
       "    </tr>\n",
       "    <tr>\n",
       "      <th>73473</th>\n",
       "      <td>49187S3</td>\n",
       "      <td>79\\06\\02</td>\n",
       "      <td>akhar</td>\n",
       "      <td>مناسبت سال امیرالمومنین مسابقه کتابخوانی استان...</td>\n",
       "      <td>0</td>\n",
       "    </tr>\n",
       "    <tr>\n",
       "      <th>34763</th>\n",
       "      <td>42503S5</td>\n",
       "      <td>77\\06\\24</td>\n",
       "      <td>vrzsh</td>\n",
       "      <td>تیم تکواندو نوجوانان ایران جهان هفتم گروه ورزش...</td>\n",
       "      <td>2</td>\n",
       "    </tr>\n",
       "    <tr>\n",
       "      <th>89145</th>\n",
       "      <td>51588S9</td>\n",
       "      <td>80\\03\\13</td>\n",
       "      <td>vrzsh</td>\n",
       "      <td>خبرهایی فوتبال جهان دومین پیروزی تیم ملی ژاپن ...</td>\n",
       "      <td>2</td>\n",
       "    </tr>\n",
       "    <tr>\n",
       "      <th>110641</th>\n",
       "      <td>57123S4</td>\n",
       "      <td>81\\06\\03</td>\n",
       "      <td>kharj</td>\n",
       "      <td>وزیر خارجه قطر بغداد می رود حمد بن جاسم آل ثان...</td>\n",
       "      <td>8</td>\n",
       "    </tr>\n",
       "    <tr>\n",
       "      <th>70647</th>\n",
       "      <td>48719S6</td>\n",
       "      <td>79\\04\\19</td>\n",
       "      <td>kharj</td>\n",
       "      <td>مذاکرات صلح شاخ آفریقا آمریکا پایان یافت گوی س...</td>\n",
       "      <td>8</td>\n",
       "    </tr>\n",
       "    <tr>\n",
       "      <th>70574</th>\n",
       "      <td>48706S2</td>\n",
       "      <td>79\\04\\18</td>\n",
       "      <td>kharj</td>\n",
       "      <td>عفو بین الملل عربستان حقوق مهاجران غیرقانونی م...</td>\n",
       "      <td>8</td>\n",
       "    </tr>\n",
       "  </tbody>\n",
       "</table>\n",
       "</div>\n",
       "      <button class=\"colab-df-convert\" onclick=\"convertToInteractive('df-44e48107-d5ae-4be2-8d9a-428a2db5cb6b')\"\n",
       "              title=\"Convert this dataframe to an interactive table.\"\n",
       "              style=\"display:none;\">\n",
       "\n",
       "  <svg xmlns=\"http://www.w3.org/2000/svg\" height=\"24px\"viewBox=\"0 0 24 24\"\n",
       "       width=\"24px\">\n",
       "    <path d=\"M0 0h24v24H0V0z\" fill=\"none\"/>\n",
       "    <path d=\"M18.56 5.44l.94 2.06.94-2.06 2.06-.94-2.06-.94-.94-2.06-.94 2.06-2.06.94zm-11 1L8.5 8.5l.94-2.06 2.06-.94-2.06-.94L8.5 2.5l-.94 2.06-2.06.94zm10 10l.94 2.06.94-2.06 2.06-.94-2.06-.94-.94-2.06-.94 2.06-2.06.94z\"/><path d=\"M17.41 7.96l-1.37-1.37c-.4-.4-.92-.59-1.43-.59-.52 0-1.04.2-1.43.59L10.3 9.45l-7.72 7.72c-.78.78-.78 2.05 0 2.83L4 21.41c.39.39.9.59 1.41.59.51 0 1.02-.2 1.41-.59l7.78-7.78 2.81-2.81c.8-.78.8-2.07 0-2.86zM5.41 20L4 18.59l7.72-7.72 1.47 1.35L5.41 20z\"/>\n",
       "  </svg>\n",
       "      </button>\n",
       "\n",
       "\n",
       "\n",
       "    <div id=\"df-2426899b-5c02-430a-bf4b-11bd90224e5d\">\n",
       "      <button class=\"colab-df-quickchart\" onclick=\"quickchart('df-2426899b-5c02-430a-bf4b-11bd90224e5d')\"\n",
       "              title=\"Suggest charts.\"\n",
       "              style=\"display:none;\">\n",
       "\n",
       "<svg xmlns=\"http://www.w3.org/2000/svg\" height=\"24px\"viewBox=\"0 0 24 24\"\n",
       "     width=\"24px\">\n",
       "    <g>\n",
       "        <path d=\"M19 3H5c-1.1 0-2 .9-2 2v14c0 1.1.9 2 2 2h14c1.1 0 2-.9 2-2V5c0-1.1-.9-2-2-2zM9 17H7v-7h2v7zm4 0h-2V7h2v10zm4 0h-2v-4h2v4z\"/>\n",
       "    </g>\n",
       "</svg>\n",
       "      </button>\n",
       "    </div>\n",
       "\n",
       "<style>\n",
       "  .colab-df-quickchart {\n",
       "    background-color: #E8F0FE;\n",
       "    border: none;\n",
       "    border-radius: 50%;\n",
       "    cursor: pointer;\n",
       "    display: none;\n",
       "    fill: #1967D2;\n",
       "    height: 32px;\n",
       "    padding: 0 0 0 0;\n",
       "    width: 32px;\n",
       "  }\n",
       "\n",
       "  .colab-df-quickchart:hover {\n",
       "    background-color: #E2EBFA;\n",
       "    box-shadow: 0px 1px 2px rgba(60, 64, 67, 0.3), 0px 1px 3px 1px rgba(60, 64, 67, 0.15);\n",
       "    fill: #174EA6;\n",
       "  }\n",
       "\n",
       "  [theme=dark] .colab-df-quickchart {\n",
       "    background-color: #3B4455;\n",
       "    fill: #D2E3FC;\n",
       "  }\n",
       "\n",
       "  [theme=dark] .colab-df-quickchart:hover {\n",
       "    background-color: #434B5C;\n",
       "    box-shadow: 0px 1px 3px 1px rgba(0, 0, 0, 0.15);\n",
       "    filter: drop-shadow(0px 1px 2px rgba(0, 0, 0, 0.3));\n",
       "    fill: #FFFFFF;\n",
       "  }\n",
       "</style>\n",
       "\n",
       "    <script>\n",
       "      async function quickchart(key) {\n",
       "        const containerElement = document.querySelector('#' + key);\n",
       "        const charts = await google.colab.kernel.invokeFunction(\n",
       "            'suggestCharts', [key], {});\n",
       "      }\n",
       "    </script>\n",
       "\n",
       "      <script>\n",
       "\n",
       "function displayQuickchartButton(domScope) {\n",
       "  let quickchartButtonEl =\n",
       "    domScope.querySelector('#df-2426899b-5c02-430a-bf4b-11bd90224e5d button.colab-df-quickchart');\n",
       "  quickchartButtonEl.style.display =\n",
       "    google.colab.kernel.accessAllowed ? 'block' : 'none';\n",
       "}\n",
       "\n",
       "        displayQuickchartButton(document);\n",
       "      </script>\n",
       "      <style>\n",
       "    .colab-df-container {\n",
       "      display:flex;\n",
       "      flex-wrap:wrap;\n",
       "      gap: 12px;\n",
       "    }\n",
       "\n",
       "    .colab-df-convert {\n",
       "      background-color: #E8F0FE;\n",
       "      border: none;\n",
       "      border-radius: 50%;\n",
       "      cursor: pointer;\n",
       "      display: none;\n",
       "      fill: #1967D2;\n",
       "      height: 32px;\n",
       "      padding: 0 0 0 0;\n",
       "      width: 32px;\n",
       "    }\n",
       "\n",
       "    .colab-df-convert:hover {\n",
       "      background-color: #E2EBFA;\n",
       "      box-shadow: 0px 1px 2px rgba(60, 64, 67, 0.3), 0px 1px 3px 1px rgba(60, 64, 67, 0.15);\n",
       "      fill: #174EA6;\n",
       "    }\n",
       "\n",
       "    [theme=dark] .colab-df-convert {\n",
       "      background-color: #3B4455;\n",
       "      fill: #D2E3FC;\n",
       "    }\n",
       "\n",
       "    [theme=dark] .colab-df-convert:hover {\n",
       "      background-color: #434B5C;\n",
       "      box-shadow: 0px 1px 3px 1px rgba(0, 0, 0, 0.15);\n",
       "      filter: drop-shadow(0px 1px 2px rgba(0, 0, 0, 0.3));\n",
       "      fill: #FFFFFF;\n",
       "    }\n",
       "  </style>\n",
       "\n",
       "      <script>\n",
       "        const buttonEl =\n",
       "          document.querySelector('#df-44e48107-d5ae-4be2-8d9a-428a2db5cb6b button.colab-df-convert');\n",
       "        buttonEl.style.display =\n",
       "          google.colab.kernel.accessAllowed ? 'block' : 'none';\n",
       "\n",
       "        async function convertToInteractive(key) {\n",
       "          const element = document.querySelector('#df-44e48107-d5ae-4be2-8d9a-428a2db5cb6b');\n",
       "          const dataTable =\n",
       "            await google.colab.kernel.invokeFunction('convertToInteractive',\n",
       "                                                     [key], {});\n",
       "          if (!dataTable) return;\n",
       "\n",
       "          const docLinkHtml = 'Like what you see? Visit the ' +\n",
       "            '<a target=\"_blank\" href=https://colab.research.google.com/notebooks/data_table.ipynb>data table notebook</a>'\n",
       "            + ' to learn more about interactive tables.';\n",
       "          element.innerHTML = '';\n",
       "          dataTable['output_type'] = 'display_data';\n",
       "          await google.colab.output.renderOutput(dataTable, element);\n",
       "          const docLink = document.createElement('div');\n",
       "          docLink.innerHTML = docLinkHtml;\n",
       "          element.appendChild(docLink);\n",
       "        }\n",
       "      </script>\n",
       "    </div>\n",
       "  </div>\n"
      ],
      "text/plain": [
       "            DID      Date    Cat  \\\n",
       "50099   45129S7  78\\04\\14  elmif   \n",
       "73473   49187S3  79\\06\\02  akhar   \n",
       "34763   42503S5  77\\06\\24  vrzsh   \n",
       "89145   51588S9  80\\03\\13  vrzsh   \n",
       "110641  57123S4  81\\06\\03  kharj   \n",
       "70647   48719S6  79\\04\\19  kharj   \n",
       "70574   48706S2  79\\04\\18  kharj   \n",
       "\n",
       "                                                     Text  Cluster Labels  \n",
       "50099   شناسنامه اشیای تاریخی فرهنگی کشور صادر می گروه...               4  \n",
       "73473   مناسبت سال امیرالمومنین مسابقه کتابخوانی استان...               0  \n",
       "34763   تیم تکواندو نوجوانان ایران جهان هفتم گروه ورزش...               2  \n",
       "89145   خبرهایی فوتبال جهان دومین پیروزی تیم ملی ژاپن ...               2  \n",
       "110641  وزیر خارجه قطر بغداد می رود حمد بن جاسم آل ثان...               8  \n",
       "70647   مذاکرات صلح شاخ آفریقا آمریکا پایان یافت گوی س...               8  \n",
       "70574   عفو بین الملل عربستان حقوق مهاجران غیرقانونی م...               8  "
      ]
     },
     "execution_count": 21,
     "metadata": {},
     "output_type": "execute_result"
    }
   ],
   "source": [
    "result_df.sample(7)"
   ]
  },
  {
   "cell_type": "code",
   "execution_count": null,
   "id": "vZvTZJGva8rp",
   "metadata": {
    "id": "vZvTZJGva8rp"
   },
   "outputs": [],
   "source": [
    "import pickle\n",
    "\n",
    "with open(\"/content/drive/My Drive/model.pkl\", \"wb\") as f:\n",
    "    pickle.dump(kmeans, f)"
   ]
  },
  {
   "cell_type": "markdown",
   "id": "342ef0fe",
   "metadata": {
    "id": "342ef0fe"
   },
   "source": [
    "## Step 9 - Classification"
   ]
  },
  {
   "cell_type": "code",
   "execution_count": 1,
   "id": "OrhtpgA24itS",
   "metadata": {
    "id": "OrhtpgA24itS"
   },
   "outputs": [],
   "source": [
    "from sklearn.neighbors import KNeighborsClassifier\n",
    "\n",
    "# Create a KNN classifier with k=7\n",
    "knn = KNeighborsClassifier(n_neighbors=7)"
   ]
  },
  {
   "cell_type": "code",
   "execution_count": 2,
   "id": "UN7q0r4W4pXe",
   "metadata": {
    "id": "UN7q0r4W4pXe"
   },
   "outputs": [],
   "source": [
    "from sklearn.linear_model import LogisticRegression\n",
    "\n",
    "# Create a Logistic Regression classifier\n",
    "logreg = LogisticRegression()"
   ]
  },
  {
   "cell_type": "code",
   "execution_count": 3,
   "id": "OsLW4jRq4pgX",
   "metadata": {
    "id": "OsLW4jRq4pgX"
   },
   "outputs": [],
   "source": [
    "from sklearn.naive_bayes import GaussianNB\n",
    "\n",
    "# Create a Naïve Bayes classifier\n",
    "nb = GaussianNB()"
   ]
  },
  {
   "cell_type": "code",
   "execution_count": 4,
   "id": "VceI6YBd4pi9",
   "metadata": {
    "id": "VceI6YBd4pi9"
   },
   "outputs": [],
   "source": [
    "from sklearn.ensemble import RandomForestClassifier\n",
    "\n",
    "# Create a Random Forest classifier with 100 trees\n",
    "rf = RandomForestClassifier(n_estimators=100)"
   ]
  },
  {
   "cell_type": "code",
   "execution_count": 5,
   "id": "_IfH-N_24i3U",
   "metadata": {
    "id": "_IfH-N_24i3U"
   },
   "outputs": [],
   "source": [
    "from sklearn.ensemble import VotingClassifier\n",
    "\n",
    "# Create the ensemble model with voting\n",
    "ensemble_model = VotingClassifier(estimators=[\n",
    "    ('knn', knn),\n",
    "    ('logreg', logreg),\n",
    "    ('nb', nb),\n",
    "    ('rf', rf)\n",
    "], voting='hard')  # 'hard' voting for majority vote, 'soft' voting for weighted average"
   ]
  },
  {
   "cell_type": "markdown",
   "id": "33TkAAkI6q89",
   "metadata": {
    "id": "33TkAAkI6q89"
   },
   "source": [
    "## Step 10 - Preprocessing on Data"
   ]
  },
  {
   "cell_type": "code",
   "execution_count": 6,
   "id": "JbWyaBgohASq",
   "metadata": {
    "colab": {
     "base_uri": "https://localhost:8080/"
    },
    "id": "JbWyaBgohASq",
    "outputId": "b6fc6a27-305a-4cff-f72f-a7f13dc1f96f"
   },
   "outputs": [
    {
     "name": "stdout",
     "output_type": "stream",
     "text": [
      "Drive already mounted at /content/drive; to attempt to forcibly remount, call drive.mount(\"/content/drive\", force_remount=True).\n"
     ]
    }
   ],
   "source": [
    "import pandas as pd\n",
    "from google.colab import drive\n",
    "\n",
    "drive.mount('/content/drive')\n",
    "\n",
    "df = pd.read_csv('/content/drive/My Drive/dataset_4.csv')"
   ]
  },
  {
   "cell_type": "code",
   "execution_count": 7,
   "id": "T0Pn5ICr6vSW",
   "metadata": {
    "id": "T0Pn5ICr6vSW"
   },
   "outputs": [],
   "source": [
    "from sklearn.preprocessing import LabelEncoder\n",
    "\n",
    "label_encoder = LabelEncoder()\n",
    "encoded_labels = label_encoder.fit_transform(df['Cat'])"
   ]
  },
  {
   "cell_type": "code",
   "execution_count": 8,
   "id": "nyFMN7yP6vYG",
   "metadata": {
    "id": "nyFMN7yP6vYG"
   },
   "outputs": [],
   "source": [
    "from sklearn.model_selection import train_test_split\n",
    "\n",
    "df.dropna(subset=['Text'], inplace=True)\n",
    "\n",
    "y = encoded_labels\n",
    "X = df['Text']\n",
    "\n",
    "# Split the data into training and test sets\n",
    "X_train, X_test, y_train, y_test = train_test_split(X, y, test_size=0.2, random_state=42)"
   ]
  },
  {
   "cell_type": "code",
   "execution_count": 9,
   "id": "mdDYBw8xhMCx",
   "metadata": {
    "id": "mdDYBw8xhMCx"
   },
   "outputs": [],
   "source": [
    "from sklearn.feature_extraction.text import TfidfVectorizer\n",
    "\n",
    "\n",
    "vectorizer = TfidfVectorizer(ngram_range=(1,1), max_features=4000)\n",
    "\n",
    "X_train = vectorizer.fit_transform(X_train).toarray()\n",
    "X_test = vectorizer.fit_transform(X_test).toarray()"
   ]
  },
  {
   "cell_type": "markdown",
   "id": "WWLSelkw8Abt",
   "metadata": {
    "id": "WWLSelkw8Abt"
   },
   "source": [
    "## Step 11 - Model Training"
   ]
  },
  {
   "cell_type": "code",
   "execution_count": 10,
   "id": "pBQILyDv7_jG",
   "metadata": {
    "colab": {
     "base_uri": "https://localhost:8080/",
     "height": 75
    },
    "id": "pBQILyDv7_jG",
    "outputId": "1e1a5742-d8ce-4464-ab20-8900cb200a73"
   },
   "outputs": [
    {
     "data": {
      "text/html": [
       "<style>#sk-container-id-1 {color: black;background-color: white;}#sk-container-id-1 pre{padding: 0;}#sk-container-id-1 div.sk-toggleable {background-color: white;}#sk-container-id-1 label.sk-toggleable__label {cursor: pointer;display: block;width: 100%;margin-bottom: 0;padding: 0.3em;box-sizing: border-box;text-align: center;}#sk-container-id-1 label.sk-toggleable__label-arrow:before {content: \"▸\";float: left;margin-right: 0.25em;color: #696969;}#sk-container-id-1 label.sk-toggleable__label-arrow:hover:before {color: black;}#sk-container-id-1 div.sk-estimator:hover label.sk-toggleable__label-arrow:before {color: black;}#sk-container-id-1 div.sk-toggleable__content {max-height: 0;max-width: 0;overflow: hidden;text-align: left;background-color: #f0f8ff;}#sk-container-id-1 div.sk-toggleable__content pre {margin: 0.2em;color: black;border-radius: 0.25em;background-color: #f0f8ff;}#sk-container-id-1 input.sk-toggleable__control:checked~div.sk-toggleable__content {max-height: 200px;max-width: 100%;overflow: auto;}#sk-container-id-1 input.sk-toggleable__control:checked~label.sk-toggleable__label-arrow:before {content: \"▾\";}#sk-container-id-1 div.sk-estimator input.sk-toggleable__control:checked~label.sk-toggleable__label {background-color: #d4ebff;}#sk-container-id-1 div.sk-label input.sk-toggleable__control:checked~label.sk-toggleable__label {background-color: #d4ebff;}#sk-container-id-1 input.sk-hidden--visually {border: 0;clip: rect(1px 1px 1px 1px);clip: rect(1px, 1px, 1px, 1px);height: 1px;margin: -1px;overflow: hidden;padding: 0;position: absolute;width: 1px;}#sk-container-id-1 div.sk-estimator {font-family: monospace;background-color: #f0f8ff;border: 1px dotted black;border-radius: 0.25em;box-sizing: border-box;margin-bottom: 0.5em;}#sk-container-id-1 div.sk-estimator:hover {background-color: #d4ebff;}#sk-container-id-1 div.sk-parallel-item::after {content: \"\";width: 100%;border-bottom: 1px solid gray;flex-grow: 1;}#sk-container-id-1 div.sk-label:hover label.sk-toggleable__label {background-color: #d4ebff;}#sk-container-id-1 div.sk-serial::before {content: \"\";position: absolute;border-left: 1px solid gray;box-sizing: border-box;top: 0;bottom: 0;left: 50%;z-index: 0;}#sk-container-id-1 div.sk-serial {display: flex;flex-direction: column;align-items: center;background-color: white;padding-right: 0.2em;padding-left: 0.2em;position: relative;}#sk-container-id-1 div.sk-item {position: relative;z-index: 1;}#sk-container-id-1 div.sk-parallel {display: flex;align-items: stretch;justify-content: center;background-color: white;position: relative;}#sk-container-id-1 div.sk-item::before, #sk-container-id-1 div.sk-parallel-item::before {content: \"\";position: absolute;border-left: 1px solid gray;box-sizing: border-box;top: 0;bottom: 0;left: 50%;z-index: -1;}#sk-container-id-1 div.sk-parallel-item {display: flex;flex-direction: column;z-index: 1;position: relative;background-color: white;}#sk-container-id-1 div.sk-parallel-item:first-child::after {align-self: flex-end;width: 50%;}#sk-container-id-1 div.sk-parallel-item:last-child::after {align-self: flex-start;width: 50%;}#sk-container-id-1 div.sk-parallel-item:only-child::after {width: 0;}#sk-container-id-1 div.sk-dashed-wrapped {border: 1px dashed gray;margin: 0 0.4em 0.5em 0.4em;box-sizing: border-box;padding-bottom: 0.4em;background-color: white;}#sk-container-id-1 div.sk-label label {font-family: monospace;font-weight: bold;display: inline-block;line-height: 1.2em;}#sk-container-id-1 div.sk-label-container {text-align: center;}#sk-container-id-1 div.sk-container {/* jupyter's `normalize.less` sets `[hidden] { display: none; }` but bootstrap.min.css set `[hidden] { display: none !important; }` so we also need the `!important` here to be able to override the default hidden behavior on the sphinx rendered scikit-learn.org. See: https://github.com/scikit-learn/scikit-learn/issues/21755 */display: inline-block !important;position: relative;}#sk-container-id-1 div.sk-text-repr-fallback {display: none;}</style><div id=\"sk-container-id-1\" class=\"sk-top-container\"><div class=\"sk-text-repr-fallback\"><pre>GaussianNB()</pre><b>In a Jupyter environment, please rerun this cell to show the HTML representation or trust the notebook. <br />On GitHub, the HTML representation is unable to render, please try loading this page with nbviewer.org.</b></div><div class=\"sk-container\" hidden><div class=\"sk-item\"><div class=\"sk-estimator sk-toggleable\"><input class=\"sk-toggleable__control sk-hidden--visually\" id=\"sk-estimator-id-1\" type=\"checkbox\" checked><label for=\"sk-estimator-id-1\" class=\"sk-toggleable__label sk-toggleable__label-arrow\">GaussianNB</label><div class=\"sk-toggleable__content\"><pre>GaussianNB()</pre></div></div></div></div></div>"
      ],
      "text/plain": [
       "GaussianNB()"
      ]
     },
     "execution_count": 10,
     "metadata": {},
     "output_type": "execute_result"
    }
   ],
   "source": [
    "nb.fit(X_train, y_train)"
   ]
  },
  {
   "cell_type": "code",
   "execution_count": 11,
   "id": "DvqnrwDd_R7j",
   "metadata": {
    "colab": {
     "base_uri": "https://localhost:8080/",
     "height": 214
    },
    "id": "DvqnrwDd_R7j",
    "outputId": "7a16d69f-fd8f-46b0-f97d-faf8f4875bff"
   },
   "outputs": [
    {
     "name": "stderr",
     "output_type": "stream",
     "text": [
      "/usr/local/lib/python3.10/dist-packages/sklearn/linear_model/_logistic.py:458: ConvergenceWarning: lbfgs failed to converge (status=1):\n",
      "STOP: TOTAL NO. of ITERATIONS REACHED LIMIT.\n",
      "\n",
      "Increase the number of iterations (max_iter) or scale the data as shown in:\n",
      "    https://scikit-learn.org/stable/modules/preprocessing.html\n",
      "Please also refer to the documentation for alternative solver options:\n",
      "    https://scikit-learn.org/stable/modules/linear_model.html#logistic-regression\n",
      "  n_iter_i = _check_optimize_result(\n"
     ]
    },
    {
     "data": {
      "text/html": [
       "<style>#sk-container-id-2 {color: black;background-color: white;}#sk-container-id-2 pre{padding: 0;}#sk-container-id-2 div.sk-toggleable {background-color: white;}#sk-container-id-2 label.sk-toggleable__label {cursor: pointer;display: block;width: 100%;margin-bottom: 0;padding: 0.3em;box-sizing: border-box;text-align: center;}#sk-container-id-2 label.sk-toggleable__label-arrow:before {content: \"▸\";float: left;margin-right: 0.25em;color: #696969;}#sk-container-id-2 label.sk-toggleable__label-arrow:hover:before {color: black;}#sk-container-id-2 div.sk-estimator:hover label.sk-toggleable__label-arrow:before {color: black;}#sk-container-id-2 div.sk-toggleable__content {max-height: 0;max-width: 0;overflow: hidden;text-align: left;background-color: #f0f8ff;}#sk-container-id-2 div.sk-toggleable__content pre {margin: 0.2em;color: black;border-radius: 0.25em;background-color: #f0f8ff;}#sk-container-id-2 input.sk-toggleable__control:checked~div.sk-toggleable__content {max-height: 200px;max-width: 100%;overflow: auto;}#sk-container-id-2 input.sk-toggleable__control:checked~label.sk-toggleable__label-arrow:before {content: \"▾\";}#sk-container-id-2 div.sk-estimator input.sk-toggleable__control:checked~label.sk-toggleable__label {background-color: #d4ebff;}#sk-container-id-2 div.sk-label input.sk-toggleable__control:checked~label.sk-toggleable__label {background-color: #d4ebff;}#sk-container-id-2 input.sk-hidden--visually {border: 0;clip: rect(1px 1px 1px 1px);clip: rect(1px, 1px, 1px, 1px);height: 1px;margin: -1px;overflow: hidden;padding: 0;position: absolute;width: 1px;}#sk-container-id-2 div.sk-estimator {font-family: monospace;background-color: #f0f8ff;border: 1px dotted black;border-radius: 0.25em;box-sizing: border-box;margin-bottom: 0.5em;}#sk-container-id-2 div.sk-estimator:hover {background-color: #d4ebff;}#sk-container-id-2 div.sk-parallel-item::after {content: \"\";width: 100%;border-bottom: 1px solid gray;flex-grow: 1;}#sk-container-id-2 div.sk-label:hover label.sk-toggleable__label {background-color: #d4ebff;}#sk-container-id-2 div.sk-serial::before {content: \"\";position: absolute;border-left: 1px solid gray;box-sizing: border-box;top: 0;bottom: 0;left: 50%;z-index: 0;}#sk-container-id-2 div.sk-serial {display: flex;flex-direction: column;align-items: center;background-color: white;padding-right: 0.2em;padding-left: 0.2em;position: relative;}#sk-container-id-2 div.sk-item {position: relative;z-index: 1;}#sk-container-id-2 div.sk-parallel {display: flex;align-items: stretch;justify-content: center;background-color: white;position: relative;}#sk-container-id-2 div.sk-item::before, #sk-container-id-2 div.sk-parallel-item::before {content: \"\";position: absolute;border-left: 1px solid gray;box-sizing: border-box;top: 0;bottom: 0;left: 50%;z-index: -1;}#sk-container-id-2 div.sk-parallel-item {display: flex;flex-direction: column;z-index: 1;position: relative;background-color: white;}#sk-container-id-2 div.sk-parallel-item:first-child::after {align-self: flex-end;width: 50%;}#sk-container-id-2 div.sk-parallel-item:last-child::after {align-self: flex-start;width: 50%;}#sk-container-id-2 div.sk-parallel-item:only-child::after {width: 0;}#sk-container-id-2 div.sk-dashed-wrapped {border: 1px dashed gray;margin: 0 0.4em 0.5em 0.4em;box-sizing: border-box;padding-bottom: 0.4em;background-color: white;}#sk-container-id-2 div.sk-label label {font-family: monospace;font-weight: bold;display: inline-block;line-height: 1.2em;}#sk-container-id-2 div.sk-label-container {text-align: center;}#sk-container-id-2 div.sk-container {/* jupyter's `normalize.less` sets `[hidden] { display: none; }` but bootstrap.min.css set `[hidden] { display: none !important; }` so we also need the `!important` here to be able to override the default hidden behavior on the sphinx rendered scikit-learn.org. See: https://github.com/scikit-learn/scikit-learn/issues/21755 */display: inline-block !important;position: relative;}#sk-container-id-2 div.sk-text-repr-fallback {display: none;}</style><div id=\"sk-container-id-2\" class=\"sk-top-container\"><div class=\"sk-text-repr-fallback\"><pre>LogisticRegression()</pre><b>In a Jupyter environment, please rerun this cell to show the HTML representation or trust the notebook. <br />On GitHub, the HTML representation is unable to render, please try loading this page with nbviewer.org.</b></div><div class=\"sk-container\" hidden><div class=\"sk-item\"><div class=\"sk-estimator sk-toggleable\"><input class=\"sk-toggleable__control sk-hidden--visually\" id=\"sk-estimator-id-2\" type=\"checkbox\" checked><label for=\"sk-estimator-id-2\" class=\"sk-toggleable__label sk-toggleable__label-arrow\">LogisticRegression</label><div class=\"sk-toggleable__content\"><pre>LogisticRegression()</pre></div></div></div></div></div>"
      ],
      "text/plain": [
       "LogisticRegression()"
      ]
     },
     "execution_count": 11,
     "metadata": {},
     "output_type": "execute_result"
    }
   ],
   "source": [
    "logreg.fit(X_train, y_train)"
   ]
  },
  {
   "cell_type": "code",
   "execution_count": 12,
   "id": "8BRNIECF_R_r",
   "metadata": {
    "colab": {
     "base_uri": "https://localhost:8080/",
     "height": 75
    },
    "id": "8BRNIECF_R_r",
    "outputId": "4c15b682-fbde-4eca-c68a-d44f2d15412d"
   },
   "outputs": [
    {
     "data": {
      "text/html": [
       "<style>#sk-container-id-3 {color: black;background-color: white;}#sk-container-id-3 pre{padding: 0;}#sk-container-id-3 div.sk-toggleable {background-color: white;}#sk-container-id-3 label.sk-toggleable__label {cursor: pointer;display: block;width: 100%;margin-bottom: 0;padding: 0.3em;box-sizing: border-box;text-align: center;}#sk-container-id-3 label.sk-toggleable__label-arrow:before {content: \"▸\";float: left;margin-right: 0.25em;color: #696969;}#sk-container-id-3 label.sk-toggleable__label-arrow:hover:before {color: black;}#sk-container-id-3 div.sk-estimator:hover label.sk-toggleable__label-arrow:before {color: black;}#sk-container-id-3 div.sk-toggleable__content {max-height: 0;max-width: 0;overflow: hidden;text-align: left;background-color: #f0f8ff;}#sk-container-id-3 div.sk-toggleable__content pre {margin: 0.2em;color: black;border-radius: 0.25em;background-color: #f0f8ff;}#sk-container-id-3 input.sk-toggleable__control:checked~div.sk-toggleable__content {max-height: 200px;max-width: 100%;overflow: auto;}#sk-container-id-3 input.sk-toggleable__control:checked~label.sk-toggleable__label-arrow:before {content: \"▾\";}#sk-container-id-3 div.sk-estimator input.sk-toggleable__control:checked~label.sk-toggleable__label {background-color: #d4ebff;}#sk-container-id-3 div.sk-label input.sk-toggleable__control:checked~label.sk-toggleable__label {background-color: #d4ebff;}#sk-container-id-3 input.sk-hidden--visually {border: 0;clip: rect(1px 1px 1px 1px);clip: rect(1px, 1px, 1px, 1px);height: 1px;margin: -1px;overflow: hidden;padding: 0;position: absolute;width: 1px;}#sk-container-id-3 div.sk-estimator {font-family: monospace;background-color: #f0f8ff;border: 1px dotted black;border-radius: 0.25em;box-sizing: border-box;margin-bottom: 0.5em;}#sk-container-id-3 div.sk-estimator:hover {background-color: #d4ebff;}#sk-container-id-3 div.sk-parallel-item::after {content: \"\";width: 100%;border-bottom: 1px solid gray;flex-grow: 1;}#sk-container-id-3 div.sk-label:hover label.sk-toggleable__label {background-color: #d4ebff;}#sk-container-id-3 div.sk-serial::before {content: \"\";position: absolute;border-left: 1px solid gray;box-sizing: border-box;top: 0;bottom: 0;left: 50%;z-index: 0;}#sk-container-id-3 div.sk-serial {display: flex;flex-direction: column;align-items: center;background-color: white;padding-right: 0.2em;padding-left: 0.2em;position: relative;}#sk-container-id-3 div.sk-item {position: relative;z-index: 1;}#sk-container-id-3 div.sk-parallel {display: flex;align-items: stretch;justify-content: center;background-color: white;position: relative;}#sk-container-id-3 div.sk-item::before, #sk-container-id-3 div.sk-parallel-item::before {content: \"\";position: absolute;border-left: 1px solid gray;box-sizing: border-box;top: 0;bottom: 0;left: 50%;z-index: -1;}#sk-container-id-3 div.sk-parallel-item {display: flex;flex-direction: column;z-index: 1;position: relative;background-color: white;}#sk-container-id-3 div.sk-parallel-item:first-child::after {align-self: flex-end;width: 50%;}#sk-container-id-3 div.sk-parallel-item:last-child::after {align-self: flex-start;width: 50%;}#sk-container-id-3 div.sk-parallel-item:only-child::after {width: 0;}#sk-container-id-3 div.sk-dashed-wrapped {border: 1px dashed gray;margin: 0 0.4em 0.5em 0.4em;box-sizing: border-box;padding-bottom: 0.4em;background-color: white;}#sk-container-id-3 div.sk-label label {font-family: monospace;font-weight: bold;display: inline-block;line-height: 1.2em;}#sk-container-id-3 div.sk-label-container {text-align: center;}#sk-container-id-3 div.sk-container {/* jupyter's `normalize.less` sets `[hidden] { display: none; }` but bootstrap.min.css set `[hidden] { display: none !important; }` so we also need the `!important` here to be able to override the default hidden behavior on the sphinx rendered scikit-learn.org. See: https://github.com/scikit-learn/scikit-learn/issues/21755 */display: inline-block !important;position: relative;}#sk-container-id-3 div.sk-text-repr-fallback {display: none;}</style><div id=\"sk-container-id-3\" class=\"sk-top-container\"><div class=\"sk-text-repr-fallback\"><pre>KNeighborsClassifier(n_neighbors=7)</pre><b>In a Jupyter environment, please rerun this cell to show the HTML representation or trust the notebook. <br />On GitHub, the HTML representation is unable to render, please try loading this page with nbviewer.org.</b></div><div class=\"sk-container\" hidden><div class=\"sk-item\"><div class=\"sk-estimator sk-toggleable\"><input class=\"sk-toggleable__control sk-hidden--visually\" id=\"sk-estimator-id-3\" type=\"checkbox\" checked><label for=\"sk-estimator-id-3\" class=\"sk-toggleable__label sk-toggleable__label-arrow\">KNeighborsClassifier</label><div class=\"sk-toggleable__content\"><pre>KNeighborsClassifier(n_neighbors=7)</pre></div></div></div></div></div>"
      ],
      "text/plain": [
       "KNeighborsClassifier(n_neighbors=7)"
      ]
     },
     "execution_count": 12,
     "metadata": {},
     "output_type": "execute_result"
    }
   ],
   "source": [
    "knn.fit(X_train, y_train)"
   ]
  },
  {
   "cell_type": "code",
   "execution_count": 13,
   "id": "Zvfi0jrB_SI0",
   "metadata": {
    "colab": {
     "base_uri": "https://localhost:8080/",
     "height": 75
    },
    "id": "Zvfi0jrB_SI0",
    "outputId": "ede18bca-57bc-4096-fa63-9d65f2e6261c"
   },
   "outputs": [
    {
     "data": {
      "text/html": [
       "<style>#sk-container-id-4 {color: black;background-color: white;}#sk-container-id-4 pre{padding: 0;}#sk-container-id-4 div.sk-toggleable {background-color: white;}#sk-container-id-4 label.sk-toggleable__label {cursor: pointer;display: block;width: 100%;margin-bottom: 0;padding: 0.3em;box-sizing: border-box;text-align: center;}#sk-container-id-4 label.sk-toggleable__label-arrow:before {content: \"▸\";float: left;margin-right: 0.25em;color: #696969;}#sk-container-id-4 label.sk-toggleable__label-arrow:hover:before {color: black;}#sk-container-id-4 div.sk-estimator:hover label.sk-toggleable__label-arrow:before {color: black;}#sk-container-id-4 div.sk-toggleable__content {max-height: 0;max-width: 0;overflow: hidden;text-align: left;background-color: #f0f8ff;}#sk-container-id-4 div.sk-toggleable__content pre {margin: 0.2em;color: black;border-radius: 0.25em;background-color: #f0f8ff;}#sk-container-id-4 input.sk-toggleable__control:checked~div.sk-toggleable__content {max-height: 200px;max-width: 100%;overflow: auto;}#sk-container-id-4 input.sk-toggleable__control:checked~label.sk-toggleable__label-arrow:before {content: \"▾\";}#sk-container-id-4 div.sk-estimator input.sk-toggleable__control:checked~label.sk-toggleable__label {background-color: #d4ebff;}#sk-container-id-4 div.sk-label input.sk-toggleable__control:checked~label.sk-toggleable__label {background-color: #d4ebff;}#sk-container-id-4 input.sk-hidden--visually {border: 0;clip: rect(1px 1px 1px 1px);clip: rect(1px, 1px, 1px, 1px);height: 1px;margin: -1px;overflow: hidden;padding: 0;position: absolute;width: 1px;}#sk-container-id-4 div.sk-estimator {font-family: monospace;background-color: #f0f8ff;border: 1px dotted black;border-radius: 0.25em;box-sizing: border-box;margin-bottom: 0.5em;}#sk-container-id-4 div.sk-estimator:hover {background-color: #d4ebff;}#sk-container-id-4 div.sk-parallel-item::after {content: \"\";width: 100%;border-bottom: 1px solid gray;flex-grow: 1;}#sk-container-id-4 div.sk-label:hover label.sk-toggleable__label {background-color: #d4ebff;}#sk-container-id-4 div.sk-serial::before {content: \"\";position: absolute;border-left: 1px solid gray;box-sizing: border-box;top: 0;bottom: 0;left: 50%;z-index: 0;}#sk-container-id-4 div.sk-serial {display: flex;flex-direction: column;align-items: center;background-color: white;padding-right: 0.2em;padding-left: 0.2em;position: relative;}#sk-container-id-4 div.sk-item {position: relative;z-index: 1;}#sk-container-id-4 div.sk-parallel {display: flex;align-items: stretch;justify-content: center;background-color: white;position: relative;}#sk-container-id-4 div.sk-item::before, #sk-container-id-4 div.sk-parallel-item::before {content: \"\";position: absolute;border-left: 1px solid gray;box-sizing: border-box;top: 0;bottom: 0;left: 50%;z-index: -1;}#sk-container-id-4 div.sk-parallel-item {display: flex;flex-direction: column;z-index: 1;position: relative;background-color: white;}#sk-container-id-4 div.sk-parallel-item:first-child::after {align-self: flex-end;width: 50%;}#sk-container-id-4 div.sk-parallel-item:last-child::after {align-self: flex-start;width: 50%;}#sk-container-id-4 div.sk-parallel-item:only-child::after {width: 0;}#sk-container-id-4 div.sk-dashed-wrapped {border: 1px dashed gray;margin: 0 0.4em 0.5em 0.4em;box-sizing: border-box;padding-bottom: 0.4em;background-color: white;}#sk-container-id-4 div.sk-label label {font-family: monospace;font-weight: bold;display: inline-block;line-height: 1.2em;}#sk-container-id-4 div.sk-label-container {text-align: center;}#sk-container-id-4 div.sk-container {/* jupyter's `normalize.less` sets `[hidden] { display: none; }` but bootstrap.min.css set `[hidden] { display: none !important; }` so we also need the `!important` here to be able to override the default hidden behavior on the sphinx rendered scikit-learn.org. See: https://github.com/scikit-learn/scikit-learn/issues/21755 */display: inline-block !important;position: relative;}#sk-container-id-4 div.sk-text-repr-fallback {display: none;}</style><div id=\"sk-container-id-4\" class=\"sk-top-container\"><div class=\"sk-text-repr-fallback\"><pre>RandomForestClassifier()</pre><b>In a Jupyter environment, please rerun this cell to show the HTML representation or trust the notebook. <br />On GitHub, the HTML representation is unable to render, please try loading this page with nbviewer.org.</b></div><div class=\"sk-container\" hidden><div class=\"sk-item\"><div class=\"sk-estimator sk-toggleable\"><input class=\"sk-toggleable__control sk-hidden--visually\" id=\"sk-estimator-id-4\" type=\"checkbox\" checked><label for=\"sk-estimator-id-4\" class=\"sk-toggleable__label sk-toggleable__label-arrow\">RandomForestClassifier</label><div class=\"sk-toggleable__content\"><pre>RandomForestClassifier()</pre></div></div></div></div></div>"
      ],
      "text/plain": [
       "RandomForestClassifier()"
      ]
     },
     "execution_count": 13,
     "metadata": {},
     "output_type": "execute_result"
    }
   ],
   "source": [
    "rf.fit(X_train, y_train)"
   ]
  },
  {
   "cell_type": "code",
   "execution_count": 14,
   "id": "90FXuCqA_XYY",
   "metadata": {
    "colab": {
     "base_uri": "https://localhost:8080/",
     "height": 248
    },
    "id": "90FXuCqA_XYY",
    "outputId": "dacb849b-4daa-4eae-8483-0e34e2bfedc5"
   },
   "outputs": [
    {
     "name": "stderr",
     "output_type": "stream",
     "text": [
      "/usr/local/lib/python3.10/dist-packages/sklearn/linear_model/_logistic.py:458: ConvergenceWarning: lbfgs failed to converge (status=1):\n",
      "STOP: TOTAL NO. of ITERATIONS REACHED LIMIT.\n",
      "\n",
      "Increase the number of iterations (max_iter) or scale the data as shown in:\n",
      "    https://scikit-learn.org/stable/modules/preprocessing.html\n",
      "Please also refer to the documentation for alternative solver options:\n",
      "    https://scikit-learn.org/stable/modules/linear_model.html#logistic-regression\n",
      "  n_iter_i = _check_optimize_result(\n"
     ]
    },
    {
     "data": {
      "text/html": [
       "<style>#sk-container-id-5 {color: black;background-color: white;}#sk-container-id-5 pre{padding: 0;}#sk-container-id-5 div.sk-toggleable {background-color: white;}#sk-container-id-5 label.sk-toggleable__label {cursor: pointer;display: block;width: 100%;margin-bottom: 0;padding: 0.3em;box-sizing: border-box;text-align: center;}#sk-container-id-5 label.sk-toggleable__label-arrow:before {content: \"▸\";float: left;margin-right: 0.25em;color: #696969;}#sk-container-id-5 label.sk-toggleable__label-arrow:hover:before {color: black;}#sk-container-id-5 div.sk-estimator:hover label.sk-toggleable__label-arrow:before {color: black;}#sk-container-id-5 div.sk-toggleable__content {max-height: 0;max-width: 0;overflow: hidden;text-align: left;background-color: #f0f8ff;}#sk-container-id-5 div.sk-toggleable__content pre {margin: 0.2em;color: black;border-radius: 0.25em;background-color: #f0f8ff;}#sk-container-id-5 input.sk-toggleable__control:checked~div.sk-toggleable__content {max-height: 200px;max-width: 100%;overflow: auto;}#sk-container-id-5 input.sk-toggleable__control:checked~label.sk-toggleable__label-arrow:before {content: \"▾\";}#sk-container-id-5 div.sk-estimator input.sk-toggleable__control:checked~label.sk-toggleable__label {background-color: #d4ebff;}#sk-container-id-5 div.sk-label input.sk-toggleable__control:checked~label.sk-toggleable__label {background-color: #d4ebff;}#sk-container-id-5 input.sk-hidden--visually {border: 0;clip: rect(1px 1px 1px 1px);clip: rect(1px, 1px, 1px, 1px);height: 1px;margin: -1px;overflow: hidden;padding: 0;position: absolute;width: 1px;}#sk-container-id-5 div.sk-estimator {font-family: monospace;background-color: #f0f8ff;border: 1px dotted black;border-radius: 0.25em;box-sizing: border-box;margin-bottom: 0.5em;}#sk-container-id-5 div.sk-estimator:hover {background-color: #d4ebff;}#sk-container-id-5 div.sk-parallel-item::after {content: \"\";width: 100%;border-bottom: 1px solid gray;flex-grow: 1;}#sk-container-id-5 div.sk-label:hover label.sk-toggleable__label {background-color: #d4ebff;}#sk-container-id-5 div.sk-serial::before {content: \"\";position: absolute;border-left: 1px solid gray;box-sizing: border-box;top: 0;bottom: 0;left: 50%;z-index: 0;}#sk-container-id-5 div.sk-serial {display: flex;flex-direction: column;align-items: center;background-color: white;padding-right: 0.2em;padding-left: 0.2em;position: relative;}#sk-container-id-5 div.sk-item {position: relative;z-index: 1;}#sk-container-id-5 div.sk-parallel {display: flex;align-items: stretch;justify-content: center;background-color: white;position: relative;}#sk-container-id-5 div.sk-item::before, #sk-container-id-5 div.sk-parallel-item::before {content: \"\";position: absolute;border-left: 1px solid gray;box-sizing: border-box;top: 0;bottom: 0;left: 50%;z-index: -1;}#sk-container-id-5 div.sk-parallel-item {display: flex;flex-direction: column;z-index: 1;position: relative;background-color: white;}#sk-container-id-5 div.sk-parallel-item:first-child::after {align-self: flex-end;width: 50%;}#sk-container-id-5 div.sk-parallel-item:last-child::after {align-self: flex-start;width: 50%;}#sk-container-id-5 div.sk-parallel-item:only-child::after {width: 0;}#sk-container-id-5 div.sk-dashed-wrapped {border: 1px dashed gray;margin: 0 0.4em 0.5em 0.4em;box-sizing: border-box;padding-bottom: 0.4em;background-color: white;}#sk-container-id-5 div.sk-label label {font-family: monospace;font-weight: bold;display: inline-block;line-height: 1.2em;}#sk-container-id-5 div.sk-label-container {text-align: center;}#sk-container-id-5 div.sk-container {/* jupyter's `normalize.less` sets `[hidden] { display: none; }` but bootstrap.min.css set `[hidden] { display: none !important; }` so we also need the `!important` here to be able to override the default hidden behavior on the sphinx rendered scikit-learn.org. See: https://github.com/scikit-learn/scikit-learn/issues/21755 */display: inline-block !important;position: relative;}#sk-container-id-5 div.sk-text-repr-fallback {display: none;}</style><div id=\"sk-container-id-5\" class=\"sk-top-container\"><div class=\"sk-text-repr-fallback\"><pre>VotingClassifier(estimators=[(&#x27;knn&#x27;, KNeighborsClassifier(n_neighbors=7)),\n",
       "                             (&#x27;logreg&#x27;, LogisticRegression()),\n",
       "                             (&#x27;nb&#x27;, GaussianNB()),\n",
       "                             (&#x27;rf&#x27;, RandomForestClassifier())])</pre><b>In a Jupyter environment, please rerun this cell to show the HTML representation or trust the notebook. <br />On GitHub, the HTML representation is unable to render, please try loading this page with nbviewer.org.</b></div><div class=\"sk-container\" hidden><div class=\"sk-item sk-dashed-wrapped\"><div class=\"sk-label-container\"><div class=\"sk-label sk-toggleable\"><input class=\"sk-toggleable__control sk-hidden--visually\" id=\"sk-estimator-id-5\" type=\"checkbox\" ><label for=\"sk-estimator-id-5\" class=\"sk-toggleable__label sk-toggleable__label-arrow\">VotingClassifier</label><div class=\"sk-toggleable__content\"><pre>VotingClassifier(estimators=[(&#x27;knn&#x27;, KNeighborsClassifier(n_neighbors=7)),\n",
       "                             (&#x27;logreg&#x27;, LogisticRegression()),\n",
       "                             (&#x27;nb&#x27;, GaussianNB()),\n",
       "                             (&#x27;rf&#x27;, RandomForestClassifier())])</pre></div></div></div><div class=\"sk-parallel\"><div class=\"sk-parallel-item\"><div class=\"sk-item\"><div class=\"sk-label-container\"><div class=\"sk-label sk-toggleable\"><label>knn</label></div></div><div class=\"sk-serial\"><div class=\"sk-item\"><div class=\"sk-estimator sk-toggleable\"><input class=\"sk-toggleable__control sk-hidden--visually\" id=\"sk-estimator-id-6\" type=\"checkbox\" ><label for=\"sk-estimator-id-6\" class=\"sk-toggleable__label sk-toggleable__label-arrow\">KNeighborsClassifier</label><div class=\"sk-toggleable__content\"><pre>KNeighborsClassifier(n_neighbors=7)</pre></div></div></div></div></div></div><div class=\"sk-parallel-item\"><div class=\"sk-item\"><div class=\"sk-label-container\"><div class=\"sk-label sk-toggleable\"><label>logreg</label></div></div><div class=\"sk-serial\"><div class=\"sk-item\"><div class=\"sk-estimator sk-toggleable\"><input class=\"sk-toggleable__control sk-hidden--visually\" id=\"sk-estimator-id-7\" type=\"checkbox\" ><label for=\"sk-estimator-id-7\" class=\"sk-toggleable__label sk-toggleable__label-arrow\">LogisticRegression</label><div class=\"sk-toggleable__content\"><pre>LogisticRegression()</pre></div></div></div></div></div></div><div class=\"sk-parallel-item\"><div class=\"sk-item\"><div class=\"sk-label-container\"><div class=\"sk-label sk-toggleable\"><label>nb</label></div></div><div class=\"sk-serial\"><div class=\"sk-item\"><div class=\"sk-estimator sk-toggleable\"><input class=\"sk-toggleable__control sk-hidden--visually\" id=\"sk-estimator-id-8\" type=\"checkbox\" ><label for=\"sk-estimator-id-8\" class=\"sk-toggleable__label sk-toggleable__label-arrow\">GaussianNB</label><div class=\"sk-toggleable__content\"><pre>GaussianNB()</pre></div></div></div></div></div></div><div class=\"sk-parallel-item\"><div class=\"sk-item\"><div class=\"sk-label-container\"><div class=\"sk-label sk-toggleable\"><label>rf</label></div></div><div class=\"sk-serial\"><div class=\"sk-item\"><div class=\"sk-estimator sk-toggleable\"><input class=\"sk-toggleable__control sk-hidden--visually\" id=\"sk-estimator-id-9\" type=\"checkbox\" ><label for=\"sk-estimator-id-9\" class=\"sk-toggleable__label sk-toggleable__label-arrow\">RandomForestClassifier</label><div class=\"sk-toggleable__content\"><pre>RandomForestClassifier()</pre></div></div></div></div></div></div></div></div></div></div>"
      ],
      "text/plain": [
       "VotingClassifier(estimators=[('knn', KNeighborsClassifier(n_neighbors=7)),\n",
       "                             ('logreg', LogisticRegression()),\n",
       "                             ('nb', GaussianNB()),\n",
       "                             ('rf', RandomForestClassifier())])"
      ]
     },
     "execution_count": 14,
     "metadata": {},
     "output_type": "execute_result"
    }
   ],
   "source": [
    "ensemble_model.fit(X_train, y_train)"
   ]
  },
  {
   "cell_type": "markdown",
   "id": "fsnpTeUNAbGF",
   "metadata": {
    "id": "fsnpTeUNAbGF"
   },
   "source": [
    "## Step 12 - Model Evaluation"
   ]
  },
  {
   "cell_type": "code",
   "execution_count": 15,
   "id": "fqtR3x3VBDav",
   "metadata": {
    "id": "fqtR3x3VBDav"
   },
   "outputs": [],
   "source": [
    "# Make predictions on the test set\n",
    "knn_pred1 = knn.predict(X_train)\n",
    "logreg_pred1 = logreg.predict(X_train)\n",
    "nb_pred1 = nb.predict(X_train)\n",
    "rf_pred1 = rf.predict(X_train)\n",
    "ensemble_model_pred1 = ensemble_model.predict(X_train)"
   ]
  },
  {
   "cell_type": "code",
   "execution_count": 16,
   "id": "J_Liv306BDl-",
   "metadata": {
    "id": "J_Liv306BDl-"
   },
   "outputs": [],
   "source": [
    "from sklearn.metrics import accuracy_score\n",
    "\n",
    "# Calculate and print the accuracy scores\n",
    "knn_accuracy1 = accuracy_score(y_train, knn_pred1)\n",
    "logreg_accuracy1 = accuracy_score(y_train, logreg_pred1)\n",
    "nb_accuracy1 = accuracy_score(y_train, nb_pred1)\n",
    "rf_accuracy1 = accuracy_score(y_train, rf_pred1)\n",
    "ensemble_model_accuracy1 = accuracy_score(y_train, ensemble_model_pred1)"
   ]
  },
  {
   "cell_type": "code",
   "execution_count": 17,
   "id": "SKi1EeRrBDq6",
   "metadata": {
    "colab": {
     "base_uri": "https://localhost:8080/"
    },
    "id": "SKi1EeRrBDq6",
    "outputId": "4355cccc-823f-4508-cadd-3c1153e65f97"
   },
   "outputs": [
    {
     "name": "stdout",
     "output_type": "stream",
     "text": [
      "KNN Accuracy on Training Data: 0.8073155570797788\n",
      "Logistic Regression Accuracy on Training Data: 0.8860440691044712\n",
      "Naïve Bayes Accuracy on Training Data: 0.7203348051614009\n",
      "Random Forest Accuracy on Training Data: 0.9999571312213315\n",
      "Ensemble Model Accuracy on Training Data: 0.9076713679427273\n"
     ]
    }
   ],
   "source": [
    "print(\"KNN Accuracy on Training Data:\", knn_accuracy1)\n",
    "print(\"Logistic Regression Accuracy on Training Data:\", logreg_accuracy1)\n",
    "print(\"Naïve Bayes Accuracy on Training Data:\", nb_accuracy1)\n",
    "print(\"Random Forest Accuracy on Training Data:\", rf_accuracy1)\n",
    "print(\"Ensemble Model Accuracy on Training Data:\", ensemble_model_accuracy1)"
   ]
  },
  {
   "cell_type": "code",
   "execution_count": 18,
   "id": "ZoTi8XlKAenq",
   "metadata": {
    "id": "ZoTi8XlKAenq"
   },
   "outputs": [],
   "source": [
    "# Make predictions on the test set\n",
    "knn_pred = knn.predict(X_test)\n",
    "logreg_pred = logreg.predict(X_test)\n",
    "nb_pred = nb.predict(X_test)\n",
    "rf_pred = rf.predict(X_test)\n",
    "ensemble_model_pred = ensemble_model.predict(X_test)"
   ]
  },
  {
   "cell_type": "code",
   "execution_count": 19,
   "id": "gDpaf2zkAerr",
   "metadata": {
    "id": "gDpaf2zkAerr"
   },
   "outputs": [],
   "source": [
    "from sklearn.metrics import accuracy_score\n",
    "\n",
    "# Calculate and print the accuracy scores\n",
    "knn_accuracy = accuracy_score(y_test, knn_pred)\n",
    "logreg_accuracy = accuracy_score(y_test, logreg_pred)\n",
    "nb_accuracy = accuracy_score(y_test, nb_pred)\n",
    "rf_accuracy = accuracy_score(y_test, rf_pred)\n",
    "ensemble_model_accuracy = accuracy_score(y_test, ensemble_model_pred)"
   ]
  },
  {
   "cell_type": "code",
   "execution_count": 20,
   "id": "5VR_NZarA2V6",
   "metadata": {
    "colab": {
     "base_uri": "https://localhost:8080/"
    },
    "id": "5VR_NZarA2V6",
    "outputId": "8506faec-96ba-488d-e53d-24ad5b60814b"
   },
   "outputs": [
    {
     "name": "stdout",
     "output_type": "stream",
     "text": [
      "KNN Accuracy on Testing Data: 0.26727537722908096\n",
      "Logistic Regression Accuracy on Testing Data: 0.2808641975308642\n",
      "Naïve Bayes Accuracy on Testing Data: 0.13473079561042525\n",
      "Random Forest Accuracy on Testing Data: 0.2069187242798354\n",
      "Ensemble Model Accuracy on Testing Data: 0.23563957475994513\n"
     ]
    }
   ],
   "source": [
    "print(\"KNN Accuracy on Testing Data:\", knn_accuracy)\n",
    "print(\"Logistic Regression Accuracy on Testing Data:\", logreg_accuracy)\n",
    "print(\"Naïve Bayes Accuracy on Testing Data:\", nb_accuracy)\n",
    "print(\"Random Forest Accuracy on Testing Data:\", rf_accuracy)\n",
    "print(\"Ensemble Model Accuracy on Testing Data:\", ensemble_model_accuracy)"
   ]
  },
  {
   "cell_type": "code",
   "execution_count": 21,
   "id": "PNQ3Lj5g46ZF",
   "metadata": {
    "id": "PNQ3Lj5g46ZF"
   },
   "outputs": [],
   "source": [
    "from sklearn.metrics import precision_score\n",
    "\n",
    "\n",
    "knn_precision = precision_score(y_test, knn_pred,average='micro')\n",
    "logreg_precision = precision_score(y_test, logreg_pred,average='micro')\n",
    "nb_precision = precision_score(y_test, nb_pred,average='micro')\n",
    "rf_precision = precision_score(y_test, rf_pred,average='micro')\n",
    "ensemble_model_precision = precision_score(y_test, ensemble_model_pred,average='micro')"
   ]
  },
  {
   "cell_type": "code",
   "execution_count": 22,
   "id": "1XNAZaDW5zFr",
   "metadata": {
    "colab": {
     "base_uri": "https://localhost:8080/"
    },
    "id": "1XNAZaDW5zFr",
    "outputId": "22a48e95-62b5-41a7-c711-01baed04ffa8"
   },
   "outputs": [
    {
     "name": "stdout",
     "output_type": "stream",
     "text": [
      "KNN Precision: 0.26727537722908096\n",
      "Logistic Regression Precision: 0.2808641975308642\n",
      "Naïve Bayes Precision: 0.13473079561042525\n",
      "Random Forest Precision: 0.2069187242798354\n",
      "Ensemble Model Precision: 0.23563957475994513\n"
     ]
    }
   ],
   "source": [
    "print(\"KNN Precision:\", knn_precision)\n",
    "print(\"Logistic Regression Precision:\", logreg_precision)\n",
    "print(\"Naïve Bayes Precision:\", nb_precision)\n",
    "print(\"Random Forest Precision:\", rf_precision)\n",
    "print(\"Ensemble Model Precision:\", ensemble_model_precision)"
   ]
  },
  {
   "cell_type": "code",
   "execution_count": 23,
   "id": "l50oSYJOBRdY",
   "metadata": {
    "colab": {
     "base_uri": "https://localhost:8080/"
    },
    "id": "l50oSYJOBRdY",
    "outputId": "eea32476-3806-4a8e-c8b0-d6eaa92704c0"
   },
   "outputs": [
    {
     "name": "stdout",
     "output_type": "stream",
     "text": [
      "KNN Confusion Matrix:\n",
      "[[711 348 242 212 187  75 135  86 235 341]\n",
      " [149 431 126 171 203  82 157 101 127  61]\n",
      " [209 178 647 151 171  49  83  76  96  85]\n",
      " [279 585 212 830 370 136 165 143 340 157]\n",
      " [191 331 121 409 884 147 201  90 363 109]\n",
      " [175 189 161 247 168 142 220 109 153  86]\n",
      " [136 236 152 272 167 122 499 105 153  71]\n",
      " [231 166 164 265 117  80 149 199 180  76]\n",
      " [272 660 230 440 428 148 209 115 931 141]\n",
      " [137 367 176 258 176  80 210  39 172 961]]\n",
      "\n",
      "Logistic Regression Confusion Matrix:\n",
      "[[1998   69   28   42  177   83   33   13  103   26]\n",
      " [ 861  311   33   58   64   58   37   13  163   10]\n",
      " [1079   93  287   23   33   47   14   14  143   12]\n",
      " [1658  419   13  300  142  159   61  109  321   35]\n",
      " [1182  133   12   78 1013  100   26    7  273   22]\n",
      " [ 747  116   34   65  101  257  119   59  121   31]\n",
      " [ 789  111   24   54   45  248  415   60  146   21]\n",
      " [ 645  216   20   96   68  138   80  124  212   28]\n",
      " [1901  291   36   84  212  104   69   40  822   15]\n",
      " [ 959  105    9   74   86   60   29    6  223 1025]]\n",
      "\n",
      "Naïve Bayes Confusion Matrix:\n",
      "[[ 951  351  268   59    3  314  238   74  281   33]\n",
      " [ 437  393  101   18    0  212   83   10  347    7]\n",
      " [ 531  249  211   10    0  286   94   13  344    7]\n",
      " [1198  414  174   29    2  584  205   16  578   17]\n",
      " [ 690  395  257   28    2  480  223   19  734   18]\n",
      " [ 696   96   45   35    0  522   46    4  194   12]\n",
      " [ 441  307  194   62    1  363  298   16  218   13]\n",
      " [ 407  261  146   20    0  352  173   38  216   14]\n",
      " [1245  520  206   30    1  692  178   16  675   11]\n",
      " [1037  420  117    5    2  512   90    6  363   24]]\n",
      "\n",
      "Random Forest Confusion Matrix:\n",
      "[[2325    3    9   40   23   37    6    3   10  116]\n",
      " [1180   16   50  109   19   21    5    2   35  171]\n",
      " [1439    3  134   24    9   12    4    1   23   96]\n",
      " [2576   36   13  213  170   17    6   45   35  106]\n",
      " [1819   88    1  251  515   19    3    1   11  138]\n",
      " [1302   11   25   62   32   38   12    6   14  148]\n",
      " [1396   10   20  102   25   86   84   20   21  149]\n",
      " [1238    3   20  107   49   46   10   10   30  114]\n",
      " [2369   84   52  261  161   36   16    6  349  240]\n",
      " [1278    8    5   54   76   10    0    0    2 1143]]\n",
      "\n",
      "Ensemble Model Confusion Matrix:\n",
      "[[2278   63   23   20   33   52   22    2   55   24]\n",
      " [1096  241   26   37   33   37   23    4   99   12]\n",
      " [1341   59  196   11   19   29    7    6   58   19]\n",
      " [2319  204   19  227   88   76   44   45  163   32]\n",
      " [1642  120   29   89  666   62   24    2  188   24]\n",
      " [1220   58   20   41   28  141   51   11   51   29]\n",
      " [1167   83   43   58   26  127  312   11   55   31]\n",
      " [1088  119   29   82   34   80   53   29   88   25]\n",
      " [2358  243   32   96  128   67   44    8  577   21]\n",
      " [1414  104   17   37   34   34   22    0   84  830]]\n"
     ]
    }
   ],
   "source": [
    "from sklearn.metrics import confusion_matrix\n",
    "\n",
    "\n",
    "knn_cm = confusion_matrix(y_test, knn_pred)\n",
    "logreg_cm = confusion_matrix(y_test, logreg_pred)\n",
    "nb_cm = confusion_matrix(y_test, nb_pred)\n",
    "rf_cm = confusion_matrix(y_test, rf_pred)\n",
    "ensemble_model_cm = confusion_matrix(y_test, ensemble_model_pred)\n",
    "\n",
    "# Print the confusion matrix for each model\n",
    "print(\"KNN Confusion Matrix:\")\n",
    "print(knn_cm)\n",
    "print(\"\\nLogistic Regression Confusion Matrix:\")\n",
    "print(logreg_cm)\n",
    "print(\"\\nNaïve Bayes Confusion Matrix:\")\n",
    "print(nb_cm)\n",
    "print(\"\\nRandom Forest Confusion Matrix:\")\n",
    "print(rf_cm)\n",
    "print(\"\\nEnsemble Model Confusion Matrix:\")\n",
    "print(ensemble_model_cm)"
   ]
  }
 ],
 "metadata": {
  "accelerator": "GPU",
  "colab": {
   "gpuType": "T4",
   "provenance": []
  },
  "kernelspec": {
   "display_name": "Python 3 (ipykernel)",
   "language": "python",
   "name": "python3"
  },
  "language_info": {
   "codemirror_mode": {
    "name": "ipython",
    "version": 3
   },
   "file_extension": ".py",
   "mimetype": "text/x-python",
   "name": "python",
   "nbconvert_exporter": "python",
   "pygments_lexer": "ipython3",
   "version": "3.10.12"
  }
 },
 "nbformat": 4,
 "nbformat_minor": 5
}
