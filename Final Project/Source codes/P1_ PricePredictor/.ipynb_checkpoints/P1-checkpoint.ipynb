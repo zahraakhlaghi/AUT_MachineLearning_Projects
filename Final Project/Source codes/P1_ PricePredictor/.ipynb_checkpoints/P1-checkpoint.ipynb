{
 "cells": [
  {
   "cell_type": "markdown",
   "id": "3506a299",
   "metadata": {},
   "source": [
    "## Web Scraping"
   ]
  },
  {
   "cell_type": "code",
   "execution_count": 1,
   "id": "7bc96fbf",
   "metadata": {},
   "outputs": [
    {
     "name": "stdout",
     "output_type": "stream",
     "text": [
      "Defaulting to user installation because normal site-packages is not writeable\n",
      "Collecting selenium\n",
      "  Downloading selenium-4.10.0-py3-none-any.whl (6.7 MB)\n",
      "\u001b[2K     \u001b[38;2;114;156;31m━━━━━━━━━━━━━━━━━━━━━━━━━━━━━━━━━━━━━━━━\u001b[0m \u001b[32m6.7/6.7 MB\u001b[0m \u001b[31m764.7 kB/s\u001b[0m eta \u001b[36m0:00:00\u001b[0mm eta \u001b[36m0:00:01\u001b[0m[36m0:00:01\u001b[0m\n",
      "\u001b[?25hRequirement already satisfied: urllib3[socks]<3,>=1.26 in /usr/lib/python3/dist-packages (from selenium) (1.26.5)\n",
      "Collecting trio~=0.17 (from selenium)\n",
      "  Downloading trio-0.22.1-py3-none-any.whl (399 kB)\n",
      "\u001b[2K     \u001b[38;2;114;156;31m━━━━━━━━━━━━━━━━━━━━━━━━━━━━━━━━━━━━━━━\u001b[0m \u001b[32m399.3/399.3 kB\u001b[0m \u001b[31m1.1 MB/s\u001b[0m eta \u001b[36m0:00:00\u001b[0m MB/s\u001b[0m eta \u001b[36m0:00:01\u001b[0m\n",
      "\u001b[?25hCollecting trio-websocket~=0.9 (from selenium)\n",
      "  Downloading trio_websocket-0.10.3-py3-none-any.whl (17 kB)\n",
      "Collecting certifi>=2021.10.8 (from selenium)\n",
      "  Downloading certifi-2023.5.7-py3-none-any.whl (156 kB)\n",
      "\u001b[2K     \u001b[38;2;114;156;31m━━━━━━━━━━━━━━━━━━━━━━━━━━━━━━━━━━━━━━━\u001b[0m \u001b[32m157.0/157.0 kB\u001b[0m \u001b[31m1.8 MB/s\u001b[0m eta \u001b[36m0:00:00\u001b[0m[31m2.0 MB/s\u001b[0m eta \u001b[36m0:00:01\u001b[0m\n",
      "\u001b[?25hRequirement already satisfied: attrs>=20.1.0 in /usr/local/lib/python3.10/dist-packages (from trio~=0.17->selenium) (22.2.0)\n",
      "Collecting sortedcontainers (from trio~=0.17->selenium)\n",
      "  Downloading sortedcontainers-2.4.0-py2.py3-none-any.whl (29 kB)\n",
      "Requirement already satisfied: idna in /usr/lib/python3/dist-packages (from trio~=0.17->selenium) (3.3)\n",
      "Collecting outcome (from trio~=0.17->selenium)\n",
      "  Downloading outcome-1.2.0-py2.py3-none-any.whl (9.7 kB)\n",
      "Requirement already satisfied: sniffio in /usr/local/lib/python3.10/dist-packages (from trio~=0.17->selenium) (1.3.0)\n",
      "Collecting exceptiongroup>=1.0.0rc9 (from trio~=0.17->selenium)\n",
      "  Downloading exceptiongroup-1.1.2-py3-none-any.whl (14 kB)\n",
      "Collecting wsproto>=0.14 (from trio-websocket~=0.9->selenium)\n",
      "  Downloading wsproto-1.2.0-py3-none-any.whl (24 kB)\n",
      "Collecting PySocks!=1.5.7,<2.0,>=1.5.6 (from urllib3[socks]<3,>=1.26->selenium)\n",
      "  Downloading PySocks-1.7.1-py3-none-any.whl (16 kB)\n",
      "Collecting h11<1,>=0.9.0 (from wsproto>=0.14->trio-websocket~=0.9->selenium)\n",
      "  Downloading h11-0.14.0-py3-none-any.whl (58 kB)\n",
      "\u001b[2K     \u001b[38;2;114;156;31m━━━━━━━━━━━━━━━━━━━━━━━━━━━━━━━━━━━━━━━━\u001b[0m \u001b[32m58.3/58.3 kB\u001b[0m \u001b[31m2.6 MB/s\u001b[0m eta \u001b[36m0:00:00\u001b[0m\n",
      "\u001b[?25hInstalling collected packages: sortedcontainers, PySocks, outcome, h11, exceptiongroup, certifi, wsproto, trio, trio-websocket, selenium\n",
      "Successfully installed PySocks-1.7.1 certifi-2023.5.7 exceptiongroup-1.1.2 h11-0.14.0 outcome-1.2.0 selenium-4.10.0 sortedcontainers-2.4.0 trio-0.22.1 trio-websocket-0.10.3 wsproto-1.2.0\n",
      "Note: you may need to restart the kernel to use updated packages.\n"
     ]
    }
   ],
   "source": [
    "pip install selenium"
   ]
  },
  {
   "cell_type": "code",
   "execution_count": 2,
   "id": "9fb267eb",
   "metadata": {},
   "outputs": [
    {
     "name": "stdout",
     "output_type": "stream",
     "text": [
      "Defaulting to user installation because normal site-packages is not writeable\n",
      "Requirement already satisfied: selenium in /home/asus/.local/lib/python3.10/site-packages (4.10.0)\n",
      "Collecting webdriver-manager\n",
      "  Downloading webdriver_manager-3.8.6-py2.py3-none-any.whl (27 kB)\n",
      "Requirement already satisfied: urllib3[socks]<3,>=1.26 in /usr/lib/python3/dist-packages (from selenium) (1.26.5)\n",
      "Requirement already satisfied: trio~=0.17 in /home/asus/.local/lib/python3.10/site-packages (from selenium) (0.22.1)\n",
      "Requirement already satisfied: trio-websocket~=0.9 in /home/asus/.local/lib/python3.10/site-packages (from selenium) (0.10.3)\n",
      "Requirement already satisfied: certifi>=2021.10.8 in /home/asus/.local/lib/python3.10/site-packages (from selenium) (2023.5.7)\n",
      "Requirement already satisfied: requests in /usr/lib/python3/dist-packages (from webdriver-manager) (2.25.1)\n",
      "Collecting python-dotenv (from webdriver-manager)\n",
      "  Downloading python_dotenv-1.0.0-py3-none-any.whl (19 kB)\n",
      "Requirement already satisfied: tqdm in /home/asus/.local/lib/python3.10/site-packages (from webdriver-manager) (4.65.0)\n",
      "Requirement already satisfied: packaging in /usr/local/lib/python3.10/dist-packages (from webdriver-manager) (23.0)\n",
      "Requirement already satisfied: attrs>=20.1.0 in /usr/local/lib/python3.10/dist-packages (from trio~=0.17->selenium) (22.2.0)\n",
      "Requirement already satisfied: sortedcontainers in /home/asus/.local/lib/python3.10/site-packages (from trio~=0.17->selenium) (2.4.0)\n",
      "Requirement already satisfied: idna in /usr/lib/python3/dist-packages (from trio~=0.17->selenium) (3.3)\n",
      "Requirement already satisfied: outcome in /home/asus/.local/lib/python3.10/site-packages (from trio~=0.17->selenium) (1.2.0)\n",
      "Requirement already satisfied: sniffio in /usr/local/lib/python3.10/dist-packages (from trio~=0.17->selenium) (1.3.0)\n",
      "Requirement already satisfied: exceptiongroup>=1.0.0rc9 in /home/asus/.local/lib/python3.10/site-packages (from trio~=0.17->selenium) (1.1.2)\n",
      "Requirement already satisfied: wsproto>=0.14 in /home/asus/.local/lib/python3.10/site-packages (from trio-websocket~=0.9->selenium) (1.2.0)\n",
      "Requirement already satisfied: PySocks!=1.5.7,<2.0,>=1.5.6 in /home/asus/.local/lib/python3.10/site-packages (from urllib3[socks]<3,>=1.26->selenium) (1.7.1)\n",
      "Requirement already satisfied: h11<1,>=0.9.0 in /home/asus/.local/lib/python3.10/site-packages (from wsproto>=0.14->trio-websocket~=0.9->selenium) (0.14.0)\n",
      "Installing collected packages: python-dotenv, webdriver-manager\n",
      "Successfully installed python-dotenv-1.0.0 webdriver-manager-3.8.6\n",
      "Note: you may need to restart the kernel to use updated packages.\n"
     ]
    }
   ],
   "source": [
    "pip install selenium webdriver-manager"
   ]
  },
  {
   "cell_type": "code",
   "execution_count": 11,
   "id": "790ff7a2",
   "metadata": {},
   "outputs": [],
   "source": [
    "from selenium import webdriver\n",
    "from selenium.webdriver.common.by import By\n",
    "from selenium.webdriver.chrome.options import Options\n",
    "from selenium.webdriver.chrome.service import Service\n",
    "from webdriver_manager.chrome import ChromeDriverManager\n",
    "from selenium.webdriver.support.ui import WebDriverWait\n",
    "from selenium.webdriver.support import expected_conditions as EC\n",
    "import time\n",
    "\n",
    "import csv\n",
    "import pandas as pd\n",
    "\n",
    "options = Options()\n",
    "options.add_argument('--headless')\n",
    "options.add_argument('--no-sandbox')\n",
    "options.add_argument('--disable-dev-shm-usage')\n",
    "driver = webdriver.Chrome(service=Service(ChromeDriverManager().install()), options=options)"
   ]
  },
  {
   "cell_type": "code",
   "execution_count": 112,
   "id": "ccf9eac0",
   "metadata": {},
   "outputs": [],
   "source": [
    "file = 'Url.txt'\n",
    "\n",
    "s_height = driver.execute_script(\n",
    "    \"return window.screen.height;\")"
   ]
  },
  {
   "cell_type": "code",
   "execution_count": 113,
   "id": "f6992355",
   "metadata": {},
   "outputs": [],
   "source": [
    "with open(file, 'w', newline='', encoding='utf-8') as write_file:\n",
    "    write_file.writelines('')"
   ]
  },
  {
   "cell_type": "code",
   "execution_count": 114,
   "id": "fe25fa92",
   "metadata": {},
   "outputs": [],
   "source": [
    "driver.get(\"https://divar.ir/s/iran/car/peugeot/206/2\")"
   ]
  },
  {
   "cell_type": "code",
   "execution_count": null,
   "id": "b0f99f7f",
   "metadata": {},
   "outputs": [],
   "source": [
    "from urllib.parse import urljoin\n",
    "\n",
    "for i in range(1500):\n",
    "\n",
    "    # scroll one screen height each time\n",
    "    driver.execute_script(\n",
    "        \"window.scrollTo(0, {screen_height}*{i});\".format(screen_height=s_height, i=i))\n",
    "    time.sleep(1)\n",
    "\n",
    "\n",
    "    for each_div in driver.find_elements(\n",
    "        By.CSS_SELECTOR, '.post-card-item-af972.kt-col-6-bee95.kt-col-xxl-4-e9d46'):\n",
    "        if each_div == None:\n",
    "            continue\n",
    "        url = ''\n",
    "\n",
    "        # find a tag\n",
    "        a_tag = each_div.find_element(By.TAG_NAME,'a' )\n",
    "\n",
    "        if a_tag != None :\n",
    "            url = urljoin('https://divar.ir', a_tag.get_attribute('href'))\n",
    "            # find the rent urls and save in the text file\n",
    "            with open(file, 'a+', newline='', encoding='utf-8') as write_file:\n",
    "                write_file.writelines(url + '\\n')"
   ]
  },
  {
   "cell_type": "markdown",
   "id": "63ca3f3a",
   "metadata": {},
   "source": [
    "remove_duplicate_links"
   ]
  },
  {
   "cell_type": "code",
   "execution_count": 12,
   "id": "e20c011d",
   "metadata": {},
   "outputs": [],
   "source": [
    "with open('Url.txt', 'r') as file:\n",
    "   links = file.readlines()\n",
    "\n",
    "\n",
    "unique_links = list(dict.fromkeys(links))"
   ]
  },
  {
   "cell_type": "code",
   "execution_count": 13,
   "id": "2de1ca18",
   "metadata": {},
   "outputs": [],
   "source": [
    "with open('Url.txt', 'w') as f:\n",
    "    f.writelines(unique_links)"
   ]
  },
  {
   "cell_type": "code",
   "execution_count": 14,
   "id": "bfd1d470",
   "metadata": {},
   "outputs": [],
   "source": [
    "with open('Url.txt', 'r', newline='', encoding='utf-8') as read_obj:\n",
    "    links = read_obj.readlines()"
   ]
  },
  {
   "cell_type": "code",
   "execution_count": null,
   "id": "66bbba83",
   "metadata": {},
   "outputs": [],
   "source": [
    "data = []\n",
    "for link in links:\n",
    "    try:\n",
    "        driver.get(link)\n",
    "        details = {}\n",
    "        description_elements = driver.find_elements(\n",
    "            By.CSS_SELECTOR, '.kt-group-row-item--info-row')\n",
    "        if description_elements != None:\n",
    "            for element in description_elements:\n",
    "                title = element.find_element(\n",
    "                    By.CLASS_NAME, 'kt-group-row-item__title').text\n",
    "                value = element.find_element(\n",
    "                    By.CLASS_NAME, 'kt-group-row-item__value').text\n",
    "                details[title] = value\n",
    "            second_set_elements = driver.find_elements(\n",
    "                By.CSS_SELECTOR, '.kt-unexpandable-row')\n",
    "            for element in second_set_elements:\n",
    "                title = element.find_element(\n",
    "                    By.CLASS_NAME, 'kt-unexpandable-row__title').text\n",
    "                value = element.find_element(\n",
    "                    By.CLASS_NAME, 'kt-unexpandable-row__value-box').text\n",
    "                details[title] = value\n",
    "            data.append(details)\n",
    "    except Exception:\n",
    "        continue"
   ]
  },
  {
   "cell_type": "code",
   "execution_count": null,
   "id": "e448bd37",
   "metadata": {},
   "outputs": [],
   "source": [
    "df = pd.DataFrame(data)"
   ]
  },
  {
   "cell_type": "code",
   "execution_count": null,
   "id": "ae79232d",
   "metadata": {},
   "outputs": [],
   "source": [
    "df"
   ]
  },
  {
   "cell_type": "code",
   "execution_count": null,
   "id": "a29abff9",
   "metadata": {},
   "outputs": [],
   "source": [
    "df.to_csv('car.csv',index=False,encoding='utf-8')"
   ]
  },
  {
   "cell_type": "markdown",
   "id": "15a7f211",
   "metadata": {},
   "source": [
    "## pre-processing"
   ]
  },
  {
   "cell_type": "code",
   "execution_count": 16,
   "id": "3ba4bd45",
   "metadata": {},
   "outputs": [],
   "source": [
    "import pandas as pd\n",
    "\n",
    "df = pd.read_csv('car.csv')"
   ]
  },
  {
   "cell_type": "code",
   "execution_count": 17,
   "id": "63404a87",
   "metadata": {},
   "outputs": [
    {
     "data": {
      "text/html": [
       "<div>\n",
       "<style scoped>\n",
       "    .dataframe tbody tr th:only-of-type {\n",
       "        vertical-align: middle;\n",
       "    }\n",
       "\n",
       "    .dataframe tbody tr th {\n",
       "        vertical-align: top;\n",
       "    }\n",
       "\n",
       "    .dataframe thead th {\n",
       "        text-align: right;\n",
       "    }\n",
       "</style>\n",
       "<table border=\"1\" class=\"dataframe\">\n",
       "  <thead>\n",
       "    <tr style=\"text-align: right;\">\n",
       "      <th></th>\n",
       "      <th>کارکرد</th>\n",
       "      <th>مدل (سال تولید)</th>\n",
       "      <th>رنگ</th>\n",
       "      <th>برند و تیپ</th>\n",
       "      <th>نوع سوخت</th>\n",
       "      <th>وضعیت موتور</th>\n",
       "      <th>وضعیت شاسی‌ها</th>\n",
       "      <th>وضعیت بدنه</th>\n",
       "      <th>مهلت بیمهٔ شخص ثالث</th>\n",
       "      <th>گیربکس</th>\n",
       "      <th>قیمت پایه</th>\n",
       "      <th>شاسی جلو</th>\n",
       "      <th>شاسی عقب</th>\n",
       "      <th>نمایشگاه</th>\n",
       "      <th>نوع آگهی</th>\n",
       "      <th>مایل به معاوضه</th>\n",
       "      <th>حداقل مبلغ پیش‌پرداخت</th>\n",
       "      <th>مبلغ هر قسط</th>\n",
       "      <th>تعداد اقساط</th>\n",
       "      <th>فروشنده</th>\n",
       "    </tr>\n",
       "  </thead>\n",
       "  <tbody>\n",
       "    <tr>\n",
       "      <th>0</th>\n",
       "      <td>۳۰۰٬۰۰۰</td>\n",
       "      <td>۱۳۸۳</td>\n",
       "      <td>نقره‌ای</td>\n",
       "      <td>پژو 206 تیپ ۲</td>\n",
       "      <td>بنزینی</td>\n",
       "      <td>سالم</td>\n",
       "      <td>سالم و پلمپ</td>\n",
       "      <td>رنگ‌شدگی</td>\n",
       "      <td>۹ ماه</td>\n",
       "      <td>دنده‌ای</td>\n",
       "      <td>۱۸۶٬۰۰۰٬۰۰۰ تومان</td>\n",
       "      <td>NaN</td>\n",
       "      <td>NaN</td>\n",
       "      <td>NaN</td>\n",
       "      <td>NaN</td>\n",
       "      <td>NaN</td>\n",
       "      <td>NaN</td>\n",
       "      <td>NaN</td>\n",
       "      <td>NaN</td>\n",
       "      <td>NaN</td>\n",
       "    </tr>\n",
       "    <tr>\n",
       "      <th>1</th>\n",
       "      <td>۴۶٬۰۰۰</td>\n",
       "      <td>۱۴۰۰</td>\n",
       "      <td>سفید</td>\n",
       "      <td>پژو 206 تیپ ۲</td>\n",
       "      <td>بنزینی</td>\n",
       "      <td>سالم</td>\n",
       "      <td>NaN</td>\n",
       "      <td>صافکاری بی‌رنگ</td>\n",
       "      <td>۱ ماه</td>\n",
       "      <td>دنده‌ای</td>\n",
       "      <td>۳۸۵٬۰۰۰٬۰۰۰ تومان</td>\n",
       "      <td>ضربه‌خورده</td>\n",
       "      <td>سالم و پلمپ</td>\n",
       "      <td>NaN</td>\n",
       "      <td>NaN</td>\n",
       "      <td>NaN</td>\n",
       "      <td>NaN</td>\n",
       "      <td>NaN</td>\n",
       "      <td>NaN</td>\n",
       "      <td>NaN</td>\n",
       "    </tr>\n",
       "    <tr>\n",
       "      <th>2</th>\n",
       "      <td>۱۸٬۶۰۰</td>\n",
       "      <td>۱۳۹۹</td>\n",
       "      <td>سفید</td>\n",
       "      <td>پژو 206 تیپ ۲</td>\n",
       "      <td>بنزینی</td>\n",
       "      <td>سالم</td>\n",
       "      <td>سالم و پلمپ</td>\n",
       "      <td>سالم و بی‌خط و خش</td>\n",
       "      <td>۱۱ ماه</td>\n",
       "      <td>دنده‌ای</td>\n",
       "      <td>۴۳۲٬۰۰۰٬۰۰۰ تومان</td>\n",
       "      <td>NaN</td>\n",
       "      <td>NaN</td>\n",
       "      <td>NaN</td>\n",
       "      <td>NaN</td>\n",
       "      <td>NaN</td>\n",
       "      <td>NaN</td>\n",
       "      <td>NaN</td>\n",
       "      <td>NaN</td>\n",
       "      <td>NaN</td>\n",
       "    </tr>\n",
       "    <tr>\n",
       "      <th>3</th>\n",
       "      <td>۲۵۱٬۰۰۰</td>\n",
       "      <td>۱۳۸۸</td>\n",
       "      <td>سفید</td>\n",
       "      <td>پژو 206 تیپ ۲</td>\n",
       "      <td>بنزینی</td>\n",
       "      <td>سالم</td>\n",
       "      <td>سالم و پلمپ</td>\n",
       "      <td>خط و خش جزیی</td>\n",
       "      <td>۹ ماه</td>\n",
       "      <td>دنده‌ای</td>\n",
       "      <td>۲۶۸٬۰۰۰٬۰۰۰ تومان</td>\n",
       "      <td>NaN</td>\n",
       "      <td>NaN</td>\n",
       "      <td>NaN</td>\n",
       "      <td>NaN</td>\n",
       "      <td>NaN</td>\n",
       "      <td>NaN</td>\n",
       "      <td>NaN</td>\n",
       "      <td>NaN</td>\n",
       "      <td>NaN</td>\n",
       "    </tr>\n",
       "    <tr>\n",
       "      <th>4</th>\n",
       "      <td>۲۰۰٬۰۰۰</td>\n",
       "      <td>۱۳۹۰</td>\n",
       "      <td>سفید</td>\n",
       "      <td>پژو 206 تیپ ۲</td>\n",
       "      <td>بنزینی</td>\n",
       "      <td>سالم</td>\n",
       "      <td>سالم و پلمپ</td>\n",
       "      <td>رنگ‌شدگی، در ۲ ناحیه</td>\n",
       "      <td>۱۰ ماه</td>\n",
       "      <td>دنده‌ای</td>\n",
       "      <td>۲۹۰٬۰۰۰٬۰۰۰ تومان</td>\n",
       "      <td>NaN</td>\n",
       "      <td>NaN</td>\n",
       "      <td>NaN</td>\n",
       "      <td>NaN</td>\n",
       "      <td>NaN</td>\n",
       "      <td>NaN</td>\n",
       "      <td>NaN</td>\n",
       "      <td>NaN</td>\n",
       "      <td>NaN</td>\n",
       "    </tr>\n",
       "    <tr>\n",
       "      <th>...</th>\n",
       "      <td>...</td>\n",
       "      <td>...</td>\n",
       "      <td>...</td>\n",
       "      <td>...</td>\n",
       "      <td>...</td>\n",
       "      <td>...</td>\n",
       "      <td>...</td>\n",
       "      <td>...</td>\n",
       "      <td>...</td>\n",
       "      <td>...</td>\n",
       "      <td>...</td>\n",
       "      <td>...</td>\n",
       "      <td>...</td>\n",
       "      <td>...</td>\n",
       "      <td>...</td>\n",
       "      <td>...</td>\n",
       "      <td>...</td>\n",
       "      <td>...</td>\n",
       "      <td>...</td>\n",
       "      <td>...</td>\n",
       "    </tr>\n",
       "    <tr>\n",
       "      <th>1686</th>\n",
       "      <td>۴۰٬۰۰۰</td>\n",
       "      <td>۱۴۰۰</td>\n",
       "      <td>سفید</td>\n",
       "      <td>پژو 206 تیپ ۲</td>\n",
       "      <td>بنزینی</td>\n",
       "      <td>سالم</td>\n",
       "      <td>سالم و پلمپ</td>\n",
       "      <td>خط و خش جزیی</td>\n",
       "      <td>۶ ماه</td>\n",
       "      <td>دنده‌ای</td>\n",
       "      <td>۴۲۵٬۰۰۰٬۰۰۰ تومان</td>\n",
       "      <td>NaN</td>\n",
       "      <td>NaN</td>\n",
       "      <td>NaN</td>\n",
       "      <td>NaN</td>\n",
       "      <td>NaN</td>\n",
       "      <td>NaN</td>\n",
       "      <td>NaN</td>\n",
       "      <td>NaN</td>\n",
       "      <td>NaN</td>\n",
       "    </tr>\n",
       "    <tr>\n",
       "      <th>1687</th>\n",
       "      <td>۰</td>\n",
       "      <td>۱۴۰۱</td>\n",
       "      <td>سفید</td>\n",
       "      <td>پژو 206 تیپ ۲</td>\n",
       "      <td>بنزینی</td>\n",
       "      <td>سالم</td>\n",
       "      <td>سالم و پلمپ</td>\n",
       "      <td>سالم و بی‌خط و خش</td>\n",
       "      <td>۱۲ ماه</td>\n",
       "      <td>دنده‌ای</td>\n",
       "      <td>۴۹۰٬۰۰۰٬۰۰۰ تومان</td>\n",
       "      <td>NaN</td>\n",
       "      <td>NaN</td>\n",
       "      <td>مهراد خودرو</td>\n",
       "      <td>فروشی</td>\n",
       "      <td>NaN</td>\n",
       "      <td>NaN</td>\n",
       "      <td>NaN</td>\n",
       "      <td>NaN</td>\n",
       "      <td>NaN</td>\n",
       "    </tr>\n",
       "    <tr>\n",
       "      <th>1688</th>\n",
       "      <td>۱۲۰٬۰۰۰</td>\n",
       "      <td>۱۳۹۱</td>\n",
       "      <td>سفید</td>\n",
       "      <td>پژو 206 تیپ ۲</td>\n",
       "      <td>بنزینی</td>\n",
       "      <td>سالم</td>\n",
       "      <td>سالم و پلمپ</td>\n",
       "      <td>رنگ‌شدگی</td>\n",
       "      <td>۸ ماه</td>\n",
       "      <td>دنده‌ای</td>\n",
       "      <td>۲۸۰٬۰۰۰٬۰۰۰ تومان</td>\n",
       "      <td>NaN</td>\n",
       "      <td>NaN</td>\n",
       "      <td>NaN</td>\n",
       "      <td>فروشی</td>\n",
       "      <td>NaN</td>\n",
       "      <td>NaN</td>\n",
       "      <td>NaN</td>\n",
       "      <td>NaN</td>\n",
       "      <td>NaN</td>\n",
       "    </tr>\n",
       "    <tr>\n",
       "      <th>1689</th>\n",
       "      <td>۹۷٬۰۰۰</td>\n",
       "      <td>۱۳۹۶</td>\n",
       "      <td>سفید</td>\n",
       "      <td>پژو 206 تیپ ۲</td>\n",
       "      <td>بنزینی</td>\n",
       "      <td>سالم</td>\n",
       "      <td>NaN</td>\n",
       "      <td>رنگ‌شدگی، در ۲ ناحیه</td>\n",
       "      <td>NaN</td>\n",
       "      <td>NaN</td>\n",
       "      <td>۳۳۰٬۰۰۰٬۰۰۰ تومان</td>\n",
       "      <td>NaN</td>\n",
       "      <td>NaN</td>\n",
       "      <td>NaN</td>\n",
       "      <td>NaN</td>\n",
       "      <td>NaN</td>\n",
       "      <td>NaN</td>\n",
       "      <td>NaN</td>\n",
       "      <td>NaN</td>\n",
       "      <td>NaN</td>\n",
       "    </tr>\n",
       "    <tr>\n",
       "      <th>1690</th>\n",
       "      <td>۰</td>\n",
       "      <td>۱۴۰۱</td>\n",
       "      <td>سفید</td>\n",
       "      <td>پژو 206 تیپ ۲</td>\n",
       "      <td>بنزینی</td>\n",
       "      <td>NaN</td>\n",
       "      <td>NaN</td>\n",
       "      <td>سالم و بی‌خط و خش</td>\n",
       "      <td>NaN</td>\n",
       "      <td>NaN</td>\n",
       "      <td>توافقی</td>\n",
       "      <td>NaN</td>\n",
       "      <td>NaN</td>\n",
       "      <td>شرکت اتحاد خودرو خاورمیانه</td>\n",
       "      <td>NaN</td>\n",
       "      <td>NaN</td>\n",
       "      <td>NaN</td>\n",
       "      <td>NaN</td>\n",
       "      <td>NaN</td>\n",
       "      <td>NaN</td>\n",
       "    </tr>\n",
       "  </tbody>\n",
       "</table>\n",
       "<p>1691 rows × 20 columns</p>\n",
       "</div>"
      ],
      "text/plain": [
       "       کارکرد مدل (سال تولید)      رنگ     برند و تیپ نوع سوخت وضعیت موتور  \\\n",
       "0     ۳۰۰٬۰۰۰            ۱۳۸۳  نقره‌ای  پژو 206 تیپ ۲   بنزینی        سالم   \n",
       "1      ۴۶٬۰۰۰            ۱۴۰۰     سفید  پژو 206 تیپ ۲   بنزینی        سالم   \n",
       "2      ۱۸٬۶۰۰            ۱۳۹۹     سفید  پژو 206 تیپ ۲   بنزینی        سالم   \n",
       "3     ۲۵۱٬۰۰۰            ۱۳۸۸     سفید  پژو 206 تیپ ۲   بنزینی        سالم   \n",
       "4     ۲۰۰٬۰۰۰            ۱۳۹۰     سفید  پژو 206 تیپ ۲   بنزینی        سالم   \n",
       "...       ...             ...      ...            ...      ...         ...   \n",
       "1686   ۴۰٬۰۰۰            ۱۴۰۰     سفید  پژو 206 تیپ ۲   بنزینی        سالم   \n",
       "1687        ۰            ۱۴۰۱     سفید  پژو 206 تیپ ۲   بنزینی        سالم   \n",
       "1688  ۱۲۰٬۰۰۰            ۱۳۹۱     سفید  پژو 206 تیپ ۲   بنزینی        سالم   \n",
       "1689   ۹۷٬۰۰۰            ۱۳۹۶     سفید  پژو 206 تیپ ۲   بنزینی        سالم   \n",
       "1690        ۰            ۱۴۰۱     سفید  پژو 206 تیپ ۲   بنزینی         NaN   \n",
       "\n",
       "     وضعیت شاسی‌ها            وضعیت بدنه مهلت بیمهٔ شخص ثالث   گیربکس  \\\n",
       "0      سالم و پلمپ              رنگ‌شدگی               ۹ ماه  دنده‌ای   \n",
       "1              NaN        صافکاری بی‌رنگ               ۱ ماه  دنده‌ای   \n",
       "2      سالم و پلمپ     سالم و بی‌خط و خش              ۱۱ ماه  دنده‌ای   \n",
       "3      سالم و پلمپ          خط و خش جزیی               ۹ ماه  دنده‌ای   \n",
       "4      سالم و پلمپ  رنگ‌شدگی، در ۲ ناحیه              ۱۰ ماه  دنده‌ای   \n",
       "...            ...                   ...                 ...      ...   \n",
       "1686   سالم و پلمپ          خط و خش جزیی               ۶ ماه  دنده‌ای   \n",
       "1687   سالم و پلمپ     سالم و بی‌خط و خش              ۱۲ ماه  دنده‌ای   \n",
       "1688   سالم و پلمپ              رنگ‌شدگی               ۸ ماه  دنده‌ای   \n",
       "1689           NaN  رنگ‌شدگی، در ۲ ناحیه                 NaN      NaN   \n",
       "1690           NaN     سالم و بی‌خط و خش                 NaN      NaN   \n",
       "\n",
       "              قیمت پایه    شاسی جلو     شاسی عقب                    نمایشگاه  \\\n",
       "0     ۱۸۶٬۰۰۰٬۰۰۰ تومان         NaN          NaN                         NaN   \n",
       "1     ۳۸۵٬۰۰۰٬۰۰۰ تومان  ضربه‌خورده  سالم و پلمپ                         NaN   \n",
       "2     ۴۳۲٬۰۰۰٬۰۰۰ تومان         NaN          NaN                         NaN   \n",
       "3     ۲۶۸٬۰۰۰٬۰۰۰ تومان         NaN          NaN                         NaN   \n",
       "4     ۲۹۰٬۰۰۰٬۰۰۰ تومان         NaN          NaN                         NaN   \n",
       "...                 ...         ...          ...                         ...   \n",
       "1686  ۴۲۵٬۰۰۰٬۰۰۰ تومان         NaN          NaN                         NaN   \n",
       "1687  ۴۹۰٬۰۰۰٬۰۰۰ تومان         NaN          NaN                 مهراد خودرو   \n",
       "1688  ۲۸۰٬۰۰۰٬۰۰۰ تومان         NaN          NaN                         NaN   \n",
       "1689  ۳۳۰٬۰۰۰٬۰۰۰ تومان         NaN          NaN                         NaN   \n",
       "1690             توافقی         NaN          NaN  شرکت اتحاد خودرو خاورمیانه   \n",
       "\n",
       "     نوع آگهی مایل به معاوضه حداقل مبلغ پیش‌پرداخت مبلغ هر قسط تعداد اقساط  \\\n",
       "0         NaN            NaN                   NaN         NaN         NaN   \n",
       "1         NaN            NaN                   NaN         NaN         NaN   \n",
       "2         NaN            NaN                   NaN         NaN         NaN   \n",
       "3         NaN            NaN                   NaN         NaN         NaN   \n",
       "4         NaN            NaN                   NaN         NaN         NaN   \n",
       "...       ...            ...                   ...         ...         ...   \n",
       "1686      NaN            NaN                   NaN         NaN         NaN   \n",
       "1687    فروشی            NaN                   NaN         NaN         NaN   \n",
       "1688    فروشی            NaN                   NaN         NaN         NaN   \n",
       "1689      NaN            NaN                   NaN         NaN         NaN   \n",
       "1690      NaN            NaN                   NaN         NaN         NaN   \n",
       "\n",
       "     فروشنده  \n",
       "0        NaN  \n",
       "1        NaN  \n",
       "2        NaN  \n",
       "3        NaN  \n",
       "4        NaN  \n",
       "...      ...  \n",
       "1686     NaN  \n",
       "1687     NaN  \n",
       "1688     NaN  \n",
       "1689     NaN  \n",
       "1690     NaN  \n",
       "\n",
       "[1691 rows x 20 columns]"
      ]
     },
     "execution_count": 17,
     "metadata": {},
     "output_type": "execute_result"
    }
   ],
   "source": [
    "df"
   ]
  },
  {
   "cell_type": "code",
   "execution_count": 18,
   "id": "5f97be39",
   "metadata": {},
   "outputs": [
    {
     "name": "stdout",
     "output_type": "stream",
     "text": [
      "<class 'pandas.core.frame.DataFrame'>\n",
      "RangeIndex: 1691 entries, 0 to 1690\n",
      "Data columns (total 20 columns):\n",
      " #   Column                 Non-Null Count  Dtype \n",
      "---  ------                 --------------  ----- \n",
      " 0   کارکرد                 1691 non-null   object\n",
      " 1   مدل (سال تولید)        1691 non-null   object\n",
      " 2   رنگ                    1691 non-null   object\n",
      " 3   برند و تیپ             1691 non-null   object\n",
      " 4   نوع سوخت               1687 non-null   object\n",
      " 5   وضعیت موتور            1652 non-null   object\n",
      " 6   وضعیت شاسی‌ها          1557 non-null   object\n",
      " 7   وضعیت بدنه             1690 non-null   object\n",
      " 8   مهلت بیمهٔ شخص ثالث    1588 non-null   object\n",
      " 9   گیربکس                 1602 non-null   object\n",
      " 10  قیمت پایه              1691 non-null   object\n",
      " 11  شاسی جلو               80 non-null     object\n",
      " 12  شاسی عقب               77 non-null     object\n",
      " 13  نمایشگاه               123 non-null    object\n",
      " 14  نوع آگهی               467 non-null    object\n",
      " 15  مایل به معاوضه         323 non-null    object\n",
      " 16  حداقل مبلغ پیش‌پرداخت  41 non-null     object\n",
      " 17  مبلغ هر قسط            41 non-null     object\n",
      " 18  تعداد اقساط            41 non-null     object\n",
      " 19  فروشنده                7 non-null      object\n",
      "dtypes: object(20)\n",
      "memory usage: 264.3+ KB\n"
     ]
    }
   ],
   "source": [
    "df.info()"
   ]
  },
  {
   "cell_type": "code",
   "execution_count": 19,
   "id": "65f1bc0e",
   "metadata": {},
   "outputs": [
    {
     "data": {
      "text/plain": [
       "پژو 206 تیپ ۲    1691\n",
       "Name: برند و تیپ, dtype: int64"
      ]
     },
     "execution_count": 19,
     "metadata": {},
     "output_type": "execute_result"
    }
   ],
   "source": [
    "df['برند و تیپ'].value_counts()"
   ]
  },
  {
   "cell_type": "code",
   "execution_count": 20,
   "id": "3d067c9d",
   "metadata": {},
   "outputs": [],
   "source": [
    "df.drop(['برند و تیپ'],inplace=True,axis=1)"
   ]
  },
  {
   "cell_type": "code",
   "execution_count": 21,
   "id": "c4737b62",
   "metadata": {},
   "outputs": [
    {
     "data": {
      "text/plain": [
       "بنزینی    1687\n",
       "Name: نوع سوخت, dtype: int64"
      ]
     },
     "execution_count": 21,
     "metadata": {},
     "output_type": "execute_result"
    }
   ],
   "source": [
    "df['نوع سوخت'].value_counts()"
   ]
  },
  {
   "cell_type": "code",
   "execution_count": 22,
   "id": "3e47e19a",
   "metadata": {},
   "outputs": [],
   "source": [
    "df.drop(['نوع سوخت'],inplace=True,axis=1)"
   ]
  },
  {
   "cell_type": "code",
   "execution_count": 23,
   "id": "8f5ed387",
   "metadata": {},
   "outputs": [
    {
     "data": {
      "text/plain": [
       "کارکرد                      0\n",
       "مدل (سال تولید)             0\n",
       "رنگ                         0\n",
       "وضعیت موتور                39\n",
       "وضعیت شاسی‌ها             134\n",
       "وضعیت بدنه                  1\n",
       "مهلت بیمهٔ شخص ثالث       103\n",
       "گیربکس                     89\n",
       "قیمت پایه                   0\n",
       "شاسی جلو                 1611\n",
       "شاسی عقب                 1614\n",
       "نمایشگاه                 1568\n",
       "نوع آگهی                 1224\n",
       "مایل به معاوضه           1368\n",
       "حداقل مبلغ پیش‌پرداخت    1650\n",
       "مبلغ هر قسط              1650\n",
       "تعداد اقساط              1650\n",
       "فروشنده                  1684\n",
       "dtype: int64"
      ]
     },
     "execution_count": 23,
     "metadata": {},
     "output_type": "execute_result"
    }
   ],
   "source": [
    "df.isnull().sum()"
   ]
  },
  {
   "cell_type": "code",
   "execution_count": 24,
   "id": "079db8e9",
   "metadata": {},
   "outputs": [
    {
     "data": {
      "text/plain": [
       "True     1650\n",
       "False      41\n",
       "Name: قسط, dtype: int64"
      ]
     },
     "execution_count": 24,
     "metadata": {},
     "output_type": "execute_result"
    }
   ],
   "source": [
    "df['قسط'] = df['تعداد اقساط'].isnull()\n",
    "df['قسط'].value_counts()"
   ]
  },
  {
   "cell_type": "code",
   "execution_count": 25,
   "id": "b613cba4",
   "metadata": {},
   "outputs": [
    {
     "data": {
      "text/plain": [
       "فروشی    467\n",
       "Name: نوع آگهی, dtype: int64"
      ]
     },
     "execution_count": 25,
     "metadata": {},
     "output_type": "execute_result"
    }
   ],
   "source": [
    "df['نوع آگهی'].value_counts()"
   ]
  },
  {
   "cell_type": "code",
   "execution_count": 26,
   "id": "404d8612",
   "metadata": {},
   "outputs": [],
   "source": [
    "df.drop(['نوع آگهی'],inplace=True,axis=1)"
   ]
  },
  {
   "cell_type": "code",
   "execution_count": 27,
   "id": "4d0f03cc",
   "metadata": {},
   "outputs": [],
   "source": [
    "df = df.dropna(subset=['وضعیت شاسی‌ها'])\n",
    "df = df.dropna(subset=['وضعیت موتور'])\n",
    "df = df.dropna(subset=['وضعیت بدنه'])"
   ]
  },
  {
   "cell_type": "code",
   "execution_count": 28,
   "id": "2e21059d",
   "metadata": {},
   "outputs": [
    {
     "data": {
      "text/plain": [
       "سالم             1519\n",
       "تعویض شده          11\n",
       "نیاز به تعمیر       4\n",
       "Name: وضعیت موتور, dtype: int64"
      ]
     },
     "execution_count": 28,
     "metadata": {},
     "output_type": "execute_result"
    }
   ],
   "source": [
    "df['وضعیت موتور'].value_counts()"
   ]
  },
  {
   "cell_type": "code",
   "execution_count": 29,
   "id": "ca095085",
   "metadata": {},
   "outputs": [
    {
     "data": {
      "text/plain": [
       "سالم و پلمپ    1523\n",
       "ضربه‌خورده       10\n",
       "رنگ‌شده           1\n",
       "Name: وضعیت شاسی‌ها, dtype: int64"
      ]
     },
     "execution_count": 29,
     "metadata": {},
     "output_type": "execute_result"
    }
   ],
   "source": [
    "df['وضعیت شاسی‌ها'].value_counts()"
   ]
  },
  {
   "cell_type": "code",
   "execution_count": 30,
   "id": "69813b72",
   "metadata": {},
   "outputs": [
    {
     "data": {
      "text/plain": [
       "سالم و بی‌خط و خش       641\n",
       "خط و خش جزیی            350\n",
       "رنگ‌شدگی                317\n",
       "دوررنگ                  127\n",
       "صافکاری بی‌رنگ           38\n",
       "تمام‌رنگ                 32\n",
       "رنگ‌شدگی، در ۲ ناحیه     16\n",
       "رنگ‌شدگی، در ۱ ناحیه      8\n",
       "تصادفی                    5\n",
       "Name: وضعیت بدنه, dtype: int64"
      ]
     },
     "execution_count": 30,
     "metadata": {},
     "output_type": "execute_result"
    }
   ],
   "source": [
    "df['وضعیت بدنه'].value_counts()"
   ]
  },
  {
   "cell_type": "code",
   "execution_count": 31,
   "id": "817c28d7",
   "metadata": {},
   "outputs": [
    {
     "data": {
      "text/plain": [
       "دنده‌ای     1480\n",
       "اتوماتیک       2\n",
       "Name: گیربکس, dtype: int64"
      ]
     },
     "execution_count": 31,
     "metadata": {},
     "output_type": "execute_result"
    }
   ],
   "source": [
    "df['گیربکس'].value_counts()"
   ]
  },
  {
   "cell_type": "code",
   "execution_count": 32,
   "id": "74b6ccc0",
   "metadata": {},
   "outputs": [
    {
     "data": {
      "text/plain": [
       "کارکرد                      0\n",
       "مدل (سال تولید)             0\n",
       "رنگ                         0\n",
       "وضعیت موتور                 0\n",
       "وضعیت شاسی‌ها               0\n",
       "وضعیت بدنه                  0\n",
       "مهلت بیمهٔ شخص ثالث        64\n",
       "گیربکس                      0\n",
       "قیمت پایه                   0\n",
       "شاسی جلو                 1534\n",
       "شاسی عقب                 1534\n",
       "نمایشگاه                 1423\n",
       "مایل به معاوضه           1239\n",
       "حداقل مبلغ پیش‌پرداخت    1495\n",
       "مبلغ هر قسط              1495\n",
       "تعداد اقساط              1495\n",
       "فروشنده                  1527\n",
       "قسط                         0\n",
       "dtype: int64"
      ]
     },
     "execution_count": 32,
     "metadata": {},
     "output_type": "execute_result"
    }
   ],
   "source": [
    "df['گیربکس'] = df['گیربکس'].fillna('دنده‌ای')\n",
    "df.isnull().sum()"
   ]
  },
  {
   "cell_type": "code",
   "execution_count": 33,
   "id": "160270fa",
   "metadata": {},
   "outputs": [
    {
     "data": {
      "text/plain": [
       "۶ ماه     246\n",
       "۱۲ ماه    177\n",
       "۸ ماه     153\n",
       "۹ ماه     125\n",
       "۷ ماه     118\n",
       "۱۰ ماه    110\n",
       "۵ ماه     107\n",
       "۱۱ ماه     98\n",
       "۳ ماه      98\n",
       "۴ ماه      96\n",
       "۲ ماه      73\n",
       "۱ ماه      69\n",
       "Name: مهلت بیمهٔ شخص ثالث, dtype: int64"
      ]
     },
     "execution_count": 33,
     "metadata": {},
     "output_type": "execute_result"
    }
   ],
   "source": [
    "df['مهلت بیمهٔ شخص ثالث'].value_counts()"
   ]
  },
  {
   "cell_type": "code",
   "execution_count": 34,
   "id": "21749544",
   "metadata": {},
   "outputs": [],
   "source": [
    "df['مهلت بیمهٔ شخص ثالث'] = df['مهلت بیمهٔ شخص ثالث'].str.replace(' ماه','')\n",
    "df['مهلت بیمهٔ شخص ثالث'] = df['مهلت بیمهٔ شخص ثالث'].fillna('۰')\n",
    "df['مهلت بیمهٔ شخص ثالث'] = df['مهلت بیمهٔ شخص ثالث'].astype(int)"
   ]
  },
  {
   "cell_type": "code",
   "execution_count": 35,
   "id": "e417e7b5",
   "metadata": {},
   "outputs": [
    {
     "data": {
      "text/plain": [
       "هستم    295\n",
       "Name: مایل به معاوضه, dtype: int64"
      ]
     },
     "execution_count": 35,
     "metadata": {},
     "output_type": "execute_result"
    }
   ],
   "source": [
    "df['مایل به معاوضه'].value_counts()"
   ]
  },
  {
   "cell_type": "code",
   "execution_count": 36,
   "id": "9387ce6f",
   "metadata": {},
   "outputs": [],
   "source": [
    "df['مایل به معاوضه'] = df['مایل به معاوضه'].fillna('نیستم')"
   ]
  },
  {
   "cell_type": "code",
   "execution_count": 37,
   "id": "9e707c0d",
   "metadata": {},
   "outputs": [
    {
     "data": {
      "text/plain": [
       "اتو خطیب            6\n",
       "مهراد خودرو         5\n",
       "دینو خودرو          5\n",
       "سایپا جلالی         4\n",
       "اتوگالری میرزایی    3\n",
       "                   ..\n",
       "کیا موتورز توکلی    1\n",
       "اتو آپادانا         1\n",
       "اتوگالری محمدی      1\n",
       "اتو شناس 2          1\n",
       "اتو علایی           1\n",
       "Name: نمایشگاه, Length: 69, dtype: int64"
      ]
     },
     "execution_count": 37,
     "metadata": {},
     "output_type": "execute_result"
    }
   ],
   "source": [
    "df['نمایشگاه'].value_counts()"
   ]
  },
  {
   "cell_type": "code",
   "execution_count": 38,
   "id": "a609325a",
   "metadata": {},
   "outputs": [],
   "source": [
    "df['نمایشگاه'] = df['نمایشگاه'].fillna('شخصی')\n",
    "df.loc[df['نمایشگاه']!='شخصی','نمایشگاه']='نمایشگاهی'"
   ]
  },
  {
   "cell_type": "code",
   "execution_count": 39,
   "id": "046681e8",
   "metadata": {},
   "outputs": [
    {
     "data": {
      "text/plain": [
       "کارکرد                      0\n",
       "مدل (سال تولید)             0\n",
       "رنگ                         0\n",
       "وضعیت موتور                 0\n",
       "وضعیت شاسی‌ها               0\n",
       "وضعیت بدنه                  0\n",
       "مهلت بیمهٔ شخص ثالث         0\n",
       "گیربکس                      0\n",
       "قیمت پایه                   0\n",
       "شاسی جلو                 1534\n",
       "شاسی عقب                 1534\n",
       "نمایشگاه                    0\n",
       "مایل به معاوضه              0\n",
       "حداقل مبلغ پیش‌پرداخت    1495\n",
       "مبلغ هر قسط              1495\n",
       "تعداد اقساط              1495\n",
       "فروشنده                  1527\n",
       "قسط                         0\n",
       "dtype: int64"
      ]
     },
     "execution_count": 39,
     "metadata": {},
     "output_type": "execute_result"
    }
   ],
   "source": [
    "df.isnull().sum()"
   ]
  },
  {
   "cell_type": "code",
   "execution_count": 40,
   "id": "c8470cfc",
   "metadata": {},
   "outputs": [],
   "source": [
    "drop_columns = ['تعداد اقساط','مبلغ هر قسط','شاسی جلو','شاسی عقب','حداقل مبلغ پیش‌پرداخت','فروشنده','مایل به معاوضه']\n",
    "df.drop(drop_columns,inplace=True,axis=1)"
   ]
  },
  {
   "cell_type": "code",
   "execution_count": 41,
   "id": "fced19c0",
   "metadata": {},
   "outputs": [
    {
     "data": {
      "text/plain": [
       "کارکرد                 0\n",
       "مدل (سال تولید)        0\n",
       "رنگ                    0\n",
       "وضعیت موتور            0\n",
       "وضعیت شاسی‌ها          0\n",
       "وضعیت بدنه             0\n",
       "مهلت بیمهٔ شخص ثالث    0\n",
       "گیربکس                 0\n",
       "قیمت پایه              0\n",
       "نمایشگاه               0\n",
       "قسط                    0\n",
       "dtype: int64"
      ]
     },
     "execution_count": 41,
     "metadata": {},
     "output_type": "execute_result"
    }
   ],
   "source": [
    "df.isnull().sum()"
   ]
  },
  {
   "cell_type": "code",
   "execution_count": 42,
   "id": "ff98f7ba",
   "metadata": {},
   "outputs": [],
   "source": [
    "df.drop(df.loc[df['قیمت پایه']=='توافقی'].index, inplace=True)"
   ]
  },
  {
   "cell_type": "code",
   "execution_count": 43,
   "id": "b1fcf52f",
   "metadata": {},
   "outputs": [
    {
     "name": "stdout",
     "output_type": "stream",
     "text": [
      "<class 'pandas.core.frame.DataFrame'>\n",
      "Int64Index: 1532 entries, 0 to 1688\n",
      "Data columns (total 11 columns):\n",
      " #   Column               Non-Null Count  Dtype \n",
      "---  ------               --------------  ----- \n",
      " 0   کارکرد               1532 non-null   object\n",
      " 1   مدل (سال تولید)      1532 non-null   object\n",
      " 2   رنگ                  1532 non-null   object\n",
      " 3   وضعیت موتور          1532 non-null   object\n",
      " 4   وضعیت شاسی‌ها        1532 non-null   object\n",
      " 5   وضعیت بدنه           1532 non-null   object\n",
      " 6   مهلت بیمهٔ شخص ثالث  1532 non-null   int64 \n",
      " 7   گیربکس               1532 non-null   object\n",
      " 8   قیمت پایه            1532 non-null   object\n",
      " 9   نمایشگاه             1532 non-null   object\n",
      " 10  قسط                  1532 non-null   bool  \n",
      "dtypes: bool(1), int64(1), object(9)\n",
      "memory usage: 133.2+ KB\n"
     ]
    }
   ],
   "source": [
    "df.info()"
   ]
  },
  {
   "cell_type": "code",
   "execution_count": 44,
   "id": "cd05e49b",
   "metadata": {},
   "outputs": [
    {
     "data": {
      "text/html": [
       "<div>\n",
       "<style scoped>\n",
       "    .dataframe tbody tr th:only-of-type {\n",
       "        vertical-align: middle;\n",
       "    }\n",
       "\n",
       "    .dataframe tbody tr th {\n",
       "        vertical-align: top;\n",
       "    }\n",
       "\n",
       "    .dataframe thead th {\n",
       "        text-align: right;\n",
       "    }\n",
       "</style>\n",
       "<table border=\"1\" class=\"dataframe\">\n",
       "  <thead>\n",
       "    <tr style=\"text-align: right;\">\n",
       "      <th></th>\n",
       "      <th>کارکرد</th>\n",
       "      <th>مدل (سال تولید)</th>\n",
       "      <th>رنگ</th>\n",
       "      <th>وضعیت موتور</th>\n",
       "      <th>وضعیت شاسی‌ها</th>\n",
       "      <th>وضعیت بدنه</th>\n",
       "      <th>مهلت بیمهٔ شخص ثالث</th>\n",
       "      <th>گیربکس</th>\n",
       "      <th>نمایشگاه</th>\n",
       "      <th>قسط</th>\n",
       "      <th>قیمت پایه(۱۰ ملیون)</th>\n",
       "    </tr>\n",
       "  </thead>\n",
       "  <tbody>\n",
       "    <tr>\n",
       "      <th>0</th>\n",
       "      <td>300000</td>\n",
       "      <td>1383</td>\n",
       "      <td>نقره‌ای</td>\n",
       "      <td>سالم</td>\n",
       "      <td>سالم و پلمپ</td>\n",
       "      <td>رنگ‌شدگی</td>\n",
       "      <td>9</td>\n",
       "      <td>دنده‌ای</td>\n",
       "      <td>شخصی</td>\n",
       "      <td>True</td>\n",
       "      <td>18.6</td>\n",
       "    </tr>\n",
       "    <tr>\n",
       "      <th>2</th>\n",
       "      <td>18600</td>\n",
       "      <td>1399</td>\n",
       "      <td>سفید</td>\n",
       "      <td>سالم</td>\n",
       "      <td>سالم و پلمپ</td>\n",
       "      <td>سالم و بی‌خط و خش</td>\n",
       "      <td>11</td>\n",
       "      <td>دنده‌ای</td>\n",
       "      <td>شخصی</td>\n",
       "      <td>True</td>\n",
       "      <td>43.2</td>\n",
       "    </tr>\n",
       "    <tr>\n",
       "      <th>3</th>\n",
       "      <td>251000</td>\n",
       "      <td>1388</td>\n",
       "      <td>سفید</td>\n",
       "      <td>سالم</td>\n",
       "      <td>سالم و پلمپ</td>\n",
       "      <td>خط و خش جزیی</td>\n",
       "      <td>9</td>\n",
       "      <td>دنده‌ای</td>\n",
       "      <td>شخصی</td>\n",
       "      <td>True</td>\n",
       "      <td>26.8</td>\n",
       "    </tr>\n",
       "    <tr>\n",
       "      <th>4</th>\n",
       "      <td>200000</td>\n",
       "      <td>1390</td>\n",
       "      <td>سفید</td>\n",
       "      <td>سالم</td>\n",
       "      <td>سالم و پلمپ</td>\n",
       "      <td>رنگ‌شدگی، در ۲ ناحیه</td>\n",
       "      <td>10</td>\n",
       "      <td>دنده‌ای</td>\n",
       "      <td>شخصی</td>\n",
       "      <td>True</td>\n",
       "      <td>29.0</td>\n",
       "    </tr>\n",
       "    <tr>\n",
       "      <th>5</th>\n",
       "      <td>31000</td>\n",
       "      <td>1400</td>\n",
       "      <td>سفید</td>\n",
       "      <td>سالم</td>\n",
       "      <td>سالم و پلمپ</td>\n",
       "      <td>سالم و بی‌خط و خش</td>\n",
       "      <td>4</td>\n",
       "      <td>دنده‌ای</td>\n",
       "      <td>شخصی</td>\n",
       "      <td>True</td>\n",
       "      <td>44.5</td>\n",
       "    </tr>\n",
       "    <tr>\n",
       "      <th>...</th>\n",
       "      <td>...</td>\n",
       "      <td>...</td>\n",
       "      <td>...</td>\n",
       "      <td>...</td>\n",
       "      <td>...</td>\n",
       "      <td>...</td>\n",
       "      <td>...</td>\n",
       "      <td>...</td>\n",
       "      <td>...</td>\n",
       "      <td>...</td>\n",
       "      <td>...</td>\n",
       "    </tr>\n",
       "    <tr>\n",
       "      <th>1684</th>\n",
       "      <td>29000</td>\n",
       "      <td>1398</td>\n",
       "      <td>سفید</td>\n",
       "      <td>سالم</td>\n",
       "      <td>سالم و پلمپ</td>\n",
       "      <td>سالم و بی‌خط و خش</td>\n",
       "      <td>2</td>\n",
       "      <td>دنده‌ای</td>\n",
       "      <td>شخصی</td>\n",
       "      <td>True</td>\n",
       "      <td>40.5</td>\n",
       "    </tr>\n",
       "    <tr>\n",
       "      <th>1685</th>\n",
       "      <td>300000</td>\n",
       "      <td>1387</td>\n",
       "      <td>خاکستری</td>\n",
       "      <td>سالم</td>\n",
       "      <td>سالم و پلمپ</td>\n",
       "      <td>رنگ‌شدگی</td>\n",
       "      <td>7</td>\n",
       "      <td>دنده‌ای</td>\n",
       "      <td>شخصی</td>\n",
       "      <td>True</td>\n",
       "      <td>24.5</td>\n",
       "    </tr>\n",
       "    <tr>\n",
       "      <th>1686</th>\n",
       "      <td>40000</td>\n",
       "      <td>1400</td>\n",
       "      <td>سفید</td>\n",
       "      <td>سالم</td>\n",
       "      <td>سالم و پلمپ</td>\n",
       "      <td>خط و خش جزیی</td>\n",
       "      <td>6</td>\n",
       "      <td>دنده‌ای</td>\n",
       "      <td>شخصی</td>\n",
       "      <td>True</td>\n",
       "      <td>42.5</td>\n",
       "    </tr>\n",
       "    <tr>\n",
       "      <th>1687</th>\n",
       "      <td>0</td>\n",
       "      <td>1401</td>\n",
       "      <td>سفید</td>\n",
       "      <td>سالم</td>\n",
       "      <td>سالم و پلمپ</td>\n",
       "      <td>سالم و بی‌خط و خش</td>\n",
       "      <td>12</td>\n",
       "      <td>دنده‌ای</td>\n",
       "      <td>نمایشگاهی</td>\n",
       "      <td>True</td>\n",
       "      <td>49.0</td>\n",
       "    </tr>\n",
       "    <tr>\n",
       "      <th>1688</th>\n",
       "      <td>120000</td>\n",
       "      <td>1391</td>\n",
       "      <td>سفید</td>\n",
       "      <td>سالم</td>\n",
       "      <td>سالم و پلمپ</td>\n",
       "      <td>رنگ‌شدگی</td>\n",
       "      <td>8</td>\n",
       "      <td>دنده‌ای</td>\n",
       "      <td>شخصی</td>\n",
       "      <td>True</td>\n",
       "      <td>28.0</td>\n",
       "    </tr>\n",
       "  </tbody>\n",
       "</table>\n",
       "<p>1532 rows × 11 columns</p>\n",
       "</div>"
      ],
      "text/plain": [
       "      کارکرد  مدل (سال تولید)      رنگ وضعیت موتور وضعیت شاسی‌ها  \\\n",
       "0     300000             1383  نقره‌ای        سالم   سالم و پلمپ   \n",
       "2      18600             1399     سفید        سالم   سالم و پلمپ   \n",
       "3     251000             1388     سفید        سالم   سالم و پلمپ   \n",
       "4     200000             1390     سفید        سالم   سالم و پلمپ   \n",
       "5      31000             1400     سفید        سالم   سالم و پلمپ   \n",
       "...      ...              ...      ...         ...           ...   \n",
       "1684   29000             1398     سفید        سالم   سالم و پلمپ   \n",
       "1685  300000             1387  خاکستری        سالم   سالم و پلمپ   \n",
       "1686   40000             1400     سفید        سالم   سالم و پلمپ   \n",
       "1687       0             1401     سفید        سالم   سالم و پلمپ   \n",
       "1688  120000             1391     سفید        سالم   سالم و پلمپ   \n",
       "\n",
       "                وضعیت بدنه  مهلت بیمهٔ شخص ثالث   گیربکس   نمایشگاه   قسط  \\\n",
       "0                 رنگ‌شدگی                    9  دنده‌ای       شخصی  True   \n",
       "2        سالم و بی‌خط و خش                   11  دنده‌ای       شخصی  True   \n",
       "3             خط و خش جزیی                    9  دنده‌ای       شخصی  True   \n",
       "4     رنگ‌شدگی، در ۲ ناحیه                   10  دنده‌ای       شخصی  True   \n",
       "5        سالم و بی‌خط و خش                    4  دنده‌ای       شخصی  True   \n",
       "...                    ...                  ...      ...        ...   ...   \n",
       "1684     سالم و بی‌خط و خش                    2  دنده‌ای       شخصی  True   \n",
       "1685              رنگ‌شدگی                    7  دنده‌ای       شخصی  True   \n",
       "1686          خط و خش جزیی                    6  دنده‌ای       شخصی  True   \n",
       "1687     سالم و بی‌خط و خش                   12  دنده‌ای  نمایشگاهی  True   \n",
       "1688              رنگ‌شدگی                    8  دنده‌ای       شخصی  True   \n",
       "\n",
       "      قیمت پایه(۱۰ ملیون)  \n",
       "0                    18.6  \n",
       "2                    43.2  \n",
       "3                    26.8  \n",
       "4                    29.0  \n",
       "5                    44.5  \n",
       "...                   ...  \n",
       "1684                 40.5  \n",
       "1685                 24.5  \n",
       "1686                 42.5  \n",
       "1687                 49.0  \n",
       "1688                 28.0  \n",
       "\n",
       "[1532 rows x 11 columns]"
      ]
     },
     "execution_count": 44,
     "metadata": {},
     "output_type": "execute_result"
    }
   ],
   "source": [
    "df['قیمت پایه']= df['قیمت پایه'].str.replace(' تومان','')\n",
    "df['قیمت پایه']= df['قیمت پایه'].str.replace('٬','')\n",
    "df['قیمت پایه'] = df['قیمت پایه'].astype('int64')\n",
    "df['کارکرد'] = df['کارکرد'].str.replace('٬','')\n",
    "df['قیمت پایه(۱۰ ملیون)'] = df['قیمت پایه']/10000000\n",
    "df.drop(['قیمت پایه'],inplace=True,axis=1)\n",
    "df['کارکرد'] = df['کارکرد'].astype('int64')\n",
    "df['مدل (سال تولید)'] = df['مدل (سال تولید)'].astype('int32')\n",
    "df"
   ]
  },
  {
   "cell_type": "code",
   "execution_count": 45,
   "id": "0e0a95eb",
   "metadata": {},
   "outputs": [],
   "source": [
    "df.drop(df.loc[df['کارکرد']<0].index,inplace=True)"
   ]
  },
  {
   "cell_type": "markdown",
   "id": "58a32513",
   "metadata": {},
   "source": [
    "## Data Visualization"
   ]
  },
  {
   "cell_type": "code",
   "execution_count": 46,
   "id": "97d8e77e",
   "metadata": {},
   "outputs": [],
   "source": [
    "import matplotlib.pyplot as plt\n",
    "import seaborn as sns\n",
    "from importlib import reload\n",
    "import numpy as np"
   ]
  },
  {
   "cell_type": "code",
   "execution_count": 47,
   "id": "1b851e72",
   "metadata": {},
   "outputs": [
    {
     "data": {
      "text/plain": [
       "33.59139759921671"
      ]
     },
     "execution_count": 47,
     "metadata": {},
     "output_type": "execute_result"
    }
   ],
   "source": [
    "np.mean(df['قیمت پایه(۱۰ ملیون)'])"
   ]
  },
  {
   "cell_type": "code",
   "execution_count": 48,
   "id": "b3922750",
   "metadata": {},
   "outputs": [
    {
     "name": "stderr",
     "output_type": "stream",
     "text": [
      "/tmp/ipykernel_5869/3788269119.py:1: UserWarning: \n",
      "\n",
      "`distplot` is a deprecated function and will be removed in seaborn v0.14.0.\n",
      "\n",
      "Please adapt your code to use either `displot` (a figure-level function with\n",
      "similar flexibility) or `histplot` (an axes-level function for histograms).\n",
      "\n",
      "For a guide to updating your code to use the new functions, please see\n",
      "https://gist.github.com/mwaskom/de44147ed2974457ad6372750bbe5751\n",
      "\n",
      "  sns.distplot(df['قیمت پایه(۱۰ ملیون)'])\n"
     ]
    },
    {
     "data": {
      "text/plain": [
       "<Axes: xlabel='قیمت پایه(۱۰ ملیون)', ylabel='Density'>"
      ]
     },
     "execution_count": 48,
     "metadata": {},
     "output_type": "execute_result"
    },
    {
     "data": {
      "image/png": "[encoded data removed]",
      "text/plain": [
       "<Figure size 640x480 with 1 Axes>"
      ]
     },
     "metadata": {},
     "output_type": "display_data"
    }
   ],
   "source": [
    "sns.distplot(df['قیمت پایه(۱۰ ملیون)'])"
   ]
  },
  {
   "cell_type": "code",
   "execution_count": 49,
   "id": "87d9f221",
   "metadata": {},
   "outputs": [
    {
     "name": "stderr",
     "output_type": "stream",
     "text": [
      "/tmp/ipykernel_5869/1597222548.py:1: UserWarning: \n",
      "\n",
      "`distplot` is a deprecated function and will be removed in seaborn v0.14.0.\n",
      "\n",
      "Please adapt your code to use either `displot` (a figure-level function with\n",
      "similar flexibility) or `histplot` (an axes-level function for histograms).\n",
      "\n",
      "For a guide to updating your code to use the new functions, please see\n",
      "https://gist.github.com/mwaskom/de44147ed2974457ad6372750bbe5751\n",
      "\n",
      "  sns.distplot(df['کارکرد'])\n"
     ]
    },
    {
     "data": {
      "text/plain": [
       "<Axes: xlabel='کارکرد', ylabel='Density'>"
      ]
     },
     "execution_count": 49,
     "metadata": {},
     "output_type": "execute_result"
    },
    {
     "data": {
      "image/png": "[encoded data removed]",
      "text/plain": [
       "<Figure size 640x480 with 1 Axes>"
      ]
     },
     "metadata": {},
     "output_type": "display_data"
    }
   ],
   "source": [
    "sns.distplot(df['کارکرد'])"
   ]
  },
  {
   "cell_type": "code",
   "execution_count": 50,
   "id": "a49b8471",
   "metadata": {},
   "outputs": [
    {
     "data": {
      "image/png": "[encoded data removed]",
      "text/plain": [
       "<Figure size 640x480 with 1 Axes>"
      ]
     },
     "metadata": {},
     "output_type": "display_data"
    }
   ],
   "source": [
    "sns.barplot(x=df['وضعیت بدنه'],y=df['قیمت پایه(۱۰ ملیون)'])\n",
    "plt.xticks(rotation='vertical')\n",
    "plt.show()"
   ]
  },
  {
   "cell_type": "code",
   "execution_count": 51,
   "id": "f1b5a186",
   "metadata": {},
   "outputs": [
    {
     "data": {
      "text/html": [
       "<div>\n",
       "<style scoped>\n",
       "    .dataframe tbody tr th:only-of-type {\n",
       "        vertical-align: middle;\n",
       "    }\n",
       "\n",
       "    .dataframe tbody tr th {\n",
       "        vertical-align: top;\n",
       "    }\n",
       "\n",
       "    .dataframe thead th {\n",
       "        text-align: right;\n",
       "    }\n",
       "</style>\n",
       "<table border=\"1\" class=\"dataframe\">\n",
       "  <thead>\n",
       "    <tr style=\"text-align: right;\">\n",
       "      <th></th>\n",
       "      <th>قیمت پایه(۱۰ ملیون)</th>\n",
       "    </tr>\n",
       "    <tr>\n",
       "      <th>رنگ</th>\n",
       "      <th></th>\n",
       "    </tr>\n",
       "  </thead>\n",
       "  <tbody>\n",
       "    <tr>\n",
       "      <th>گیلاسی</th>\n",
       "      <td>42.600000</td>\n",
       "    </tr>\n",
       "    <tr>\n",
       "      <th>آبی</th>\n",
       "      <td>40.183333</td>\n",
       "    </tr>\n",
       "    <tr>\n",
       "      <th>سفید</th>\n",
       "      <td>37.976399</td>\n",
       "    </tr>\n",
       "    <tr>\n",
       "      <th>سفید صدفی</th>\n",
       "      <td>34.193939</td>\n",
       "    </tr>\n",
       "    <tr>\n",
       "      <th>قرمز</th>\n",
       "      <td>33.940000</td>\n",
       "    </tr>\n",
       "    <tr>\n",
       "      <th>سرمه‌ای</th>\n",
       "      <td>33.500000</td>\n",
       "    </tr>\n",
       "    <tr>\n",
       "      <th>بادمجانی</th>\n",
       "      <td>32.166667</td>\n",
       "    </tr>\n",
       "    <tr>\n",
       "      <th>خاکستری</th>\n",
       "      <td>31.499943</td>\n",
       "    </tr>\n",
       "    <tr>\n",
       "      <th>مشکی</th>\n",
       "      <td>28.592465</td>\n",
       "    </tr>\n",
       "    <tr>\n",
       "      <th>نوک‌مدادی</th>\n",
       "      <td>26.375956</td>\n",
       "    </tr>\n",
       "  </tbody>\n",
       "</table>\n",
       "</div>"
      ],
      "text/plain": [
       "           قیمت پایه(۱۰ ملیون)\n",
       "رنگ                           \n",
       "گیلاسی               42.600000\n",
       "آبی                  40.183333\n",
       "سفید                 37.976399\n",
       "سفید صدفی            34.193939\n",
       "قرمز                 33.940000\n",
       "سرمه‌ای              33.500000\n",
       "بادمجانی             32.166667\n",
       "خاکستری              31.499943\n",
       "مشکی                 28.592465\n",
       "نوک‌مدادی            26.375956"
      ]
     },
     "execution_count": 51,
     "metadata": {},
     "output_type": "execute_result"
    }
   ],
   "source": [
    "top_salary =  df.groupby('رنگ').agg({'قیمت پایه(۱۰ ملیون)':'mean'}).sort_values('قیمت پایه(۱۰ ملیون)', ascending=False).head(10)\n",
    "top_salary.head(10)"
   ]
  },
  {
   "cell_type": "code",
   "execution_count": 52,
   "id": "b2ee1764",
   "metadata": {},
   "outputs": [
    {
     "data": {
      "text/plain": [
       "<Axes: xlabel='count', ylabel='مدل (سال تولید)'>"
      ]
     },
     "execution_count": 52,
     "metadata": {},
     "output_type": "execute_result"
    },
    {
     "data": {
      "image/png": "[encoded data removed]",
      "text/plain": [
       "<Figure size 640x480 with 1 Axes>"
      ]
     },
     "metadata": {},
     "output_type": "display_data"
    }
   ],
   "source": [
    "sns.countplot(y=df['مدل (سال تولید)'],order=df['مدل (سال تولید)'].value_counts().index)"
   ]
  },
  {
   "cell_type": "code",
   "execution_count": 53,
   "id": "9ed2f1d0",
   "metadata": {},
   "outputs": [
    {
     "data": {
      "image/png": "[encoded data removed]",
      "text/plain": [
       "<Figure size 800x400 with 1 Axes>"
      ]
     },
     "metadata": {},
     "output_type": "display_data"
    }
   ],
   "source": [
    "plt.figure(figsize=(8,4))\n",
    "# Job titles and associated average salary\n",
    "top_salary = df.groupby('نمایشگاه').agg({'قیمت پایه(۱۰ ملیون)': 'mean'}).round(\n",
    "    2).sort_values('قیمت پایه(۱۰ ملیون)', ascending=True)\n",
    "\n",
    "sns.set(style=\"whitegrid\")\n",
    "ax= sns.barplot(x = top_salary.index, y ='قیمت پایه(۱۰ ملیون)', \n",
    "            data = top_salary,           \n",
    "            palette = \"viridis\",\n",
    "            width=0.9)\n",
    "            \n",
    "plt.title('Median car prise\\n', fontsize=16, fontweight=\"bold\", loc=\"center\")\n",
    "plt.ylabel('\\nprice in 10 milion', color=\"black\", fontsize=10)\n",
    "plt.xlabel('sale type', color=\"black\", fontsize=10)\n",
    "plt.xticks(fontsize=10, color=\"black\")\n",
    "plt.yticks(fontsize=10, color=\"black\")\n",
    "\n",
    "\n",
    "\n",
    "plt.show() "
   ]
  },
  {
   "cell_type": "code",
   "execution_count": 54,
   "id": "3c44ae64",
   "metadata": {},
   "outputs": [
    {
     "name": "stderr",
     "output_type": "stream",
     "text": [
      "/tmp/ipykernel_5869/4070384800.py:1: FutureWarning: The default value of numeric_only in DataFrame.corr is deprecated. In a future version, it will default to False. Select only valid columns or specify the value of numeric_only to silence this warning.\n",
      "  df.corr()['قیمت پایه(۱۰ ملیون)']\n"
     ]
    },
    {
     "data": {
      "text/plain": [
       "کارکرد                -0.266988\n",
       "مدل (سال تولید)        0.290648\n",
       "مهلت بیمهٔ شخص ثالث   -0.039597\n",
       "قسط                   -0.023139\n",
       "قیمت پایه(۱۰ ملیون)    1.000000\n",
       "Name: قیمت پایه(۱۰ ملیون), dtype: float64"
      ]
     },
     "execution_count": 54,
     "metadata": {},
     "output_type": "execute_result"
    }
   ],
   "source": [
    "df.corr()['قیمت پایه(۱۰ ملیون)']"
   ]
  },
  {
   "cell_type": "markdown",
   "id": "d01f5a26",
   "metadata": {},
   "source": [
    "## Model Training"
   ]
  },
  {
   "cell_type": "code",
   "execution_count": 55,
   "id": "ea67b87a",
   "metadata": {},
   "outputs": [],
   "source": [
    "\n",
    "from sklearn.model_selection import train_test_split # data split\n",
    "\n",
    "from sklearn.linear_model import LinearRegression # OLS algorithm\n",
    "from sklearn.linear_model import Ridge # Ridge algorithm\n",
    "from sklearn.linear_model import Lasso # Lasso algorithm\n",
    "from sklearn.linear_model import BayesianRidge # Bayesian algorithm\n",
    "from sklearn.linear_model import ElasticNet # ElasticNet algorithm"
   ]
  },
  {
   "cell_type": "code",
   "execution_count": 56,
   "id": "9a020386",
   "metadata": {},
   "outputs": [
    {
     "name": "stdout",
     "output_type": "stream",
     "text": [
      "<class 'pandas.core.frame.DataFrame'>\n",
      "Int64Index: 1532 entries, 0 to 1688\n",
      "Data columns (total 11 columns):\n",
      " #   Column               Non-Null Count  Dtype  \n",
      "---  ------               --------------  -----  \n",
      " 0   کارکرد               1532 non-null   int64  \n",
      " 1   مدل (سال تولید)      1532 non-null   int32  \n",
      " 2   رنگ                  1532 non-null   object \n",
      " 3   وضعیت موتور          1532 non-null   object \n",
      " 4   وضعیت شاسی‌ها        1532 non-null   object \n",
      " 5   وضعیت بدنه           1532 non-null   object \n",
      " 6   مهلت بیمهٔ شخص ثالث  1532 non-null   int64  \n",
      " 7   گیربکس               1532 non-null   object \n",
      " 8   نمایشگاه             1532 non-null   object \n",
      " 9   قسط                  1532 non-null   bool   \n",
      " 10  قیمت پایه(۱۰ ملیون)  1532 non-null   float64\n",
      "dtypes: bool(1), float64(1), int32(1), int64(2), object(6)\n",
      "memory usage: 127.2+ KB\n"
     ]
    }
   ],
   "source": [
    "df.info()"
   ]
  },
  {
   "cell_type": "code",
   "execution_count": 57,
   "id": "d140eb9d",
   "metadata": {},
   "outputs": [],
   "source": [
    "from sklearn.preprocessing import StandardScaler\n",
    "from sklearn.preprocessing import LabelEncoder\n",
    "from sklearn.compose import ColumnTransformer\n",
    "from sklearn.tree import DecisionTreeRegressor\n",
    "from sklearn.ensemble import RandomForestRegressor"
   ]
  },
  {
   "cell_type": "code",
   "execution_count": 58,
   "id": "0bc74b6c",
   "metadata": {},
   "outputs": [],
   "source": [
    "cat_column = ['نمایشگاه','وضعیت شاسی‌ها','رنگ','وضعیت موتور','وضعیت بدنه','قسط','گیربکس']\n",
    "val_column = ['کارکرد','مهلت بیمهٔ شخص ثالث','مدل (سال تولید)']"
   ]
  },
  {
   "cell_type": "code",
   "execution_count": 59,
   "id": "1c9b100e",
   "metadata": {},
   "outputs": [
    {
     "name": "stdout",
     "output_type": "stream",
     "text": [
      "شخصی         1423\n",
      "نمایشگاهی     109\n",
      "Name: نمایشگاه, dtype: int64\n",
      "*************************\n",
      "سالم و پلمپ    1521\n",
      "ضربه‌خورده       10\n",
      "رنگ‌شده           1\n",
      "Name: وضعیت شاسی‌ها, dtype: int64\n",
      "*************************\n",
      "سفید         880\n",
      "خاکستری      195\n",
      "نقره‌ای      155\n",
      "مشکی          87\n",
      "نوک‌مدادی     61\n",
      "بژ            34\n",
      "سفید صدفی     22\n",
      "نقرآبی        17\n",
      "آلبالویی      16\n",
      "قرمز          15\n",
      "یشمی          14\n",
      "آبی           12\n",
      "دلفینی        10\n",
      "بادمجانی       3\n",
      "گیلاسی         3\n",
      "سرمه‌ای        2\n",
      "طلایی          1\n",
      "نارنجی         1\n",
      "قهوه‌ای        1\n",
      "عدسی           1\n",
      "سبز            1\n",
      "ذغالی          1\n",
      "Name: رنگ, dtype: int64\n",
      "*************************\n",
      "سالم             1517\n",
      "تعویض شده          11\n",
      "نیاز به تعمیر       4\n",
      "Name: وضعیت موتور, dtype: int64\n",
      "*************************\n",
      "سالم و بی‌خط و خش       639\n",
      "خط و خش جزیی            350\n",
      "رنگ‌شدگی                317\n",
      "دوررنگ                  127\n",
      "صافکاری بی‌رنگ           38\n",
      "تمام‌رنگ                 32\n",
      "رنگ‌شدگی، در ۲ ناحیه     16\n",
      "رنگ‌شدگی، در ۱ ناحیه      8\n",
      "تصادفی                    5\n",
      "Name: وضعیت بدنه, dtype: int64\n",
      "*************************\n",
      "True     1493\n",
      "False      39\n",
      "Name: قسط, dtype: int64\n",
      "*************************\n",
      "دنده‌ای     1530\n",
      "اتوماتیک       2\n",
      "Name: گیربکس, dtype: int64\n",
      "*************************\n"
     ]
    }
   ],
   "source": [
    "for i in cat_column:\n",
    "   print(df[i].value_counts())\n",
    "   print(\"*************************\")"
   ]
  },
  {
   "cell_type": "code",
   "execution_count": 60,
   "id": "44625a36",
   "metadata": {},
   "outputs": [],
   "source": [
    "df['نمایشگاه']= df['نمایشگاه'].map({\"شخصی\":0,\"نمایشگاهی\":1}).astype(int)"
   ]
  },
  {
   "cell_type": "code",
   "execution_count": 61,
   "id": "1536841d",
   "metadata": {},
   "outputs": [],
   "source": [
    "df['رنگ']= df['رنگ'].map({\"سفید\":0, \"خاکستری\":1, \"نقره‌ای\":2,\"مشکی\":3,\"نوک‌مدادی\":4,\"بژ\":5,\"سفید صدفی\":6,\"نقرآبی\":7,\"آلبالویی\":8,\"قرمز\":9,\"یشمی\":10,\"آبی\":11,\"دلفینی\":12,\"بادمجانی\":13,\"گیلاسی\":14,\"سرمه‌ای\":15,\"طلایی\":16,\"نارنجی\":17,\"قهوه‌ای\":18,\"عدسی\":19,\"سبز\":20,\"ذغالی\":21}).astype(int)"
   ]
  },
  {
   "cell_type": "code",
   "execution_count": 62,
   "id": "f3f95cd7",
   "metadata": {},
   "outputs": [],
   "source": [
    "df['وضعیت موتور'] = df['وضعیت موتور'].map({\"سالم\":0,\"تعویض شده\":1,\"نیاز به تعمیر\":2}).astype(int)"
   ]
  },
  {
   "cell_type": "code",
   "execution_count": 63,
   "id": "a9b6ee5d",
   "metadata": {},
   "outputs": [],
   "source": [
    "df['وضعیت بدنه'] = df['وضعیت بدنه'].map({\"سالم و بی‌خط و خش\":0,\"خط و خش جزیی\":1,\"رنگ‌شدگی\":2,\"دوررنگ\":3,\"صافکاری بی‌رنگ\":4,\"تمام‌رنگ\":5,\"رنگ‌شدگی، در ۲ ناحیه\":6,\"رنگ‌شدگی، در ۱ ناحیه\":7,\"تصادفی\":8}).astype(int)"
   ]
  },
  {
   "cell_type": "code",
   "execution_count": 64,
   "id": "36370742",
   "metadata": {},
   "outputs": [],
   "source": [
    "df['گیربکس'] = df['گیربکس'].map({\"دنده‌ای\":0,\"اتوماتیک\":1}).astype(int)"
   ]
  },
  {
   "cell_type": "code",
   "execution_count": 65,
   "id": "70dcfe4e",
   "metadata": {},
   "outputs": [],
   "source": [
    "df['قسط']=df['قسط'].map({True:0,False:1}).astype(int)"
   ]
  },
  {
   "cell_type": "code",
   "execution_count": 66,
   "id": "ab4ac489",
   "metadata": {},
   "outputs": [],
   "source": [
    "df['وضعیت شاسی‌ها']=df['وضعیت شاسی‌ها'].map({\"سالم و پلمپ\":0,\"ضربه‌خورده\":1,\"رنگ‌شده\":2}).astype(int)"
   ]
  },
  {
   "cell_type": "code",
   "execution_count": 67,
   "id": "ff6ccff5",
   "metadata": {},
   "outputs": [],
   "source": [
    "X = df.drop(columns=['قیمت پایه(۱۰ ملیون)'], axis=1)\n",
    "y = df['قیمت پایه(۱۰ ملیون)']"
   ]
  },
  {
   "cell_type": "code",
   "execution_count": 68,
   "id": "ea026d76",
   "metadata": {},
   "outputs": [
    {
     "data": {
      "text/html": [
       "<div>\n",
       "<style scoped>\n",
       "    .dataframe tbody tr th:only-of-type {\n",
       "        vertical-align: middle;\n",
       "    }\n",
       "\n",
       "    .dataframe tbody tr th {\n",
       "        vertical-align: top;\n",
       "    }\n",
       "\n",
       "    .dataframe thead th {\n",
       "        text-align: right;\n",
       "    }\n",
       "</style>\n",
       "<table border=\"1\" class=\"dataframe\">\n",
       "  <thead>\n",
       "    <tr style=\"text-align: right;\">\n",
       "      <th></th>\n",
       "      <th>کارکرد</th>\n",
       "      <th>مدل (سال تولید)</th>\n",
       "      <th>رنگ</th>\n",
       "      <th>وضعیت موتور</th>\n",
       "      <th>وضعیت شاسی‌ها</th>\n",
       "      <th>وضعیت بدنه</th>\n",
       "      <th>مهلت بیمهٔ شخص ثالث</th>\n",
       "      <th>گیربکس</th>\n",
       "      <th>نمایشگاه</th>\n",
       "      <th>قسط</th>\n",
       "      <th>قیمت پایه(۱۰ ملیون)</th>\n",
       "    </tr>\n",
       "  </thead>\n",
       "  <tbody>\n",
       "    <tr>\n",
       "      <th>0</th>\n",
       "      <td>300000</td>\n",
       "      <td>1383</td>\n",
       "      <td>2</td>\n",
       "      <td>0</td>\n",
       "      <td>0</td>\n",
       "      <td>2</td>\n",
       "      <td>9</td>\n",
       "      <td>0</td>\n",
       "      <td>0</td>\n",
       "      <td>0</td>\n",
       "      <td>18.6</td>\n",
       "    </tr>\n",
       "    <tr>\n",
       "      <th>2</th>\n",
       "      <td>18600</td>\n",
       "      <td>1399</td>\n",
       "      <td>0</td>\n",
       "      <td>0</td>\n",
       "      <td>0</td>\n",
       "      <td>0</td>\n",
       "      <td>11</td>\n",
       "      <td>0</td>\n",
       "      <td>0</td>\n",
       "      <td>0</td>\n",
       "      <td>43.2</td>\n",
       "    </tr>\n",
       "    <tr>\n",
       "      <th>3</th>\n",
       "      <td>251000</td>\n",
       "      <td>1388</td>\n",
       "      <td>0</td>\n",
       "      <td>0</td>\n",
       "      <td>0</td>\n",
       "      <td>1</td>\n",
       "      <td>9</td>\n",
       "      <td>0</td>\n",
       "      <td>0</td>\n",
       "      <td>0</td>\n",
       "      <td>26.8</td>\n",
       "    </tr>\n",
       "    <tr>\n",
       "      <th>4</th>\n",
       "      <td>200000</td>\n",
       "      <td>1390</td>\n",
       "      <td>0</td>\n",
       "      <td>0</td>\n",
       "      <td>0</td>\n",
       "      <td>6</td>\n",
       "      <td>10</td>\n",
       "      <td>0</td>\n",
       "      <td>0</td>\n",
       "      <td>0</td>\n",
       "      <td>29.0</td>\n",
       "    </tr>\n",
       "    <tr>\n",
       "      <th>5</th>\n",
       "      <td>31000</td>\n",
       "      <td>1400</td>\n",
       "      <td>0</td>\n",
       "      <td>0</td>\n",
       "      <td>0</td>\n",
       "      <td>0</td>\n",
       "      <td>4</td>\n",
       "      <td>0</td>\n",
       "      <td>0</td>\n",
       "      <td>0</td>\n",
       "      <td>44.5</td>\n",
       "    </tr>\n",
       "    <tr>\n",
       "      <th>...</th>\n",
       "      <td>...</td>\n",
       "      <td>...</td>\n",
       "      <td>...</td>\n",
       "      <td>...</td>\n",
       "      <td>...</td>\n",
       "      <td>...</td>\n",
       "      <td>...</td>\n",
       "      <td>...</td>\n",
       "      <td>...</td>\n",
       "      <td>...</td>\n",
       "      <td>...</td>\n",
       "    </tr>\n",
       "    <tr>\n",
       "      <th>1684</th>\n",
       "      <td>29000</td>\n",
       "      <td>1398</td>\n",
       "      <td>0</td>\n",
       "      <td>0</td>\n",
       "      <td>0</td>\n",
       "      <td>0</td>\n",
       "      <td>2</td>\n",
       "      <td>0</td>\n",
       "      <td>0</td>\n",
       "      <td>0</td>\n",
       "      <td>40.5</td>\n",
       "    </tr>\n",
       "    <tr>\n",
       "      <th>1685</th>\n",
       "      <td>300000</td>\n",
       "      <td>1387</td>\n",
       "      <td>1</td>\n",
       "      <td>0</td>\n",
       "      <td>0</td>\n",
       "      <td>2</td>\n",
       "      <td>7</td>\n",
       "      <td>0</td>\n",
       "      <td>0</td>\n",
       "      <td>0</td>\n",
       "      <td>24.5</td>\n",
       "    </tr>\n",
       "    <tr>\n",
       "      <th>1686</th>\n",
       "      <td>40000</td>\n",
       "      <td>1400</td>\n",
       "      <td>0</td>\n",
       "      <td>0</td>\n",
       "      <td>0</td>\n",
       "      <td>1</td>\n",
       "      <td>6</td>\n",
       "      <td>0</td>\n",
       "      <td>0</td>\n",
       "      <td>0</td>\n",
       "      <td>42.5</td>\n",
       "    </tr>\n",
       "    <tr>\n",
       "      <th>1687</th>\n",
       "      <td>0</td>\n",
       "      <td>1401</td>\n",
       "      <td>0</td>\n",
       "      <td>0</td>\n",
       "      <td>0</td>\n",
       "      <td>0</td>\n",
       "      <td>12</td>\n",
       "      <td>0</td>\n",
       "      <td>1</td>\n",
       "      <td>0</td>\n",
       "      <td>49.0</td>\n",
       "    </tr>\n",
       "    <tr>\n",
       "      <th>1688</th>\n",
       "      <td>120000</td>\n",
       "      <td>1391</td>\n",
       "      <td>0</td>\n",
       "      <td>0</td>\n",
       "      <td>0</td>\n",
       "      <td>2</td>\n",
       "      <td>8</td>\n",
       "      <td>0</td>\n",
       "      <td>0</td>\n",
       "      <td>0</td>\n",
       "      <td>28.0</td>\n",
       "    </tr>\n",
       "  </tbody>\n",
       "</table>\n",
       "<p>1532 rows × 11 columns</p>\n",
       "</div>"
      ],
      "text/plain": [
       "      کارکرد  مدل (سال تولید)  رنگ  وضعیت موتور  وضعیت شاسی‌ها  وضعیت بدنه  \\\n",
       "0     300000             1383    2            0              0           2   \n",
       "2      18600             1399    0            0              0           0   \n",
       "3     251000             1388    0            0              0           1   \n",
       "4     200000             1390    0            0              0           6   \n",
       "5      31000             1400    0            0              0           0   \n",
       "...      ...              ...  ...          ...            ...         ...   \n",
       "1684   29000             1398    0            0              0           0   \n",
       "1685  300000             1387    1            0              0           2   \n",
       "1686   40000             1400    0            0              0           1   \n",
       "1687       0             1401    0            0              0           0   \n",
       "1688  120000             1391    0            0              0           2   \n",
       "\n",
       "      مهلت بیمهٔ شخص ثالث  گیربکس  نمایشگاه  قسط  قیمت پایه(۱۰ ملیون)  \n",
       "0                       9       0         0    0                 18.6  \n",
       "2                      11       0         0    0                 43.2  \n",
       "3                       9       0         0    0                 26.8  \n",
       "4                      10       0         0    0                 29.0  \n",
       "5                       4       0         0    0                 44.5  \n",
       "...                   ...     ...       ...  ...                  ...  \n",
       "1684                    2       0         0    0                 40.5  \n",
       "1685                    7       0         0    0                 24.5  \n",
       "1686                    6       0         0    0                 42.5  \n",
       "1687                   12       0         1    0                 49.0  \n",
       "1688                    8       0         0    0                 28.0  \n",
       "\n",
       "[1532 rows x 11 columns]"
      ]
     },
     "execution_count": 68,
     "metadata": {},
     "output_type": "execute_result"
    }
   ],
   "source": [
    "df"
   ]
  },
  {
   "cell_type": "code",
   "execution_count": 69,
   "id": "7049312d",
   "metadata": {},
   "outputs": [
    {
     "data": {
      "text/plain": [
       "(1532, 10)"
      ]
     },
     "execution_count": 69,
     "metadata": {},
     "output_type": "execute_result"
    }
   ],
   "source": [
    "X.shape"
   ]
  },
  {
   "cell_type": "code",
   "execution_count": 70,
   "id": "03d8ec33",
   "metadata": {},
   "outputs": [
    {
     "data": {
      "text/plain": [
       "(1532,)"
      ]
     },
     "execution_count": 70,
     "metadata": {},
     "output_type": "execute_result"
    }
   ],
   "source": [
    "y.shape"
   ]
  },
  {
   "cell_type": "code",
   "execution_count": 71,
   "id": "4d580b12",
   "metadata": {},
   "outputs": [],
   "source": [
    "x_train_val,x_test,y_train_val,y_test = train_test_split(X,y,test_size=0.2,random_state=42)\n",
    "x_train,x_val,y_train,y_val = train_test_split(x_train_val,y_train_val,test_size=0.2,random_state=42)"
   ]
  },
  {
   "cell_type": "code",
   "execution_count": 72,
   "id": "0df24a82",
   "metadata": {},
   "outputs": [],
   "source": [
    "from sklearn import metrics\n",
    "\n",
    "ridge_alphas = [0.001, 0.01, 0.1, 1, 10, 100,0.5]\n",
    "lasso_alphas = [0.001, 0.01, 0.1, 1, 10, 100]\n",
    "\n",
    "# Define hyperparameters to try for Elastic Net\n",
    "elastic_alphas = [0.001,0.01, 0.1, 1, 10, 100]\n",
    "elastic_l1_ratios = [0.1, 0.3, 0.5, 0.7, 0.9]"
   ]
  },
  {
   "cell_type": "code",
   "execution_count": 73,
   "id": "02bc654a",
   "metadata": {},
   "outputs": [],
   "source": [
    "best_params = {}\n",
    "best_val_scores = {'Ridge': 0, 'Lasso': 0, 'Elastic Net': 0}"
   ]
  },
  {
   "cell_type": "code",
   "execution_count": 74,
   "id": "872fc9bd",
   "metadata": {},
   "outputs": [],
   "source": [
    "for ridge_alpha in ridge_alphas:\n",
    "    # Train Ridge model with current alpha on training set\n",
    "    ridge = Ridge(alpha=ridge_alpha)\n",
    "    ridge.fit(x_train, y_train)\n",
    "\n",
    "    # Evaluate Ridge model on validation set\n",
    "    y_pred = ridge.predict(x_val)\n",
    "    ridge_val_score = metrics.r2_score(y_val, y_pred)\n",
    "\n",
    "    # Update best hyperparameters if current score is higher than previous best\n",
    "    if ridge_val_score > best_val_scores['Ridge']:\n",
    "        best_val_scores['Ridge'] = ridge_val_score\n",
    "        best_params['Ridge'] = {'alpha': ridge_alpha}\n"
   ]
  },
  {
   "cell_type": "code",
   "execution_count": 75,
   "id": "aa256589",
   "metadata": {},
   "outputs": [],
   "source": [
    "for lasso_alpha in lasso_alphas:\n",
    "    # Train Lasso model with current alpha on training set\n",
    "    lasso = Lasso(alpha=lasso_alpha)\n",
    "    lasso.fit(x_train, y_train)\n",
    "\n",
    "    # Evaluate Lasso model on validation set\n",
    "    y_pred = lasso.predict(x_val)\n",
    "    lasso_val_score = metrics.r2_score(y_val, y_pred)\n",
    "\n",
    "    # Update best hyperparameters if current score is higher than previous best\n",
    "    if lasso_val_score > best_val_scores['Lasso']:\n",
    "        best_val_scores['Lasso'] = lasso_val_score\n",
    "        best_params['Lasso'] = {'alpha': lasso_alpha}"
   ]
  },
  {
   "cell_type": "code",
   "execution_count": 76,
   "id": "5157cb7c",
   "metadata": {},
   "outputs": [],
   "source": [
    "for elastic_alpha in elastic_alphas:\n",
    "    for l1_ratio in elastic_l1_ratios:\n",
    "        # Train Elastic Net model with current alpha and l1_ratio on training set\n",
    "        elastic = ElasticNet(alpha=elastic_alpha, l1_ratio=l1_ratio)\n",
    "        elastic.fit(x_train, y_train)\n",
    "\n",
    "        # Evaluate Elastic Net model on validation set\n",
    "        y_pred = elastic.predict(x_val)\n",
    "        elastic_val_score = metrics.r2_score(y_val, y_pred)\n",
    "\n",
    "        # Update best hyperparameters if current score is higher than previous best\n",
    "        if elastic_val_score > best_val_scores['Elastic Net']:\n",
    "            best_val_scores['Elastic Net'] = elastic_val_score\n",
    "            best_params['Elastic Net'] = {'alpha': elastic_alpha, 'l1_ratio': l1_ratio}\n"
   ]
  },
  {
   "cell_type": "code",
   "execution_count": 77,
   "id": "745b9dd7",
   "metadata": {},
   "outputs": [
    {
     "name": "stdout",
     "output_type": "stream",
     "text": [
      "{'Ridge': {'alpha': 100}, 'Lasso': {'alpha': 0.1}, 'Elastic Net': {'alpha': 0.1, 'l1_ratio': 0.1}}\n",
      "{'Ridge': 0.13564043436610052, 'Lasso': 0.1351963427219346, 'Elastic Net': 0.13560155822483633}\n"
     ]
    }
   ],
   "source": [
    "print(best_params)\n",
    "print(best_val_scores)"
   ]
  },
  {
   "cell_type": "code",
   "execution_count": 78,
   "id": "17e9411c",
   "metadata": {},
   "outputs": [],
   "source": [
    "X_train, X_test, y_train, y_test = train_test_split(X, y, test_size = 0.2, random_state = 0)"
   ]
  },
  {
   "cell_type": "code",
   "execution_count": 79,
   "id": "37321366",
   "metadata": {},
   "outputs": [],
   "source": [
    "# 1. OLS\n",
    "\n",
    "ols = LinearRegression()\n",
    "ols.fit(X_train, y_train)\n",
    "ols_yhat = ols.predict(X_test)\n",
    "\n",
    "# 2. Ridge\n",
    "\n",
    "ridge = Ridge(alpha = best_params['Ridge']['alpha'])\n",
    "ridge.fit(X_train, y_train)\n",
    "ridge_yhat = ridge.predict(X_test)\n",
    "\n",
    "# 3. Lasso\n",
    "\n",
    "lasso = Lasso(alpha = best_params['Lasso']['alpha'])\n",
    "lasso.fit(X_train, y_train)\n",
    "lasso_yhat = lasso.predict(X_test)\n",
    "\n",
    "# 4. Bayesian\n",
    "\n",
    "bayesian = BayesianRidge()\n",
    "bayesian.fit(X_train, y_train)\n",
    "bayesian_yhat = bayesian.predict(X_test)\n",
    "\n",
    "# 5. ElasticNet\n",
    "\n",
    "en = ElasticNet(alpha=best_params['Elastic Net']['alpha'], l1_ratio=best_params['Elastic Net']['l1_ratio'])\n",
    "en.fit(X_train, y_train)\n",
    "en_yhat = en.predict(X_test)\n",
    "\n",
    "# 6.DecisionTreeRegressor\n",
    "dmodel=DecisionTreeRegressor()\n",
    "dmodel.fit(X_train, y_train)\n",
    "\n",
    "y_dmodel_pred=dmodel.predict(X_test)\n",
    "\n",
    "# 7.RandomForestRegressor\n",
    "\n",
    "rf=RandomForestRegressor()\n",
    "rf.fit(X_train, y_train)\n",
    "\n",
    "rf_pred=rf.predict(X_test)"
   ]
  },
  {
   "cell_type": "code",
   "execution_count": 80,
   "id": "93818c5a",
   "metadata": {},
   "outputs": [],
   "source": [
    "from sklearn.metrics import explained_variance_score as evs \n",
    "from sklearn.metrics import r2_score as r2"
   ]
  },
  {
   "cell_type": "code",
   "execution_count": 81,
   "id": "e1c09b3c",
   "metadata": {},
   "outputs": [
    {
     "name": "stdout",
     "output_type": "stream",
     "text": [
      "Explained Variance Score of OLS model is 0.04293773470296791\n",
      "-------------------------------------------------------------------------------\n",
      "Explained Variance Score of Ridge model is 0.04005042243762058\n",
      "-------------------------------------------------------------------------------\n",
      "Explained Variance Score of Lasso model is 0.039237040223617736\n",
      "-------------------------------------------------------------------------------\n",
      "Explained Variance Score of Bayesian model is 0.03902109676553145\n",
      "-------------------------------------------------------------------------------\n",
      "Explained Variance Score of ElasticNet is 0.03986509811192729\n",
      "-------------------------------------------------------------------------------\n",
      "Explained Variance Score of DecisionTreeRegressor model is -0.021970111893067967\n",
      "-------------------------------------------------------------------------------\n",
      "Explained Variance Score of RandomForestRegressor is 0.005151007436261179\n",
      "-------------------------------------------------------------------------------\n"
     ]
    }
   ],
   "source": [
    "print(f'Explained Variance Score of OLS model is {evs(y_test, ols_yhat)}')\n",
    "print('-------------------------------------------------------------------------------')\n",
    "print(f'Explained Variance Score of Ridge model is {evs(y_test, ridge_yhat)}')\n",
    "print('-------------------------------------------------------------------------------')\n",
    "print(f'Explained Variance Score of Lasso model is {evs(y_test, lasso_yhat)}')\n",
    "print('-------------------------------------------------------------------------------')\n",
    "print(f'Explained Variance Score of Bayesian model is {evs(y_test, bayesian_yhat)}')\n",
    "print('-------------------------------------------------------------------------------')\n",
    "print(f'Explained Variance Score of ElasticNet is {evs(y_test, en_yhat)}')\n",
    "print('-------------------------------------------------------------------------------')\n",
    "print(f'Explained Variance Score of DecisionTreeRegressor model is {evs(y_test, y_dmodel_pred)}')\n",
    "print('-------------------------------------------------------------------------------')\n",
    "print(f'Explained Variance Score of RandomForestRegressor is {evs(y_test, rf_pred)}')\n",
    "print('-------------------------------------------------------------------------------')"
   ]
  },
  {
   "cell_type": "code",
   "execution_count": 82,
   "id": "ff806241",
   "metadata": {},
   "outputs": [
    {
     "name": "stdout",
     "output_type": "stream",
     "text": [
      "R-Squared of OLS model is 0.04128802671034415\n",
      "-------------------------------------------------------------------------------\n",
      "R-Squared of Ridge model is 0.03841971182101789\n",
      "-------------------------------------------------------------------------------\n",
      "R-Squared of Lasso model is 0.03759275348450075\n",
      "-------------------------------------------------------------------------------\n",
      "R-Squared of Bayesian model is 0.03740838669336222\n",
      "-------------------------------------------------------------------------------\n",
      "R-Squared of ElasticNet is 0.03823481731089706\n",
      "-------------------------------------------------------------------------------\n",
      "R-Squared of DecisionTreeRegressor model is -0.024136072341732984\n",
      "-------------------------------------------------------------------------------\n",
      "R-Squared of RandomForestRegressor model is 0.003393754927252468\n",
      "-------------------------------------------------------------------------------\n"
     ]
    }
   ],
   "source": [
    "print(f'R-Squared of OLS model is {r2(y_test, ols_yhat)}')\n",
    "print('-------------------------------------------------------------------------------')\n",
    "print(f'R-Squared of Ridge model is {r2(y_test, ridge_yhat)}')\n",
    "print('-------------------------------------------------------------------------------')\n",
    "print(f'R-Squared of Lasso model is {r2(y_test, lasso_yhat)}')\n",
    "print('-------------------------------------------------------------------------------')\n",
    "print(f'R-Squared of Bayesian model is {r2(y_test, bayesian_yhat)}')\n",
    "print('-------------------------------------------------------------------------------')\n",
    "print(f'R-Squared of ElasticNet is {r2(y_test, en_yhat)}')\n",
    "print('-------------------------------------------------------------------------------')\n",
    "print(f'R-Squared of DecisionTreeRegressor model is {r2(y_test, y_dmodel_pred)}')\n",
    "print('-------------------------------------------------------------------------------')\n",
    "print(f'R-Squared of RandomForestRegressor model is {r2(y_test, rf_pred)}')\n",
    "print('-------------------------------------------------------------------------------')"
   ]
  },
  {
   "cell_type": "code",
   "execution_count": 83,
   "id": "99b881ac",
   "metadata": {},
   "outputs": [
    {
     "name": "stdout",
     "output_type": "stream",
     "text": [
      "MSE of OLS model is 3723.2075353966484\n",
      "-------------------------------------------------------------------------------\n",
      "MSE of Ridge model is 3734.346784626201\n",
      "-------------------------------------------------------------------------------\n",
      "MSE of Lasso model is 3737.5583200985443\n",
      "-------------------------------------------------------------------------------\n",
      "MSE of Bayesian model is 3738.2743180678704\n",
      "-------------------------------------------------------------------------------\n",
      "MSE of ElasticNet is 3735.06483201949\n",
      "-------------------------------------------------------------------------------\n",
      "MSE of DecisionTreeRegressor model is 3977.285407973332\n",
      "-------------------------------------------------------------------------------\n",
      "MSE of RandomForestRegressor model is 3870.3718998585373\n",
      "-------------------------------------------------------------------------------\n"
     ]
    }
   ],
   "source": [
    "import sklearn.metrics as metrics\n",
    "\n",
    "print(f'MSE of OLS model is {metrics.mean_squared_error(y_test, ols_yhat)}')\n",
    "print('-------------------------------------------------------------------------------')\n",
    "print(f'MSE of Ridge model is {metrics.mean_squared_error(y_test, ridge_yhat)}')\n",
    "print('-------------------------------------------------------------------------------')\n",
    "print(f'MSE of Lasso model is {metrics.mean_squared_error(y_test, lasso_yhat)}')\n",
    "print('-------------------------------------------------------------------------------')\n",
    "print(f'MSE of Bayesian model is {metrics.mean_squared_error(y_test, bayesian_yhat)}')\n",
    "print('-------------------------------------------------------------------------------')\n",
    "print(f'MSE of ElasticNet is {metrics.mean_squared_error(y_test, en_yhat)}')\n",
    "print('-------------------------------------------------------------------------------')\n",
    "print(f'MSE of DecisionTreeRegressor model is {metrics.mean_squared_error(y_test, y_dmodel_pred)}')\n",
    "print('-------------------------------------------------------------------------------')\n",
    "print(f'MSE of RandomForestRegressor model is {metrics.mean_squared_error(y_test, rf_pred)}')\n",
    "print('-------------------------------------------------------------------------------')"
   ]
  },
  {
   "cell_type": "code",
   "execution_count": 84,
   "id": "d9530f86",
   "metadata": {},
   "outputs": [],
   "source": [
    "import pickle\n",
    "\n",
    "with open(\"model-car.pkl\", \"wb\") as f:\n",
    "    pickle.dump(ols, f)"
   ]
  },
  {
   "cell_type": "code",
   "execution_count": 85,
   "id": "82dd9963",
   "metadata": {},
   "outputs": [],
   "source": [
    "import pickle\n",
    "import pandas as pd\n",
    "\n",
    "with open(\"model-car.pkl\", 'rb') as f:\n",
    "    model = pickle.load(f)"
   ]
  },
  {
   "cell_type": "code",
   "execution_count": 91,
   "id": "d59fd381",
   "metadata": {},
   "outputs": [
    {
     "name": "stdout",
     "output_type": "stream",
     "text": [
      "کارکرد:\t92000\n",
      "مدل (سال تولید):\t1397\n",
      "0:سفید1:خاکستری\t2:نقره‌ای\t3:مشکی\t4:نوک‌مدادی\n",
      "5:بژ\t6:سفید صدفی\tنقرآبی:7\tآلبالویی:8\n",
      "قرمز:9\t10:یشمی\tآبی:11\tدلفینی:12\n",
      "بادمجانی:13\tگیلاسی:14\tسرمه‌ای\t:طلایی:16\n",
      "نارنجی:17\tقهوه‌ای:18\tعدسی:19\tسبز:20\tذغالی:21\n",
      "شماره رنگ ماشین:\t0\n",
      "سالم:0\tتعویض شده:1\tنیاز به تعمیر:2شماره وضعیت موتور:\t0\n",
      "سالم و پلمپ:\tضربه‌خورده:1\tرنگ‌شده:2\t شماره وضعیت شاسی:0\n",
      "سالم و بی‌خط و خش:0\tخط و خش جزیی:1\tرنگ‌شدگی:2\tدوررنگ:3\tصافکاری بی‌رنگ:4\n",
      "تمام‌رنگ:5\tرنگ‌شدگی، در ۲ ناحیه:6\tرنگ‌شدگی، در ۱ ناحیه:7\tتصادفی:8\n",
      "شماره وضعیت بدنه:\t0\n",
      "مهلت بیمهٔ شخص ثالث(ماه):\t3\n",
      "دنده‌ای:0\tاتوماتیک:1\n",
      " شماره نوع گیربکس:\t0\n",
      "ماشین نمایشگاهی است؟   0:خیر  1:بله\n",
      "0\n",
      "قادر به فروش به صورت اقساط هستید؟   0:خیر  1:بله\n",
      "0\n",
      "*********************************************\n",
      "قیمت پیشنهادی شما:375000000\n",
      "قیمت تخمین زده شده:  390000000\n",
      "اختلاف قیمت: 15000000\n",
      "قیمت پایین\n"
     ]
    }
   ],
   "source": [
    "import pandas as pd\n",
    "\n",
    "car_info = {}\n",
    "\n",
    "car_info['کارکرد'] = [input(\"کارکرد:\\t\")]\n",
    "car_info['مدل (سال تولید)'] = [input(\"مدل (سال تولید):\\t\")]\n",
    "s = \"0:سفید1:خاکستری\\t2:نقره‌ای\\t3:مشکی\\t4:نوک‌مدادی\"+\"\\n\"\n",
    "s+=\"5:بژ\\t6:سفید صدفی\\tنقرآبی:7\\tآلبالویی:8\"+\"\\n\"\n",
    "s+=\"قرمز:9\\t10:یشمی\\tآبی:11\\tدلفینی:12\"+\"\\n\"\n",
    "s+=\"بادمجانی:13\\tگیلاسی:14\\tسرمه‌ای\\t:طلایی:16\"+\"\\n\"\n",
    "s+=\"نارنجی:17\\tقهوه‌ای:18\\tعدسی:19\\tسبز:20\\tذغالی:21\"+\"\\n\"\n",
    "car_info['رنگ'] = [input(s+\"شماره رنگ ماشین:\\t\")]\n",
    "car_info['وضعیت موتور'] = [input(\"سالم:0\\tتعویض شده:1\\tنیاز به تعمیر:2\"+\"شماره وضعیت موتور:\\t\")]\n",
    "car_info['وضعیت شاسی‌ها'] = [input(\"سالم و پلمپ:\\0\\tضربه‌خورده:1\\tرنگ‌شده:2\\t شماره وضعیت شاسی:\")]\n",
    "s = \"سالم و بی‌خط و خش:0\\tخط و خش جزیی:1\\tرنگ‌شدگی:2\\tدوررنگ:3\\tصافکاری بی‌رنگ:4\\n\"\n",
    "s+=\"تمام‌رنگ:5\\tرنگ‌شدگی، در ۲ ناحیه:6\\tرنگ‌شدگی، در ۱ ناحیه:7\\tتصادفی:8\\n\"\n",
    "car_info['وضعیت بدنه'] = [input(s+\"شماره وضعیت بدنه:\\t\")]\n",
    "car_info['مهلت بیمهٔ شخص ثالث'] = [input(\"مهلت بیمهٔ شخص ثالث(ماه):\\t\")]\n",
    "car_info['گیربکس'] = [input(\"دنده‌ای:0\\tاتوماتیک:1\\n شماره نوع گیربکس:\\t\")]\n",
    "car_info['نمایشگاه'] = [input(\"ماشین نمایشگاهی است؟   0:خیر  1:بله\\n\")]\n",
    "car_info['قسط'] = [input(\"قادر به فروش به صورت اقساط هستید؟   0:خیر  1:بله\\n\")]\n",
    "print(\"*********************************************\")\n",
    "\n",
    "df = pd.DataFrame.from_dict(car_info)\n",
    "pred_price = int(round(model.predict(df)[0],2))*10000000\n",
    "\n",
    "price = int(input(\"قیمت پیشنهادی شما:\"))\n",
    "print(f'قیمت تخمین زده شده:  {pred_price}')\n",
    "diff_price = pred_price-price\n",
    "\n",
    "print(f'اختلاف قیمت: {abs(diff_price)}')\n",
    "\n",
    "\n",
    "if abs(diff_price)<10000000:\n",
    "     print(\"قیمت منصفانه است\")\n",
    "elif diff_price > 0:\n",
    "     print(\"قیمت پایین\")\n",
    "elif diff_price < 0:\n",
    "     print(\"قیمت بالا\")"
   ]
  },
  {
   "cell_type": "code",
   "execution_count": null,
   "id": "ee938ab5",
   "metadata": {},
   "outputs": [],
   "source": []
  }
 ],
 "metadata": {
  "kernelspec": {
   "display_name": "Python 3 (ipykernel)",
   "language": "python",
   "name": "python3"
  },
  "language_info": {
   "codemirror_mode": {
    "name": "ipython",
    "version": 3
   },
   "file_extension": ".py",
   "mimetype": "text/x-python",
   "name": "python",
   "nbconvert_exporter": "python",
   "pygments_lexer": "ipython3",
   "version": "3.10.6"
  }
 },
 "nbformat": 4,
 "nbformat_minor": 5
}
