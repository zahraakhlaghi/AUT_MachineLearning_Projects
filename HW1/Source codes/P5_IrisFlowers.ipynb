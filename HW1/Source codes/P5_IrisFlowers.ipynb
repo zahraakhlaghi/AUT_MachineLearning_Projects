{
  "cells": [
    {
      "cell_type": "code",
      "execution_count": 1,
      "metadata": {
        "id": "ge0C0a7Yq33X"
      },
      "outputs": [],
      "source": [
        "from sklearn.datasets import load_iris\n",
        "from sklearn.model_selection import train_test_split\n",
        "from sklearn.preprocessing import StandardScaler\n",
        "from sklearn.neighbors import KNeighborsClassifier\n",
        "from sklearn.metrics import accuracy_score"
      ]
    },
    {
      "cell_type": "markdown",
      "metadata": {
        "id": "4h-BzjIeee5c"
      },
      "source": [
        "# a)"
      ]
    },
    {
      "cell_type": "code",
      "execution_count": 2,
      "metadata": {
        "id": "IZ0i9TnRrvBT",
        "colab": {
          "base_uri": "https://localhost:8080/"
        },
        "outputId": "2bb97406-de3f-4f1c-c459-e067a5b59ad4"
      },
      "outputs": [
        {
          "output_type": "stream",
          "name": "stdout",
          "text": [
            "test: X: (30, 4)  Y: (30,)\n",
            "train: X: (120, 4)  Y: (120,)\n"
          ]
        }
      ],
      "source": [
        "iris = load_iris()\n",
        "x_train,x_test,y_train,y_test = train_test_split(iris.data,iris.target,test_size=0.2,random_state=42)\n",
        "print(\"test: X: {}  Y: {}\".format(x_test.shape, y_test.shape))\n",
        "print(\"train: X: {}  Y: {}\".format( x_train.shape, y_train.shape))"
      ]
    },
    {
      "cell_type": "markdown",
      "metadata": {
        "id": "8eiBIRA7ee5h"
      },
      "source": [
        "# b)"
      ]
    },
    {
      "cell_type": "code",
      "execution_count": 3,
      "metadata": {
        "id": "1gIdUHDlshZN"
      },
      "outputs": [],
      "source": [
        "scaler = StandardScaler()\n",
        "x_train_scaled = scaler.fit_transform(x_train)\n",
        "x_test_scaled = scaler.transform(x_test)"
      ]
    },
    {
      "cell_type": "markdown",
      "metadata": {
        "id": "EZ3XeL13ee5k"
      },
      "source": [
        "# c)"
      ]
    },
    {
      "cell_type": "code",
      "execution_count": 4,
      "metadata": {
        "colab": {
          "base_uri": "https://localhost:8080/"
        },
        "id": "JYcoogh1ujn5",
        "outputId": "d96c6be0-2fcb-4e5b-86ae-8b083e66e11c"
      },
      "outputs": [
        {
          "output_type": "stream",
          "name": "stdout",
          "text": [
            "K = 1, accuracy = 1.00\n",
            "K = 2, accuracy = 1.00\n",
            "K = 3, accuracy = 1.00\n",
            "K = 4, accuracy = 1.00\n",
            "K = 5, accuracy = 1.00\n",
            "K = 6, accuracy = 1.00\n",
            "K = 7, accuracy = 1.00\n",
            "K = 8, accuracy = 1.00\n",
            "K = 9, accuracy = 1.00\n",
            "K = 10, accuracy = 1.00\n",
            "K = 11, accuracy = 1.00\n",
            "K = 12, accuracy = 1.00\n",
            "K = 13, accuracy = 1.00\n",
            "K = 14, accuracy = 1.00\n",
            "K = 15, accuracy = 1.00\n",
            "K = 16, accuracy = 1.00\n",
            "K = 17, accuracy = 1.00\n",
            "K = 18, accuracy = 1.00\n",
            "K = 19, accuracy = 1.00\n",
            "K = 20, accuracy = 1.00\n",
            "\n",
            "Optimal value of K = 1 with accuracy = 1.00\n"
          ]
        }
      ],
      "source": [
        "accuracy_scores = []\n",
        "\n",
        "for k in range(1, 21):\n",
        "    knn = KNeighborsClassifier(n_neighbors=k)\n",
        "    knn.fit(x_train_scaled, y_train)\n",
        "    y_pred = knn.predict(x_test_scaled)\n",
        "    accuracy = accuracy_score(y_test, y_pred)\n",
        "    accuracy_scores.append(accuracy)\n",
        "    print(f\"K = {k}, accuracy = {accuracy:.2f}\")\n",
        "\n",
        "optimal_k = accuracy_scores.index(max(accuracy_scores)) + 1\n",
        "print(f\"\\nOptimal value of K = {optimal_k} with accuracy = {max(accuracy_scores):.2f}\")\n",
        "\n"
      ]
    }
  ],
  "metadata": {
    "colab": {
      "provenance": []
    },
    "kernelspec": {
      "display_name": "Python 3 (ipykernel)",
      "language": "python",
      "name": "python3"
    },
    "language_info": {
      "codemirror_mode": {
        "name": "ipython",
        "version": 3
      },
      "file_extension": ".py",
      "mimetype": "text/x-python",
      "name": "python",
      "nbconvert_exporter": "python",
      "pygments_lexer": "ipython3",
      "version": "3.10.6"
    }
  },
  "nbformat": 4,
  "nbformat_minor": 0
}