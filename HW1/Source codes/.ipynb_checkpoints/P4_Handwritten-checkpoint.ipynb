{
 "cells": [
  {
   "cell_type": "code",
   "execution_count": 19,
   "metadata": {
    "id": "iJmtwwCN9I_V"
   },
   "outputs": [],
   "source": [
    "from sklearn.datasets import load_digits\n",
    "from sklearn.model_selection import train_test_split\n",
    "from sklearn.preprocessing import MinMaxScaler\n",
    "from sklearn.neighbors import KNeighborsClassifier\n",
    "from sklearn.metrics import classification_report\n",
    "from sklearn.model_selection import cross_val_score, cross_val_predict\n",
    "import matplotlib.pyplot as plt\n",
    "from sklearn.metrics import accuracy_score, precision_score, recall_score, f1_score"
   ]
  },
  {
   "cell_type": "markdown",
   "metadata": {
    "id": "sDoiVFCzjf_A"
   },
   "source": [
    "# a)"
   ]
  },
  {
   "cell_type": "code",
   "execution_count": 24,
   "metadata": {
    "colab": {
     "base_uri": "https://localhost:8080/"
    },
    "id": "LXv3F-9g9lew",
    "outputId": "79ce5dbf-607b-4a6c-e140-c8d82695715b"
   },
   "outputs": [
    {
     "name": "stdout",
     "output_type": "stream",
     "text": [
      "test: X: (540, 64)  Y: (540,)\n",
      "train: X: (1257, 64)  Y: (1257,)\n"
     ]
    }
   ],
   "source": [
    "data = load_digits()\n",
    "x_train, x_test, y_train, y_test = train_test_split(data.data, data.target, test_size=0.3, random_state=42)\n",
    "print(\"test: X: {}  Y: {}\".format(x_test.shape, y_test.shape))\n",
    "print(\"train: X: {}  Y: {}\".format( x_train.shape, y_train.shape))"
   ]
  },
  {
   "cell_type": "markdown",
   "metadata": {
    "id": "sqFb-eW9jj38"
   },
   "source": [
    "# b)"
   ]
  },
  {
   "cell_type": "code",
   "execution_count": 25,
   "metadata": {
    "id": "3OMtTUX69kHw"
   },
   "outputs": [],
   "source": [
    "scaler = MinMaxScaler()\n",
    "\n",
    "x_train_scaled = scaler.fit_transform(x_train)\n",
    "x_test_scaled = scaler.transform(x_test)"
   ]
  },
  {
   "cell_type": "markdown",
   "metadata": {
    "id": "hlBiEwepjq-d"
   },
   "source": [
    "# c)"
   ]
  },
  {
   "cell_type": "code",
   "execution_count": 26,
   "metadata": {
    "colab": {
     "base_uri": "https://localhost:8080/"
    },
    "id": "sTooiyNKE6JE",
    "outputId": "dafa8712-61dc-4d34-d26e-83e9a0684681"
   },
   "outputs": [
    {
     "name": "stdout",
     "output_type": "stream",
     "text": [
      "              precision    recall  f1-score   support\n",
      "\n",
      "           0       1.00      1.00      1.00        53\n",
      "           1       1.00      1.00      1.00        50\n",
      "           2       1.00      1.00      1.00        47\n",
      "           3       0.98      1.00      0.99        54\n",
      "           4       0.98      1.00      0.99        60\n",
      "           5       0.98      0.98      0.98        66\n",
      "           6       1.00      1.00      1.00        53\n",
      "           7       1.00      1.00      1.00        55\n",
      "           8       1.00      1.00      1.00        43\n",
      "           9       0.98      0.95      0.97        59\n",
      "\n",
      "    accuracy                           0.99       540\n",
      "   macro avg       0.99      0.99      0.99       540\n",
      "weighted avg       0.99      0.99      0.99       540\n",
      "\n"
     ]
    }
   ],
   "source": [
    "knn = KNeighborsClassifier(n_neighbors=5)\n",
    "knn.fit(x_train_scaled, y_train)\n",
    "\n",
    "y_pred = knn.predict(x_test_scaled)\n",
    "\n",
    "report = classification_report(y_test, y_pred)\n",
    "print(report)"
   ]
  },
  {
   "cell_type": "markdown",
   "metadata": {
    "id": "J877r2pKnmC3"
   },
   "source": [
    "# d)"
   ]
  },
  {
   "cell_type": "code",
   "execution_count": 27,
   "metadata": {
    "colab": {
     "base_uri": "https://localhost:8080/"
    },
    "id": "DJ8XT5H_nc-t",
    "outputId": "69af9088-5619-484c-dbe6-0ca890c2daf6"
   },
   "outputs": [
    {
     "name": "stdout",
     "output_type": "stream",
     "text": [
      "Average Accuracy: 0.98 (+/- 0.01)\n",
      "Average Precision: 0.98 (+/- 0.01)\n",
      "Average Recall: 0.98 (+/- 0.01)\n",
      "Average F1-score: 0.98 (+/- 0.01)\n"
     ]
    }
   ],
   "source": [
    "knn = KNeighborsClassifier(n_neighbors=5)\n",
    "\n",
    "# Compute the cross-validation scores for the classifier\n",
    "cv_scores = cross_val_score(knn, x_train_scaled, y_train, cv=10)\n",
    "\n",
    "# Compute the cross-validation predictions for the classifier\n",
    "cv_predictions = cross_val_predict(knn, x_train_scaled, y_train, cv=10)\n",
    "\n",
    "# Compute the average performance metrics and their standard deviations\n",
    "avg_accuracy = accuracy_score(y_train, cv_predictions)\n",
    "std_accuracy = cv_scores.std()\n",
    "avg_precision = precision_score(y_train, cv_predictions, average='weighted')\n",
    "std_precision = cross_val_score(knn, x_train_scaled, y_train, cv=10, scoring='precision_weighted').std()\n",
    "avg_recall = recall_score(y_train, cv_predictions, average='weighted')\n",
    "std_recall = cross_val_score(knn, x_train_scaled, y_train, cv=10, scoring='recall_weighted').std()\n",
    "avg_f1 = f1_score(y_train, cv_predictions, average='weighted')\n",
    "std_f1 = cross_val_score(knn, x_train_scaled, y_train, cv=10, scoring='f1_weighted').std()\n",
    "\n",
    "print(\"Average Accuracy: {:.2f} (+/- {:.2f})\".format(avg_accuracy, std_accuracy))\n",
    "print(\"Average Precision: {:.2f} (+/- {:.2f})\".format(avg_precision, std_precision))\n",
    "print(\"Average Recall: {:.2f} (+/- {:.2f})\".format(avg_recall, std_recall))\n",
    "print(\"Average F1-score: {:.2f} (+/- {:.2f})\".format(avg_f1, std_f1))"
   ]
  },
  {
   "cell_type": "markdown",
   "metadata": {
    "id": "dQkC5dCvoRiX"
   },
   "source": [
    "# e)"
   ]
  },
  {
   "cell_type": "code",
   "execution_count": 28,
   "metadata": {
    "colab": {
     "base_uri": "https://localhost:8080/",
     "height": 295
    },
    "id": "jQM4v7h-Fg06",
    "outputId": "8e422c83-e6ae-4ef5-827e-1c892465a7df"
   },
   "outputs": [
    {
     "data": {
      "image/png": "[encoded data removed]",
      "text/plain": [
       "<Figure size 432x288 with 1 Axes>"
      ]
     },
     "metadata": {
      "needs_background": "light"
     },
     "output_type": "display_data"
    }
   ],
   "source": [
    "k_values = list(range(1, 31))\n",
    "\n",
    "# Initialize empty list to store cross-validation scores\n",
    "cv_scores = []\n",
    "\n",
    "# Perform 10-fold cross-validation for each K\n",
    "for k in k_values:\n",
    "    knn = KNeighborsClassifier(n_neighbors=k)\n",
    "    scores = cross_val_score(knn, x_train_scaled, y_train, cv=10)\n",
    "    cv_scores.append(scores.mean())\n",
    "\n",
    "# Plot the average cross-validation scores for each K\n",
    "plt.plot(k_values, cv_scores)\n",
    "plt.xlabel('K')\n",
    "plt.ylabel('Average Accuracy')\n",
    "plt.title('KNN Classifier Accuracy')\n",
    "plt.show()"
   ]
  }
 ],
 "metadata": {
  "colab": {
   "provenance": []
  },
  "kernelspec": {
   "display_name": "Python 3 (ipykernel)",
   "language": "python",
   "name": "python3"
  },
  "language_info": {
   "codemirror_mode": {
    "name": "ipython",
    "version": 3
   },
   "file_extension": ".py",
   "mimetype": "text/x-python",
   "name": "python",
   "nbconvert_exporter": "python",
   "pygments_lexer": "ipython3",
   "version": "3.10.6"
  }
 },
 "nbformat": 4,
 "nbformat_minor": 1
}
