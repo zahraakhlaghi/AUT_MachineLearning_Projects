{
 "cells": [
  {
   "cell_type": "code",
   "execution_count": 10,
   "metadata": {
    "id": "iJmtwwCN9I_V"
   },
   "outputs": [],
   "source": [
    "from sklearn.datasets import load_digits\n",
    "from sklearn.model_selection import train_test_split\n",
    "from sklearn.preprocessing import MinMaxScaler\n",
    "from sklearn.neighbors import KNeighborsClassifier\n",
    "from sklearn.metrics import classification_report\n",
    "from sklearn.model_selection import cross_val_score, cross_val_predict\n",
    "import matplotlib.pyplot as plt\n",
    "from sklearn.metrics import accuracy_score, precision_score, recall_score, f1_score"
   ]
  },
  {
   "cell_type": "markdown",
   "metadata": {
    "id": "sDoiVFCzjf_A"
   },
   "source": [
    "#a)"
   ]
  },
  {
   "cell_type": "code",
   "execution_count": 11,
   "metadata": {
    "colab": {
     "base_uri": "https://localhost:8080/"
    },
    "id": "LXv3F-9g9lew",
    "outputId": "4583ce28-1728-48bb-9ccb-bf7bc791a1f3"
   },
   "outputs": [
    {
     "name": "stdout",
     "output_type": "stream",
     "text": [
      "test: X: (540, 64)  Y: (540,)\n",
      "train: X: (1257, 64)  Y: (1257,)\n"
     ]
    }
   ],
   "source": [
    "data = load_digits()\n",
    "x_train, x_test, y_train, y_test = train_test_split(data.data, data.target, test_size=0.3, random_state=42)\n",
    "print(\"test: X: {}  Y: {}\".format(x_test.shape, y_test.shape))\n",
    "print(\"train: X: {}  Y: {}\".format( x_train.shape, y_train.shape))"
   ]
  },
  {
   "cell_type": "markdown",
   "metadata": {
    "id": "sqFb-eW9jj38"
   },
   "source": [
    "#b)"
   ]
  },
  {
   "cell_type": "code",
   "execution_count": 12,
   "metadata": {
    "id": "3OMtTUX69kHw"
   },
   "outputs": [],
   "source": [
    "scaler = MinMaxScaler()\n",
    "\n",
    "x_train_scaled = scaler.fit_transform(x_train)\n",
    "x_test_scaled = scaler.transform(x_test)"
   ]
  },
  {
   "cell_type": "markdown",
   "metadata": {
    "id": "hlBiEwepjq-d"
   },
   "source": [
    "#c)"
   ]
  },
  {
   "cell_type": "code",
   "execution_count": 13,
   "metadata": {
    "colab": {
     "base_uri": "https://localhost:8080/"
    },
    "id": "sTooiyNKE6JE",
    "outputId": "abcf5ecc-30d5-415c-dde2-8f47035b283f"
   },
   "outputs": [
    {
     "name": "stdout",
     "output_type": "stream",
     "text": [
      "              precision    recall  f1-score   support\n",
      "\n",
      "           0       1.00      1.00      1.00        53\n",
      "           1       1.00      1.00      1.00        50\n",
      "           2       1.00      1.00      1.00        47\n",
      "           3       0.98      1.00      0.99        54\n",
      "           4       0.98      1.00      0.99        60\n",
      "           5       0.98      0.98      0.98        66\n",
      "           6       1.00      1.00      1.00        53\n",
      "           7       1.00      1.00      1.00        55\n",
      "           8       1.00      1.00      1.00        43\n",
      "           9       0.98      0.95      0.97        59\n",
      "\n",
      "    accuracy                           0.99       540\n",
      "   macro avg       0.99      0.99      0.99       540\n",
      "weighted avg       0.99      0.99      0.99       540\n",
      "\n"
     ]
    }
   ],
   "source": [
    "knn = KNeighborsClassifier(n_neighbors=5)\n",
    "knn.fit(x_train_scaled, y_train)\n",
    "\n",
    "y_pred = knn.predict(x_test_scaled)\n",
    "\n",
    "report = classification_report(y_test, y_pred)\n",
    "print(report)"
   ]
  },
  {
   "cell_type": "markdown",
   "metadata": {
    "id": "J877r2pKnmC3"
   },
   "source": [
    "#d)"
   ]
  },
  {
   "cell_type": "code",
   "execution_count": 14,
   "metadata": {
    "colab": {
     "base_uri": "https://localhost:8080/"
    },
    "id": "DJ8XT5H_nc-t",
    "outputId": "804acef6-bdff-4de1-c837-7d665913258b"
   },
   "outputs": [
    {
     "name": "stdout",
     "output_type": "stream",
     "text": [
      "Average Accuracy: 0.98 (+/- 0.01)\n",
      "Average Precision: 0.98 (+/- 0.01)\n",
      "Average Recall: 0.98 (+/- 0.01)\n",
      "Average F1-score: 0.98 (+/- 0.01)\n"
     ]
    }
   ],
   "source": [
    "# Create a KNN classifier with K=5\n",
    "knn = KNeighborsClassifier(n_neighbors=5)\n",
    "\n",
    "# Compute the cross-validation scores for the classifier\n",
    "cv_scores = cross_val_score(knn, x_train_scaled, y_train, cv=10)\n",
    "\n",
    "# Compute the cross-validation predictions for the classifier\n",
    "cv_predictions = cross_val_predict(knn, x_train_scaled, y_train, cv=10)\n",
    "\n",
    "# Compute the average performance metrics and their standard deviations\n",
    "avg_accuracy = accuracy_score(y_train, cv_predictions)\n",
    "std_accuracy = cv_scores.std()\n",
    "avg_precision = precision_score(y_train, cv_predictions, average='weighted')\n",
    "std_precision = cross_val_score(knn, x_train_scaled, y_train, cv=10, scoring='precision_weighted').std()\n",
    "avg_recall = recall_score(y_train, cv_predictions, average='weighted')\n",
    "std_recall = cross_val_score(knn, x_train_scaled, y_train, cv=10, scoring='recall_weighted').std()\n",
    "avg_f1 = f1_score(y_train, cv_predictions, average='weighted')\n",
    "std_f1 = cross_val_score(knn, x_train_scaled, y_train, cv=10, scoring='f1_weighted').std()\n",
    "\n",
    "# Print the average performance metrics and their standard deviations\n",
    "print(\"Average Accuracy: {:.2f} (+/- {:.2f})\".format(avg_accuracy, std_accuracy))\n",
    "print(\"Average Precision: {:.2f} (+/- {:.2f})\".format(avg_precision, std_precision))\n",
    "print(\"Average Recall: {:.2f} (+/- {:.2f})\".format(avg_recall, std_recall))\n",
    "print(\"Average F1-score: {:.2f} (+/- {:.2f})\".format(avg_f1, std_f1))"
   ]
  },
  {
   "cell_type": "markdown",
   "metadata": {
    "id": "dQkC5dCvoRiX"
   },
   "source": [
    "#e)"
   ]
  },
  {
   "cell_type": "code",
   "execution_count": 15,
   "metadata": {
    "colab": {
     "base_uri": "https://localhost:8080/",
     "height": 295
    },
    "id": "jQM4v7h-Fg06",
    "outputId": "839a7e67-a9d3-458a-bd7e-3e5fddd8285a"
   },
   "outputs": [
    {
     "data": {
      "image/png": "[encoded data removed]",
      "text/plain": [
       "<Figure size 432x288 with 1 Axes>"
      ]
     },
     "metadata": {
      "needs_background": "light"
     },
     "output_type": "display_data"
    }
   ],
   "source": [
    "import numpy as np\n",
    "\n",
    "avg_accuracy = []\n",
    "\n",
    "k_values = range(1, 31)\n",
    "\n",
    "# Iterate over each value of K\n",
    "for k in k_values:\n",
    "    \n",
    "    knn = KNeighborsClassifier(n_neighbors=k)\n",
    "    cv_scores = cross_val_score(knn, x_train_scaled, y_train, cv=10)\n",
    "    avg_score = cv_scores.mean()\n",
    "    avg_accuracy.append(avg_score)\n",
    "\n",
    "\n",
    "plt.plot(k_values, avg_accuracy, 'o-')\n",
    "plt.xlabel('Number of Neighbors ')\n",
    "plt.ylabel('Average Accuracy')\n",
    "plt.title('Accuracy vs. Number of Neighbors')\n",
    "\n",
    "elbow_k = np.argmin(np.abs(np.gradient(avg_accuracy)))\n",
    "plt.axvline(x=k_values[elbow_k], linestyle='--', color='r', label=f'Elbow at K={k_values[elbow_k]}')\n",
    "plt.legend()\n",
    "\n",
    "plt.show()"
   ]
  }
 ],
 "metadata": {
  "colab": {
   "provenance": []
  },
  "kernelspec": {
   "display_name": "Python 3 (ipykernel)",
   "language": "python",
   "name": "python3"
  },
  "language_info": {
   "codemirror_mode": {
    "name": "ipython",
    "version": 3
   },
   "file_extension": ".py",
   "mimetype": "text/x-python",
   "name": "python",
   "nbconvert_exporter": "python",
   "pygments_lexer": "ipython3",
   "version": "3.10.6"
  }
 },
 "nbformat": 4,
 "nbformat_minor": 1
}
